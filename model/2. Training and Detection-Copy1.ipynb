{
 "cells": [
  {
   "cell_type": "markdown",
   "metadata": {
    "id": "QUANWN3rpfC9"
   },
   "source": [
    "# 0. Setup Paths"
   ]
  },
  {
   "cell_type": "code",
   "execution_count": 53,
   "metadata": {
    "id": "146BB11JpfDA"
   },
   "outputs": [],
   "source": [
    "import os"
   ]
  },
  {
   "cell_type": "code",
   "execution_count": 82,
   "metadata": {
    "id": "42hJEdo_pfDB"
   },
   "outputs": [],
   "source": [
    "CUSTOM_MODEL_NAME = 'mask_faster_R_CNN_2' \n",
    "PRETRAINED_MODEL_NAME = 'ssd_mobilenet_v2_fpnlite_640x640_coco17_tpu-8'\n",
    "PRETRAINED_MODEL_URL = 'http://download.tensorflow.org/models/object_detection/tf2/20200711/ssd_mobilenet_v2_fpnlite_640x640_coco17_tpu-8.tar.gz'\n",
    "TF_RECORD_SCRIPT_NAME = 'generate_tfrecord.py'\n",
    "LABEL_MAP_NAME = 'label_map.pbtxt'"
   ]
  },
  {
   "cell_type": "code",
   "execution_count": 83,
   "metadata": {
    "id": "hbPhYVy_pfDB"
   },
   "outputs": [],
   "source": [
    "paths = {\n",
    "    'WORKSPACE_PATH': os.path.join('Tensorflow', 'workspace'),\n",
    "    'SCRIPTS_PATH': os.path.join('Tensorflow','scripts'),\n",
    "    'APIMODEL_PATH': os.path.join('Tensorflow','models'),\n",
    "    'ANNOTATION_PATH': os.path.join('Tensorflow', 'workspace','annotations'),\n",
    "    'IMAGE_PATH': os.path.join('Tensorflow', 'workspace','images'),\n",
    "    'MODEL_PATH': os.path.join('Tensorflow', 'workspace','models'),\n",
    "    'PRETRAINED_MODEL_PATH': os.path.join('Tensorflow', 'workspace','pre-trained-models'),\n",
    "    'CHECKPOINT_PATH': os.path.join('Tensorflow', 'workspace','models',CUSTOM_MODEL_NAME), \n",
    "    'OUTPUT_PATH': os.path.join('Tensorflow', 'workspace','models',CUSTOM_MODEL_NAME, 'export'), \n",
    "    'TFJS_PATH':os.path.join('Tensorflow', 'workspace','models',CUSTOM_MODEL_NAME, 'tfjsexport'), \n",
    "    'TFLITE_PATH':os.path.join('Tensorflow', 'workspace','models',CUSTOM_MODEL_NAME, 'tfliteexport'), \n",
    "    'PROTOC_PATH':os.path.join('Tensorflow','protoc')\n",
    " }"
   ]
  },
  {
   "cell_type": "code",
   "execution_count": null,
   "metadata": {},
   "outputs": [],
   "source": []
  },
  {
   "cell_type": "code",
   "execution_count": 84,
   "metadata": {
    "id": "LwhWZMI0pfDC"
   },
   "outputs": [],
   "source": [
    "files = {\n",
    "    'PIPELINE_CONFIG':os.path.join('Tensorflow', 'workspace','models', CUSTOM_MODEL_NAME, 'pipeline.config'),\n",
    "    'TF_RECORD_SCRIPT': os.path.join(paths['SCRIPTS_PATH'], TF_RECORD_SCRIPT_NAME), \n",
    "    'LABELMAP': os.path.join(paths['ANNOTATION_PATH'], LABEL_MAP_NAME)\n",
    "}"
   ]
  },
  {
   "cell_type": "code",
   "execution_count": 85,
   "metadata": {
    "id": "HR-TfDGrpfDC"
   },
   "outputs": [
    {
     "name": "stdout",
     "output_type": "stream",
     "text": [
      "/bin/bash: /home/chanyu/anaconda3/lib/libtinfo.so.6: no version information available (required by /bin/bash)\n",
      "/bin/bash: /home/chanyu/anaconda3/lib/libtinfo.so.6: no version information available (required by /bin/bash)\n",
      "/bin/bash: /home/chanyu/anaconda3/lib/libtinfo.so.6: no version information available (required by /bin/bash)\n",
      "/bin/bash: /home/chanyu/anaconda3/lib/libtinfo.so.6: no version information available (required by /bin/bash)\n"
     ]
    }
   ],
   "source": [
    "for path in paths.values():\n",
    "    if not os.path.exists(path):\n",
    "        !mkdir -p {path}"
   ]
  },
  {
   "cell_type": "markdown",
   "metadata": {
    "id": "OLU-rs_ipfDE"
   },
   "source": [
    "# 1. Download TF Models Pretrained Models from Tensorflow Model Zoo and Install TFOD"
   ]
  },
  {
   "cell_type": "code",
   "execution_count": null,
   "metadata": {},
   "outputs": [],
   "source": [
    "# https://www.tensorflow.org/install/source_windows"
   ]
  },
  {
   "cell_type": "code",
   "execution_count": null,
   "metadata": {
    "id": "K-Cmz2edpfDE",
    "scrolled": true
   },
   "outputs": [],
   "source": [
    "if os.name=='nt':\n",
    "    !pip install wget\n",
    "    import wget"
   ]
  },
  {
   "cell_type": "code",
   "execution_count": 62,
   "metadata": {
    "id": "iA1DIq5OpfDE"
   },
   "outputs": [],
   "source": [
    "if not os.path.exists(os.path.join(paths['APIMODEL_PATH'], 'research', 'object_detection')):\n",
    "    !git clone https://github.com/tensorflow/models {paths['APIMODEL_PATH']}"
   ]
  },
  {
   "cell_type": "code",
   "execution_count": 63,
   "metadata": {
    "id": "rJjMHbnDs3Tv"
   },
   "outputs": [
    {
     "name": "stdout",
     "output_type": "stream",
     "text": [
      "/bin/bash: /home/chanyu/anaconda3/lib/libtinfo.so.6: no version information available (required by /bin/bash)\n",
      "E: Could not open lock file /var/lib/dpkg/lock-frontend - open (13: Permission denied)\n",
      "E: Unable to acquire the dpkg frontend lock (/var/lib/dpkg/lock-frontend), are you root?\n",
      "/bin/bash: /home/chanyu/anaconda3/lib/libtinfo.so.6: no version information available (required by /bin/bash)\n",
      "bash: /home/chanyu/anaconda3/lib/libtinfo.so.6: no version information available (required by bash)\n",
      "bash: /home/chanyu/anaconda3/lib/libtinfo.so.6: no version information available (required by bash)\n",
      "bash: /home/chanyu/anaconda3/lib/libtinfo.so.6: no version information available (required by bash)\n",
      "bash: /home/chanyu/anaconda3/lib/libtinfo.so.6: no version information available (required by bash)\n",
      "bash: /home/chanyu/anaconda3/lib/libtinfo.so.6: no version information available (required by bash)\n",
      "bash: /home/chanyu/anaconda3/lib/libtinfo.so.6: no version information available (required by bash)\n",
      "bash: /home/chanyu/anaconda3/lib/libtinfo.so.6: no version information available (required by bash)\n",
      "bash: /home/chanyu/anaconda3/lib/libtinfo.so.6: no version information available (required by bash)\n",
      "bash: /home/chanyu/anaconda3/lib/libtinfo.so.6: no version information available (required by bash)\n",
      "bash: /home/chanyu/anaconda3/lib/libtinfo.so.6: no version information available (required by bash)\n",
      "Processing /home/chanyu/Desktop/gesture_detection_3.8/TFODCourse/Tensorflow/models/research\n",
      "\u001b[33m  DEPRECATION: A future pip version will change local packages to be built in-place without first copying to a temporary directory. We recommend you use --use-feature=in-tree-build to test your packages with this new behavior before it becomes the default.\n",
      "   pip 21.3 will remove support for this functionality. You can find discussion regarding this at https://github.com/pypa/pip/issues/7555.\u001b[0m\n",
      "Requirement already satisfied: avro-python3 in /home/chanyu/.pyenv/versions/3.8.10/lib/python3.8/site-packages (from object-detection==0.1) (1.10.2)\n",
      "Requirement already satisfied: apache-beam in /home/chanyu/.pyenv/versions/3.8.10/lib/python3.8/site-packages (from object-detection==0.1) (2.43.0)\n",
      "Requirement already satisfied: pillow in /home/chanyu/.pyenv/versions/3.8.10/lib/python3.8/site-packages (from object-detection==0.1) (9.3.0)\n",
      "Requirement already satisfied: lxml in /home/chanyu/.pyenv/versions/3.8.10/lib/python3.8/site-packages (from object-detection==0.1) (4.9.1)\n",
      "Requirement already satisfied: matplotlib in /home/chanyu/.pyenv/versions/3.8.10/lib/python3.8/site-packages (from object-detection==0.1) (3.2.0)\n",
      "Requirement already satisfied: Cython in /home/chanyu/.pyenv/versions/3.8.10/lib/python3.8/site-packages (from object-detection==0.1) (0.29.32)\n",
      "Requirement already satisfied: contextlib2 in /home/chanyu/.pyenv/versions/3.8.10/lib/python3.8/site-packages (from object-detection==0.1) (21.6.0)\n",
      "Requirement already satisfied: tf-slim in /home/chanyu/.pyenv/versions/3.8.10/lib/python3.8/site-packages (from object-detection==0.1) (1.1.0)\n",
      "Requirement already satisfied: six in /home/chanyu/.pyenv/versions/3.8.10/lib/python3.8/site-packages (from object-detection==0.1) (1.16.0)\n",
      "Requirement already satisfied: pycocotools in /home/chanyu/.pyenv/versions/3.8.10/lib/python3.8/site-packages (from object-detection==0.1) (2.0.6)\n",
      "Requirement already satisfied: lvis in /home/chanyu/.pyenv/versions/3.8.10/lib/python3.8/site-packages (from object-detection==0.1) (0.5.3)\n",
      "Requirement already satisfied: scipy in /home/chanyu/.pyenv/versions/3.8.10/lib/python3.8/site-packages (from object-detection==0.1) (1.9.3)\n",
      "Requirement already satisfied: pandas in /home/chanyu/.pyenv/versions/3.8.10/lib/python3.8/site-packages (from object-detection==0.1) (1.5.2)\n",
      "Requirement already satisfied: tf-models-official>=2.5.1 in /home/chanyu/.pyenv/versions/3.8.10/lib/python3.8/site-packages (from object-detection==0.1) (2.11.0)\n",
      "Requirement already satisfied: tensorflow_io in /home/chanyu/.pyenv/versions/3.8.10/lib/python3.8/site-packages (from object-detection==0.1) (0.28.0)\n",
      "Requirement already satisfied: keras in /home/chanyu/.pyenv/versions/3.8.10/lib/python3.8/site-packages (from object-detection==0.1) (2.11.0)\n",
      "Requirement already satisfied: pyparsing==2.4.7 in /home/chanyu/.pyenv/versions/3.8.10/lib/python3.8/site-packages (from object-detection==0.1) (2.4.7)\n",
      "Requirement already satisfied: sacrebleu<=2.2.0 in /home/chanyu/.pyenv/versions/3.8.10/lib/python3.8/site-packages (from object-detection==0.1) (2.2.0)\n",
      "Requirement already satisfied: numpy>=1.17 in /home/chanyu/.pyenv/versions/3.8.10/lib/python3.8/site-packages (from sacrebleu<=2.2.0->object-detection==0.1) (1.22.4)\n",
      "Requirement already satisfied: tabulate>=0.8.9 in /home/chanyu/.pyenv/versions/3.8.10/lib/python3.8/site-packages (from sacrebleu<=2.2.0->object-detection==0.1) (0.9.0)\n",
      "Requirement already satisfied: portalocker in /home/chanyu/.pyenv/versions/3.8.10/lib/python3.8/site-packages (from sacrebleu<=2.2.0->object-detection==0.1) (2.6.0)\n",
      "Requirement already satisfied: regex in /home/chanyu/.pyenv/versions/3.8.10/lib/python3.8/site-packages (from sacrebleu<=2.2.0->object-detection==0.1) (2022.10.31)\n",
      "Requirement already satisfied: colorama in /home/chanyu/.pyenv/versions/3.8.10/lib/python3.8/site-packages (from sacrebleu<=2.2.0->object-detection==0.1) (0.4.6)\n",
      "Requirement already satisfied: google-api-python-client>=1.6.7 in /home/chanyu/.pyenv/versions/3.8.10/lib/python3.8/site-packages (from tf-models-official>=2.5.1->object-detection==0.1) (2.68.0)\n",
      "Requirement already satisfied: oauth2client in /home/chanyu/.pyenv/versions/3.8.10/lib/python3.8/site-packages (from tf-models-official>=2.5.1->object-detection==0.1) (4.1.3)\n",
      "Requirement already satisfied: sentencepiece in /home/chanyu/.pyenv/versions/3.8.10/lib/python3.8/site-packages (from tf-models-official>=2.5.1->object-detection==0.1) (0.1.97)\n",
      "Requirement already satisfied: tensorflow-model-optimization>=0.4.1 in /home/chanyu/.pyenv/versions/3.8.10/lib/python3.8/site-packages (from tf-models-official>=2.5.1->object-detection==0.1) (0.7.3)\n",
      "Requirement already satisfied: tensorflow-text~=2.11.0 in /home/chanyu/.pyenv/versions/3.8.10/lib/python3.8/site-packages (from tf-models-official>=2.5.1->object-detection==0.1) (2.11.0)\n",
      "Requirement already satisfied: kaggle>=1.3.9 in /home/chanyu/.pyenv/versions/3.8.10/lib/python3.8/site-packages (from tf-models-official>=2.5.1->object-detection==0.1) (1.5.12)\n",
      "Requirement already satisfied: seqeval in /home/chanyu/.pyenv/versions/3.8.10/lib/python3.8/site-packages (from tf-models-official>=2.5.1->object-detection==0.1) (1.2.2)\n",
      "Requirement already satisfied: tensorflow-datasets in /home/chanyu/.pyenv/versions/3.8.10/lib/python3.8/site-packages (from tf-models-official>=2.5.1->object-detection==0.1) (4.7.0)\n",
      "Requirement already satisfied: tensorflow-addons in /home/chanyu/.pyenv/versions/3.8.10/lib/python3.8/site-packages (from tf-models-official>=2.5.1->object-detection==0.1) (0.18.0)\n",
      "Requirement already satisfied: tensorflow-hub>=0.6.0 in /home/chanyu/.pyenv/versions/3.8.10/lib/python3.8/site-packages (from tf-models-official>=2.5.1->object-detection==0.1) (0.12.0)\n",
      "Requirement already satisfied: immutabledict in /home/chanyu/.pyenv/versions/3.8.10/lib/python3.8/site-packages (from tf-models-official>=2.5.1->object-detection==0.1) (2.2.3)\n",
      "Requirement already satisfied: pyyaml<6.0,>=5.1 in /home/chanyu/.pyenv/versions/3.8.10/lib/python3.8/site-packages (from tf-models-official>=2.5.1->object-detection==0.1) (5.4.1)\n",
      "Requirement already satisfied: gin-config in /home/chanyu/.pyenv/versions/3.8.10/lib/python3.8/site-packages (from tf-models-official>=2.5.1->object-detection==0.1) (0.5.0)\n",
      "Requirement already satisfied: psutil>=5.4.3 in /home/chanyu/.pyenv/versions/3.8.10/lib/python3.8/site-packages (from tf-models-official>=2.5.1->object-detection==0.1) (5.9.4)\n",
      "Requirement already satisfied: py-cpuinfo>=3.3.0 in /home/chanyu/.pyenv/versions/3.8.10/lib/python3.8/site-packages (from tf-models-official>=2.5.1->object-detection==0.1) (9.0.0)\n",
      "Requirement already satisfied: tensorflow~=2.11.0 in /home/chanyu/.pyenv/versions/3.8.10/lib/python3.8/site-packages (from tf-models-official>=2.5.1->object-detection==0.1) (2.11.0)\n",
      "Requirement already satisfied: opencv-python-headless==4.5.2.52 in /home/chanyu/.pyenv/versions/3.8.10/lib/python3.8/site-packages (from tf-models-official>=2.5.1->object-detection==0.1) (4.5.2.52)\n",
      "Requirement already satisfied: google-auth-httplib2>=0.1.0 in /home/chanyu/.pyenv/versions/3.8.10/lib/python3.8/site-packages (from google-api-python-client>=1.6.7->tf-models-official>=2.5.1->object-detection==0.1) (0.1.0)\n",
      "Requirement already satisfied: google-api-core!=2.0.*,!=2.1.*,!=2.2.*,!=2.3.0,<3.0.0dev,>=1.31.5 in /home/chanyu/.pyenv/versions/3.8.10/lib/python3.8/site-packages (from google-api-python-client>=1.6.7->tf-models-official>=2.5.1->object-detection==0.1) (2.11.0)\n",
      "Requirement already satisfied: uritemplate<5,>=3.0.1 in /home/chanyu/.pyenv/versions/3.8.10/lib/python3.8/site-packages (from google-api-python-client>=1.6.7->tf-models-official>=2.5.1->object-detection==0.1) (4.1.1)\n",
      "Requirement already satisfied: httplib2<1dev,>=0.15.0 in /home/chanyu/.pyenv/versions/3.8.10/lib/python3.8/site-packages (from google-api-python-client>=1.6.7->tf-models-official>=2.5.1->object-detection==0.1) (0.20.4)\n",
      "Requirement already satisfied: google-auth<3.0.0dev,>=1.19.0 in /home/chanyu/.pyenv/versions/3.8.10/lib/python3.8/site-packages (from google-api-python-client>=1.6.7->tf-models-official>=2.5.1->object-detection==0.1) (2.15.0)\n",
      "Requirement already satisfied: protobuf!=3.20.0,!=3.20.1,!=4.21.0,!=4.21.1,!=4.21.2,!=4.21.3,!=4.21.4,!=4.21.5,<5.0.0dev,>=3.19.5 in /home/chanyu/.pyenv/versions/3.8.10/lib/python3.8/site-packages (from google-api-core!=2.0.*,!=2.1.*,!=2.2.*,!=2.3.0,<3.0.0dev,>=1.31.5->google-api-python-client>=1.6.7->tf-models-official>=2.5.1->object-detection==0.1) (3.19.6)\n",
      "Requirement already satisfied: requests<3.0.0dev,>=2.18.0 in /home/chanyu/.pyenv/versions/3.8.10/lib/python3.8/site-packages (from google-api-core!=2.0.*,!=2.1.*,!=2.2.*,!=2.3.0,<3.0.0dev,>=1.31.5->google-api-python-client>=1.6.7->tf-models-official>=2.5.1->object-detection==0.1) (2.28.1)\n",
      "Requirement already satisfied: googleapis-common-protos<2.0dev,>=1.56.2 in /home/chanyu/.pyenv/versions/3.8.10/lib/python3.8/site-packages (from google-api-core!=2.0.*,!=2.1.*,!=2.2.*,!=2.3.0,<3.0.0dev,>=1.31.5->google-api-python-client>=1.6.7->tf-models-official>=2.5.1->object-detection==0.1) (1.57.0)\n"
     ]
    },
    {
     "name": "stdout",
     "output_type": "stream",
     "text": [
      "Requirement already satisfied: cachetools<6.0,>=2.0.0 in /home/chanyu/.pyenv/versions/3.8.10/lib/python3.8/site-packages (from google-auth<3.0.0dev,>=1.19.0->google-api-python-client>=1.6.7->tf-models-official>=2.5.1->object-detection==0.1) (5.2.0)\n",
      "Requirement already satisfied: pyasn1-modules>=0.2.1 in /home/chanyu/.pyenv/versions/3.8.10/lib/python3.8/site-packages (from google-auth<3.0.0dev,>=1.19.0->google-api-python-client>=1.6.7->tf-models-official>=2.5.1->object-detection==0.1) (0.2.8)\n",
      "Requirement already satisfied: rsa<5,>=3.1.4 in /home/chanyu/.pyenv/versions/3.8.10/lib/python3.8/site-packages (from google-auth<3.0.0dev,>=1.19.0->google-api-python-client>=1.6.7->tf-models-official>=2.5.1->object-detection==0.1) (4.9)\n",
      "Requirement already satisfied: certifi in /home/chanyu/.pyenv/versions/3.8.10/lib/python3.8/site-packages (from kaggle>=1.3.9->tf-models-official>=2.5.1->object-detection==0.1) (2022.9.24)\n",
      "Requirement already satisfied: python-dateutil in /home/chanyu/.pyenv/versions/3.8.10/lib/python3.8/site-packages (from kaggle>=1.3.9->tf-models-official>=2.5.1->object-detection==0.1) (2.8.2)\n",
      "Requirement already satisfied: tqdm in /home/chanyu/.pyenv/versions/3.8.10/lib/python3.8/site-packages (from kaggle>=1.3.9->tf-models-official>=2.5.1->object-detection==0.1) (4.64.1)\n",
      "Requirement already satisfied: python-slugify in /home/chanyu/.pyenv/versions/3.8.10/lib/python3.8/site-packages (from kaggle>=1.3.9->tf-models-official>=2.5.1->object-detection==0.1) (7.0.0)\n",
      "Requirement already satisfied: urllib3 in /home/chanyu/.pyenv/versions/3.8.10/lib/python3.8/site-packages (from kaggle>=1.3.9->tf-models-official>=2.5.1->object-detection==0.1) (1.26.13)\n",
      "Requirement already satisfied: pytz>=2020.1 in /home/chanyu/.pyenv/versions/3.8.10/lib/python3.8/site-packages (from pandas->object-detection==0.1) (2022.6)\n",
      "Requirement already satisfied: pyasn1<0.5.0,>=0.4.6 in /home/chanyu/.pyenv/versions/3.8.10/lib/python3.8/site-packages (from pyasn1-modules>=0.2.1->google-auth<3.0.0dev,>=1.19.0->google-api-python-client>=1.6.7->tf-models-official>=2.5.1->object-detection==0.1) (0.4.8)\n",
      "Requirement already satisfied: charset-normalizer<3,>=2 in /home/chanyu/.pyenv/versions/3.8.10/lib/python3.8/site-packages (from requests<3.0.0dev,>=2.18.0->google-api-core!=2.0.*,!=2.1.*,!=2.2.*,!=2.3.0,<3.0.0dev,>=1.31.5->google-api-python-client>=1.6.7->tf-models-official>=2.5.1->object-detection==0.1) (2.1.1)\n",
      "Requirement already satisfied: idna<4,>=2.5 in /home/chanyu/.pyenv/versions/3.8.10/lib/python3.8/site-packages (from requests<3.0.0dev,>=2.18.0->google-api-core!=2.0.*,!=2.1.*,!=2.2.*,!=2.3.0,<3.0.0dev,>=1.31.5->google-api-python-client>=1.6.7->tf-models-official>=2.5.1->object-detection==0.1) (3.4)\n",
      "Requirement already satisfied: grpcio<2.0,>=1.24.3 in /home/chanyu/.pyenv/versions/3.8.10/lib/python3.8/site-packages (from tensorflow~=2.11.0->tf-models-official>=2.5.1->object-detection==0.1) (1.51.1)\n",
      "Requirement already satisfied: libclang>=13.0.0 in /home/chanyu/.pyenv/versions/3.8.10/lib/python3.8/site-packages (from tensorflow~=2.11.0->tf-models-official>=2.5.1->object-detection==0.1) (14.0.6)\n",
      "Requirement already satisfied: setuptools in /home/chanyu/.pyenv/versions/3.8.10/lib/python3.8/site-packages (from tensorflow~=2.11.0->tf-models-official>=2.5.1->object-detection==0.1) (56.0.0)\n",
      "Requirement already satisfied: typing-extensions>=3.6.6 in /home/chanyu/.pyenv/versions/3.8.10/lib/python3.8/site-packages (from tensorflow~=2.11.0->tf-models-official>=2.5.1->object-detection==0.1) (4.4.0)\n",
      "Requirement already satisfied: absl-py>=1.0.0 in /home/chanyu/.pyenv/versions/3.8.10/lib/python3.8/site-packages (from tensorflow~=2.11.0->tf-models-official>=2.5.1->object-detection==0.1) (1.3.0)\n",
      "Requirement already satisfied: h5py>=2.9.0 in /home/chanyu/.pyenv/versions/3.8.10/lib/python3.8/site-packages (from tensorflow~=2.11.0->tf-models-official>=2.5.1->object-detection==0.1) (3.7.0)\n",
      "Requirement already satisfied: tensorflow-io-gcs-filesystem>=0.23.1 in /home/chanyu/.pyenv/versions/3.8.10/lib/python3.8/site-packages (from tensorflow~=2.11.0->tf-models-official>=2.5.1->object-detection==0.1) (0.28.0)\n",
      "Requirement already satisfied: astunparse>=1.6.0 in /home/chanyu/.pyenv/versions/3.8.10/lib/python3.8/site-packages (from tensorflow~=2.11.0->tf-models-official>=2.5.1->object-detection==0.1) (1.6.3)\n",
      "Requirement already satisfied: opt-einsum>=2.3.2 in /home/chanyu/.pyenv/versions/3.8.10/lib/python3.8/site-packages (from tensorflow~=2.11.0->tf-models-official>=2.5.1->object-detection==0.1) (3.3.0)\n",
      "Requirement already satisfied: flatbuffers>=2.0 in /home/chanyu/.pyenv/versions/3.8.10/lib/python3.8/site-packages (from tensorflow~=2.11.0->tf-models-official>=2.5.1->object-detection==0.1) (22.11.23)\n",
      "Requirement already satisfied: packaging in /home/chanyu/.pyenv/versions/3.8.10/lib/python3.8/site-packages (from tensorflow~=2.11.0->tf-models-official>=2.5.1->object-detection==0.1) (21.3)\n",
      "Requirement already satisfied: termcolor>=1.1.0 in /home/chanyu/.pyenv/versions/3.8.10/lib/python3.8/site-packages (from tensorflow~=2.11.0->tf-models-official>=2.5.1->object-detection==0.1) (2.1.1)\n",
      "Requirement already satisfied: tensorboard<2.12,>=2.11 in /home/chanyu/.pyenv/versions/3.8.10/lib/python3.8/site-packages (from tensorflow~=2.11.0->tf-models-official>=2.5.1->object-detection==0.1) (2.11.0)\n",
      "Requirement already satisfied: wrapt>=1.11.0 in /home/chanyu/.pyenv/versions/3.8.10/lib/python3.8/site-packages (from tensorflow~=2.11.0->tf-models-official>=2.5.1->object-detection==0.1) (1.14.1)\n",
      "Requirement already satisfied: tensorflow-estimator<2.12,>=2.11.0 in /home/chanyu/.pyenv/versions/3.8.10/lib/python3.8/site-packages (from tensorflow~=2.11.0->tf-models-official>=2.5.1->object-detection==0.1) (2.11.0)\n",
      "Requirement already satisfied: gast<=0.4.0,>=0.2.1 in /home/chanyu/.pyenv/versions/3.8.10/lib/python3.8/site-packages (from tensorflow~=2.11.0->tf-models-official>=2.5.1->object-detection==0.1) (0.4.0)\n",
      "Requirement already satisfied: google-pasta>=0.1.1 in /home/chanyu/.pyenv/versions/3.8.10/lib/python3.8/site-packages (from tensorflow~=2.11.0->tf-models-official>=2.5.1->object-detection==0.1) (0.2.0)\n",
      "Requirement already satisfied: wheel<1.0,>=0.23.0 in /home/chanyu/.pyenv/versions/3.8.10/lib/python3.8/site-packages (from astunparse>=1.6.0->tensorflow~=2.11.0->tf-models-official>=2.5.1->object-detection==0.1) (0.38.4)\n",
      "Requirement already satisfied: markdown>=2.6.8 in /home/chanyu/.pyenv/versions/3.8.10/lib/python3.8/site-packages (from tensorboard<2.12,>=2.11->tensorflow~=2.11.0->tf-models-official>=2.5.1->object-detection==0.1) (3.4.1)\n",
      "Requirement already satisfied: werkzeug>=1.0.1 in /home/chanyu/.pyenv/versions/3.8.10/lib/python3.8/site-packages (from tensorboard<2.12,>=2.11->tensorflow~=2.11.0->tf-models-official>=2.5.1->object-detection==0.1) (2.2.2)\n",
      "Requirement already satisfied: tensorboard-data-server<0.7.0,>=0.6.0 in /home/chanyu/.pyenv/versions/3.8.10/lib/python3.8/site-packages (from tensorboard<2.12,>=2.11->tensorflow~=2.11.0->tf-models-official>=2.5.1->object-detection==0.1) (0.6.1)\n",
      "Requirement already satisfied: tensorboard-plugin-wit>=1.6.0 in /home/chanyu/.pyenv/versions/3.8.10/lib/python3.8/site-packages (from tensorboard<2.12,>=2.11->tensorflow~=2.11.0->tf-models-official>=2.5.1->object-detection==0.1) (1.8.1)\n",
      "Requirement already satisfied: google-auth-oauthlib<0.5,>=0.4.1 in /home/chanyu/.pyenv/versions/3.8.10/lib/python3.8/site-packages (from tensorboard<2.12,>=2.11->tensorflow~=2.11.0->tf-models-official>=2.5.1->object-detection==0.1) (0.4.6)\n",
      "Requirement already satisfied: requests-oauthlib>=0.7.0 in /home/chanyu/.pyenv/versions/3.8.10/lib/python3.8/site-packages (from google-auth-oauthlib<0.5,>=0.4.1->tensorboard<2.12,>=2.11->tensorflow~=2.11.0->tf-models-official>=2.5.1->object-detection==0.1) (1.3.1)\n",
      "Requirement already satisfied: importlib-metadata>=4.4 in /home/chanyu/.pyenv/versions/3.8.10/lib/python3.8/site-packages (from markdown>=2.6.8->tensorboard<2.12,>=2.11->tensorflow~=2.11.0->tf-models-official>=2.5.1->object-detection==0.1) (5.1.0)\n",
      "Requirement already satisfied: zipp>=0.5 in /home/chanyu/.pyenv/versions/3.8.10/lib/python3.8/site-packages (from importlib-metadata>=4.4->markdown>=2.6.8->tensorboard<2.12,>=2.11->tensorflow~=2.11.0->tf-models-official>=2.5.1->object-detection==0.1) (3.11.0)\n",
      "Requirement already satisfied: oauthlib>=3.0.0 in /home/chanyu/.pyenv/versions/3.8.10/lib/python3.8/site-packages (from requests-oauthlib>=0.7.0->google-auth-oauthlib<0.5,>=0.4.1->tensorboard<2.12,>=2.11->tensorflow~=2.11.0->tf-models-official>=2.5.1->object-detection==0.1) (3.2.2)\n"
     ]
    },
    {
     "name": "stdout",
     "output_type": "stream",
     "text": [
      "Requirement already satisfied: dm-tree~=0.1.1 in /home/chanyu/.pyenv/versions/3.8.10/lib/python3.8/site-packages (from tensorflow-model-optimization>=0.4.1->tf-models-official>=2.5.1->object-detection==0.1) (0.1.7)\n",
      "Requirement already satisfied: MarkupSafe>=2.1.1 in /home/chanyu/.pyenv/versions/3.8.10/lib/python3.8/site-packages (from werkzeug>=1.0.1->tensorboard<2.12,>=2.11->tensorflow~=2.11.0->tf-models-official>=2.5.1->object-detection==0.1) (2.1.1)\n",
      "Requirement already satisfied: zstandard<1,>=0.18.0 in /home/chanyu/.pyenv/versions/3.8.10/lib/python3.8/site-packages (from apache-beam->object-detection==0.1) (0.19.0)\n",
      "Requirement already satisfied: cloudpickle~=2.2.0 in /home/chanyu/.pyenv/versions/3.8.10/lib/python3.8/site-packages (from apache-beam->object-detection==0.1) (2.2.0)\n",
      "Requirement already satisfied: objsize<0.6.0,>=0.5.2 in /home/chanyu/.pyenv/versions/3.8.10/lib/python3.8/site-packages (from apache-beam->object-detection==0.1) (0.5.2)\n",
      "Requirement already satisfied: crcmod<2.0,>=1.7 in /home/chanyu/.pyenv/versions/3.8.10/lib/python3.8/site-packages (from apache-beam->object-detection==0.1) (1.7)\n",
      "Requirement already satisfied: hdfs<3.0.0,>=2.1.0 in /home/chanyu/.pyenv/versions/3.8.10/lib/python3.8/site-packages (from apache-beam->object-detection==0.1) (2.7.0)\n",
      "Requirement already satisfied: fastavro<2,>=0.23.6 in /home/chanyu/.pyenv/versions/3.8.10/lib/python3.8/site-packages (from apache-beam->object-detection==0.1) (1.7.0)\n",
      "Requirement already satisfied: pymongo<4.0.0,>=3.8.0 in /home/chanyu/.pyenv/versions/3.8.10/lib/python3.8/site-packages (from apache-beam->object-detection==0.1) (3.13.0)\n",
      "Requirement already satisfied: pydot<2,>=1.2.0 in /home/chanyu/.pyenv/versions/3.8.10/lib/python3.8/site-packages (from apache-beam->object-detection==0.1) (1.4.2)\n",
      "Requirement already satisfied: dill<0.3.2,>=0.3.1.1 in /home/chanyu/.pyenv/versions/3.8.10/lib/python3.8/site-packages (from apache-beam->object-detection==0.1) (0.3.1.1)\n",
      "Requirement already satisfied: fasteners<1.0,>=0.3 in /home/chanyu/.pyenv/versions/3.8.10/lib/python3.8/site-packages (from apache-beam->object-detection==0.1) (0.18)\n",
      "Requirement already satisfied: orjson<4.0 in /home/chanyu/.pyenv/versions/3.8.10/lib/python3.8/site-packages (from apache-beam->object-detection==0.1) (3.8.3)\n",
      "Requirement already satisfied: proto-plus<2,>=1.7.1 in /home/chanyu/.pyenv/versions/3.8.10/lib/python3.8/site-packages (from apache-beam->object-detection==0.1) (1.22.1)\n",
      "Requirement already satisfied: pyarrow<10.0.0,>=0.15.1 in /home/chanyu/.pyenv/versions/3.8.10/lib/python3.8/site-packages (from apache-beam->object-detection==0.1) (9.0.0)\n",
      "Requirement already satisfied: docopt in /home/chanyu/.pyenv/versions/3.8.10/lib/python3.8/site-packages (from hdfs<3.0.0,>=2.1.0->apache-beam->object-detection==0.1) (0.6.2)\n",
      "Requirement already satisfied: kiwisolver>=1.1.0 in /home/chanyu/.pyenv/versions/3.8.10/lib/python3.8/site-packages (from lvis->object-detection==0.1) (1.4.4)\n",
      "Requirement already satisfied: cycler>=0.10.0 in /home/chanyu/.pyenv/versions/3.8.10/lib/python3.8/site-packages (from lvis->object-detection==0.1) (0.11.0)\n",
      "Requirement already satisfied: opencv-python>=4.1.0.25 in /home/chanyu/.pyenv/versions/3.8.10/lib/python3.8/site-packages (from lvis->object-detection==0.1) (4.6.0.66)\n",
      "Requirement already satisfied: text-unidecode>=1.3 in /home/chanyu/.pyenv/versions/3.8.10/lib/python3.8/site-packages (from python-slugify->kaggle>=1.3.9->tf-models-official>=2.5.1->object-detection==0.1) (1.3)\n",
      "Requirement already satisfied: scikit-learn>=0.21.3 in /home/chanyu/.pyenv/versions/3.8.10/lib/python3.8/site-packages (from seqeval->tf-models-official>=2.5.1->object-detection==0.1) (1.1.3)\n",
      "Requirement already satisfied: joblib>=1.0.0 in /home/chanyu/.pyenv/versions/3.8.10/lib/python3.8/site-packages (from scikit-learn>=0.21.3->seqeval->tf-models-official>=2.5.1->object-detection==0.1) (1.2.0)\n",
      "Requirement already satisfied: threadpoolctl>=2.0.0 in /home/chanyu/.pyenv/versions/3.8.10/lib/python3.8/site-packages (from scikit-learn>=0.21.3->seqeval->tf-models-official>=2.5.1->object-detection==0.1) (3.1.0)\n",
      "Requirement already satisfied: typeguard>=2.7 in /home/chanyu/.pyenv/versions/3.8.10/lib/python3.8/site-packages (from tensorflow-addons->tf-models-official>=2.5.1->object-detection==0.1) (2.13.3)\n",
      "Requirement already satisfied: etils[epath] in /home/chanyu/.pyenv/versions/3.8.10/lib/python3.8/site-packages (from tensorflow-datasets->tf-models-official>=2.5.1->object-detection==0.1) (0.9.0)\n",
      "Requirement already satisfied: tensorflow-metadata in /home/chanyu/.pyenv/versions/3.8.10/lib/python3.8/site-packages (from tensorflow-datasets->tf-models-official>=2.5.1->object-detection==0.1) (1.11.0)\n",
      "Requirement already satisfied: promise in /home/chanyu/.pyenv/versions/3.8.10/lib/python3.8/site-packages (from tensorflow-datasets->tf-models-official>=2.5.1->object-detection==0.1) (2.3)\n",
      "Requirement already satisfied: toml in /home/chanyu/.pyenv/versions/3.8.10/lib/python3.8/site-packages (from tensorflow-datasets->tf-models-official>=2.5.1->object-detection==0.1) (0.10.2)\n",
      "Requirement already satisfied: importlib-resources in /home/chanyu/.pyenv/versions/3.8.10/lib/python3.8/site-packages (from tensorflow-datasets->tf-models-official>=2.5.1->object-detection==0.1) (5.10.0)\n",
      "Building wheels for collected packages: object-detection\n",
      "  Building wheel for object-detection (setup.py) ... \u001b[?25ldone\n",
      "\u001b[?25h  Created wheel for object-detection: filename=object_detection-0.1-py3-none-any.whl size=1663034 sha256=1acae47a092ea63759d0bcb8f1096d1d61cf7aaf267574b0107db0e1331af08e\n",
      "  Stored in directory: /tmp/pip-ephem-wheel-cache-z7kqg82j/wheels/04/2c/c5/d3355928743d6abd39f508940151a780406faf08e5ec4985e6\n",
      "Successfully built object-detection\n",
      "Installing collected packages: object-detection\n",
      "  Attempting uninstall: object-detection\n",
      "    Found existing installation: object-detection 0.1\n",
      "    Uninstalling object-detection-0.1:\n",
      "      Successfully uninstalled object-detection-0.1\n",
      "Successfully installed object-detection-0.1\n",
      "\u001b[33mWARNING: You are using pip version 21.1.1; however, version 22.3.1 is available.\n",
      "You should consider upgrading via the '/home/chanyu/.pyenv/versions/3.8.10/bin/python -m pip install --upgrade pip' command.\u001b[0m\n"
     ]
    }
   ],
   "source": [
    "# Install Tensorflow Object Detection \n",
    "if os.name=='posix':  \n",
    "    !apt-get install protobuf-compiler\n",
    "    !cd Tensorflow/models/research && protoc object_detection/protos/*.proto --python_out=. && cp object_detection/packages/tf2/setup.py . && python -m pip install . "
   ]
  },
  {
   "cell_type": "code",
   "execution_count": 86,
   "metadata": {
    "scrolled": true
   },
   "outputs": [
    {
     "name": "stdout",
     "output_type": "stream",
     "text": [
      "/bin/bash: /home/chanyu/anaconda3/lib/libtinfo.so.6: no version information available (required by /bin/bash)\n",
      "bash: /home/chanyu/anaconda3/lib/libtinfo.so.6: no version information available (required by bash)\n",
      "bash: /home/chanyu/anaconda3/lib/libtinfo.so.6: no version information available (required by bash)\n",
      "bash: /home/chanyu/anaconda3/lib/libtinfo.so.6: no version information available (required by bash)\n",
      "bash: /home/chanyu/anaconda3/lib/libtinfo.so.6: no version information available (required by bash)\n",
      "bash: /home/chanyu/anaconda3/lib/libtinfo.so.6: no version information available (required by bash)\n",
      "bash: /home/chanyu/anaconda3/lib/libtinfo.so.6: no version information available (required by bash)\n",
      "bash: /home/chanyu/anaconda3/lib/libtinfo.so.6: no version information available (required by bash)\n",
      "bash: /home/chanyu/anaconda3/lib/libtinfo.so.6: no version information available (required by bash)\n",
      "bash: /home/chanyu/anaconda3/lib/libtinfo.so.6: no version information available (required by bash)\n",
      "bash: /home/chanyu/anaconda3/lib/libtinfo.so.6: no version information available (required by bash)\n",
      "2022-12-18 18:54:30.424398: I tensorflow/core/platform/cpu_feature_guard.cc:193] This TensorFlow binary is optimized with oneAPI Deep Neural Network Library (oneDNN) to use the following CPU instructions in performance-critical operations:  AVX2 FMA\n",
      "To enable them in other operations, rebuild TensorFlow with the appropriate compiler flags.\n",
      "2022-12-18 18:54:31.075959: W tensorflow/compiler/xla/stream_executor/platform/default/dso_loader.cc:64] Could not load dynamic library 'libnvinfer.so.7'; dlerror: libnvinfer.so.7: cannot open shared object file: No such file or directory; LD_LIBRARY_PATH: /usr/local/cuda/lib64:/home/chanyu/anaconda3/lib/\n",
      "2022-12-18 18:54:31.076006: W tensorflow/compiler/xla/stream_executor/platform/default/dso_loader.cc:64] Could not load dynamic library 'libnvinfer_plugin.so.7'; dlerror: libnvinfer_plugin.so.7: cannot open shared object file: No such file or directory; LD_LIBRARY_PATH: /usr/local/cuda/lib64:/home/chanyu/anaconda3/lib/\n",
      "2022-12-18 18:54:31.076013: W tensorflow/compiler/tf2tensorrt/utils/py_utils.cc:38] TF-TRT Warning: Cannot dlopen some TensorRT libraries. If you would like to use Nvidia GPU with TensorRT, please make sure the missing libraries mentioned above are installed properly.\n",
      "/home/chanyu/.pyenv/versions/3.8.10/lib/python3.8/site-packages/tensorflow_addons/utils/ensure_tf_install.py:53: UserWarning: Tensorflow Addons supports using Python ops for all Tensorflow versions above or equal to 2.8.0 and strictly below 2.11.0 (nightly versions are not supported). \n",
      " The versions of TensorFlow you are currently using is 2.11.0 and is not supported. \n",
      "Some things might work, some things might not.\n",
      "If you were to encounter a bug, do not file an issue.\n",
      "If you want to make sure you're using a tested and supported configuration, either change the TensorFlow version or the TensorFlow Addons's version. \n",
      "You can find the compatibility matrix in TensorFlow Addon's readme:\n",
      "https://github.com/tensorflow/addons\n",
      "  warnings.warn(\n",
      "2022-12-18 18:54:32.301906: I tensorflow/compiler/xla/stream_executor/cuda/cuda_gpu_executor.cc:981] successful NUMA node read from SysFS had negative value (-1), but there must be at least one NUMA node, so returning NUMA node zero\n",
      "2022-12-18 18:54:32.305543: I tensorflow/compiler/xla/stream_executor/cuda/cuda_gpu_executor.cc:981] successful NUMA node read from SysFS had negative value (-1), but there must be at least one NUMA node, so returning NUMA node zero\n",
      "2022-12-18 18:54:32.305729: I tensorflow/compiler/xla/stream_executor/cuda/cuda_gpu_executor.cc:981] successful NUMA node read from SysFS had negative value (-1), but there must be at least one NUMA node, so returning NUMA node zero\n",
      "Running tests under Python 3.8.10: /home/chanyu/.pyenv/versions/3.8.10/bin/python\n",
      "[ RUN      ] ModelBuilderTF2Test.test_create_center_net_deepmac\n",
      "2022-12-18 18:54:32.311438: I tensorflow/core/platform/cpu_feature_guard.cc:193] This TensorFlow binary is optimized with oneAPI Deep Neural Network Library (oneDNN) to use the following CPU instructions in performance-critical operations:  AVX2 FMA\n",
      "To enable them in other operations, rebuild TensorFlow with the appropriate compiler flags.\n",
      "2022-12-18 18:54:32.312018: I tensorflow/compiler/xla/stream_executor/cuda/cuda_gpu_executor.cc:981] successful NUMA node read from SysFS had negative value (-1), but there must be at least one NUMA node, so returning NUMA node zero\n",
      "2022-12-18 18:54:32.312194: I tensorflow/compiler/xla/stream_executor/cuda/cuda_gpu_executor.cc:981] successful NUMA node read from SysFS had negative value (-1), but there must be at least one NUMA node, so returning NUMA node zero\n",
      "2022-12-18 18:54:32.312333: I tensorflow/compiler/xla/stream_executor/cuda/cuda_gpu_executor.cc:981] successful NUMA node read from SysFS had negative value (-1), but there must be at least one NUMA node, so returning NUMA node zero\n",
      "2022-12-18 18:54:32.682749: I tensorflow/compiler/xla/stream_executor/cuda/cuda_gpu_executor.cc:981] successful NUMA node read from SysFS had negative value (-1), but there must be at least one NUMA node, so returning NUMA node zero\n",
      "2022-12-18 18:54:32.682950: I tensorflow/compiler/xla/stream_executor/cuda/cuda_gpu_executor.cc:981] successful NUMA node read from SysFS had negative value (-1), but there must be at least one NUMA node, so returning NUMA node zero\n",
      "2022-12-18 18:54:32.683097: I tensorflow/compiler/xla/stream_executor/cuda/cuda_gpu_executor.cc:981] successful NUMA node read from SysFS had negative value (-1), but there must be at least one NUMA node, so returning NUMA node zero\n",
      "2022-12-18 18:54:32.683228: I tensorflow/core/common_runtime/gpu/gpu_device.cc:1613] Created device /job:localhost/replica:0/task:0/device:GPU:0 with 3456 MB memory:  -> device: 0, name: NVIDIA GeForce RTX 2060, pci bus id: 0000:08:00.0, compute capability: 7.5\n",
      "/home/chanyu/.pyenv/versions/3.8.10/lib/python3.8/site-packages/object_detection/builders/model_builder.py:1112: DeprecationWarning: The 'warn' function is deprecated, use 'warning' instead\n",
      "  logging.warn(('Building experimental DeepMAC meta-arch.'\n",
      "W1218 18:54:33.014571 140032649238336 model_builder.py:1112] Building experimental DeepMAC meta-arch. Some features may be omitted.\n",
      "INFO:tensorflow:time(__main__.ModelBuilderTF2Test.test_create_center_net_deepmac): 0.93s\n",
      "I1218 18:54:33.233791 140032649238336 test_util.py:2457] time(__main__.ModelBuilderTF2Test.test_create_center_net_deepmac): 0.93s\n",
      "[       OK ] ModelBuilderTF2Test.test_create_center_net_deepmac\n",
      "[ RUN      ] ModelBuilderTF2Test.test_create_center_net_model0 (customize_head_params=True)\n",
      "INFO:tensorflow:time(__main__.ModelBuilderTF2Test.test_create_center_net_model0 (customize_head_params=True)): 0.47s\n",
      "I1218 18:54:33.701718 140032649238336 test_util.py:2457] time(__main__.ModelBuilderTF2Test.test_create_center_net_model0 (customize_head_params=True)): 0.47s\n",
      "[       OK ] ModelBuilderTF2Test.test_create_center_net_model0 (customize_head_params=True)\n",
      "[ RUN      ] ModelBuilderTF2Test.test_create_center_net_model1 (customize_head_params=False)\n",
      "INFO:tensorflow:time(__main__.ModelBuilderTF2Test.test_create_center_net_model1 (customize_head_params=False)): 0.23s\n",
      "I1218 18:54:33.930068 140032649238336 test_util.py:2457] time(__main__.ModelBuilderTF2Test.test_create_center_net_model1 (customize_head_params=False)): 0.23s\n",
      "[       OK ] ModelBuilderTF2Test.test_create_center_net_model1 (customize_head_params=False)\n",
      "[ RUN      ] ModelBuilderTF2Test.test_create_center_net_model_from_keypoints\n",
      "INFO:tensorflow:time(__main__.ModelBuilderTF2Test.test_create_center_net_model_from_keypoints): 0.3s\n",
      "I1218 18:54:34.225714 140032649238336 test_util.py:2457] time(__main__.ModelBuilderTF2Test.test_create_center_net_model_from_keypoints): 0.3s\n",
      "[       OK ] ModelBuilderTF2Test.test_create_center_net_model_from_keypoints\n",
      "[ RUN      ] ModelBuilderTF2Test.test_create_center_net_model_mobilenet\n",
      "INFO:tensorflow:time(__main__.ModelBuilderTF2Test.test_create_center_net_model_mobilenet): 1.23s\n",
      "I1218 18:54:35.454841 140032649238336 test_util.py:2457] time(__main__.ModelBuilderTF2Test.test_create_center_net_model_mobilenet): 1.23s\n",
      "[       OK ] ModelBuilderTF2Test.test_create_center_net_model_mobilenet\n",
      "[ RUN      ] ModelBuilderTF2Test.test_create_experimental_model\n",
      "INFO:tensorflow:time(__main__.ModelBuilderTF2Test.test_create_experimental_model): 0.0s\n",
      "I1218 18:54:35.459329 140032649238336 test_util.py:2457] time(__main__.ModelBuilderTF2Test.test_create_experimental_model): 0.0s\n",
      "[       OK ] ModelBuilderTF2Test.test_create_experimental_model\n",
      "[ RUN      ] ModelBuilderTF2Test.test_create_faster_rcnn_from_config_with_crop_feature0 (True)\n",
      "INFO:tensorflow:time(__main__.ModelBuilderTF2Test.test_create_faster_rcnn_from_config_with_crop_feature0 (True)): 0.02s\n",
      "I1218 18:54:35.479552 140032649238336 test_util.py:2457] time(__main__.ModelBuilderTF2Test.test_create_faster_rcnn_from_config_with_crop_feature0 (True)): 0.02s\n",
      "[       OK ] ModelBuilderTF2Test.test_create_faster_rcnn_from_config_with_crop_feature0 (True)\n",
      "[ RUN      ] ModelBuilderTF2Test.test_create_faster_rcnn_from_config_with_crop_feature1 (False)\n"
     ]
    },
    {
     "name": "stdout",
     "output_type": "stream",
     "text": [
      "INFO:tensorflow:time(__main__.ModelBuilderTF2Test.test_create_faster_rcnn_from_config_with_crop_feature1 (False)): 0.01s\n",
      "I1218 18:54:35.493379 140032649238336 test_util.py:2457] time(__main__.ModelBuilderTF2Test.test_create_faster_rcnn_from_config_with_crop_feature1 (False)): 0.01s\n",
      "[       OK ] ModelBuilderTF2Test.test_create_faster_rcnn_from_config_with_crop_feature1 (False)\n",
      "[ RUN      ] ModelBuilderTF2Test.test_create_faster_rcnn_model_from_config_with_example_miner\n",
      "INFO:tensorflow:time(__main__.ModelBuilderTF2Test.test_create_faster_rcnn_model_from_config_with_example_miner): 0.01s\n",
      "I1218 18:54:35.507401 140032649238336 test_util.py:2457] time(__main__.ModelBuilderTF2Test.test_create_faster_rcnn_model_from_config_with_example_miner): 0.01s\n",
      "[       OK ] ModelBuilderTF2Test.test_create_faster_rcnn_model_from_config_with_example_miner\n",
      "[ RUN      ] ModelBuilderTF2Test.test_create_faster_rcnn_models_from_config_faster_rcnn_with_matmul\n",
      "INFO:tensorflow:time(__main__.ModelBuilderTF2Test.test_create_faster_rcnn_models_from_config_faster_rcnn_with_matmul): 0.08s\n",
      "I1218 18:54:35.589284 140032649238336 test_util.py:2457] time(__main__.ModelBuilderTF2Test.test_create_faster_rcnn_models_from_config_faster_rcnn_with_matmul): 0.08s\n",
      "[       OK ] ModelBuilderTF2Test.test_create_faster_rcnn_models_from_config_faster_rcnn_with_matmul\n",
      "[ RUN      ] ModelBuilderTF2Test.test_create_faster_rcnn_models_from_config_faster_rcnn_without_matmul\n",
      "INFO:tensorflow:time(__main__.ModelBuilderTF2Test.test_create_faster_rcnn_models_from_config_faster_rcnn_without_matmul): 0.08s\n",
      "I1218 18:54:35.668021 140032649238336 test_util.py:2457] time(__main__.ModelBuilderTF2Test.test_create_faster_rcnn_models_from_config_faster_rcnn_without_matmul): 0.08s\n",
      "[       OK ] ModelBuilderTF2Test.test_create_faster_rcnn_models_from_config_faster_rcnn_without_matmul\n",
      "[ RUN      ] ModelBuilderTF2Test.test_create_faster_rcnn_models_from_config_mask_rcnn_with_matmul\n",
      "INFO:tensorflow:time(__main__.ModelBuilderTF2Test.test_create_faster_rcnn_models_from_config_mask_rcnn_with_matmul): 0.08s\n",
      "I1218 18:54:35.751307 140032649238336 test_util.py:2457] time(__main__.ModelBuilderTF2Test.test_create_faster_rcnn_models_from_config_mask_rcnn_with_matmul): 0.08s\n",
      "[       OK ] ModelBuilderTF2Test.test_create_faster_rcnn_models_from_config_mask_rcnn_with_matmul\n",
      "[ RUN      ] ModelBuilderTF2Test.test_create_faster_rcnn_models_from_config_mask_rcnn_without_matmul\n",
      "INFO:tensorflow:time(__main__.ModelBuilderTF2Test.test_create_faster_rcnn_models_from_config_mask_rcnn_without_matmul): 0.08s\n",
      "I1218 18:54:35.833222 140032649238336 test_util.py:2457] time(__main__.ModelBuilderTF2Test.test_create_faster_rcnn_models_from_config_mask_rcnn_without_matmul): 0.08s\n",
      "[       OK ] ModelBuilderTF2Test.test_create_faster_rcnn_models_from_config_mask_rcnn_without_matmul\n",
      "[ RUN      ] ModelBuilderTF2Test.test_create_rfcn_model_from_config\n",
      "INFO:tensorflow:time(__main__.ModelBuilderTF2Test.test_create_rfcn_model_from_config): 0.08s\n",
      "I1218 18:54:35.913163 140032649238336 test_util.py:2457] time(__main__.ModelBuilderTF2Test.test_create_rfcn_model_from_config): 0.08s\n",
      "[       OK ] ModelBuilderTF2Test.test_create_rfcn_model_from_config\n",
      "[ RUN      ] ModelBuilderTF2Test.test_create_ssd_fpn_model_from_config\n",
      "INFO:tensorflow:time(__main__.ModelBuilderTF2Test.test_create_ssd_fpn_model_from_config): 0.02s\n",
      "I1218 18:54:35.937867 140032649238336 test_util.py:2457] time(__main__.ModelBuilderTF2Test.test_create_ssd_fpn_model_from_config): 0.02s\n",
      "[       OK ] ModelBuilderTF2Test.test_create_ssd_fpn_model_from_config\n",
      "[ RUN      ] ModelBuilderTF2Test.test_create_ssd_models_from_config\n",
      "I1218 18:54:36.200261 140032649238336 ssd_efficientnet_bifpn_feature_extractor.py:150] EfficientDet EfficientNet backbone version: efficientnet-b0\n",
      "I1218 18:54:36.200367 140032649238336 ssd_efficientnet_bifpn_feature_extractor.py:152] EfficientDet BiFPN num filters: 64\n",
      "I1218 18:54:36.200403 140032649238336 ssd_efficientnet_bifpn_feature_extractor.py:153] EfficientDet BiFPN num iterations: 3\n",
      "I1218 18:54:36.202090 140032649238336 efficientnet_model.py:143] round_filter input=32 output=32\n",
      "I1218 18:54:36.220029 140032649238336 efficientnet_model.py:143] round_filter input=32 output=32\n",
      "I1218 18:54:36.220128 140032649238336 efficientnet_model.py:143] round_filter input=16 output=16\n",
      "I1218 18:54:36.269868 140032649238336 efficientnet_model.py:143] round_filter input=16 output=16\n",
      "I1218 18:54:36.269973 140032649238336 efficientnet_model.py:143] round_filter input=24 output=24\n",
      "I1218 18:54:36.396617 140032649238336 efficientnet_model.py:143] round_filter input=24 output=24\n",
      "I1218 18:54:36.396721 140032649238336 efficientnet_model.py:143] round_filter input=40 output=40\n",
      "I1218 18:54:36.516341 140032649238336 efficientnet_model.py:143] round_filter input=40 output=40\n",
      "I1218 18:54:36.516447 140032649238336 efficientnet_model.py:143] round_filter input=80 output=80\n",
      "I1218 18:54:36.689840 140032649238336 efficientnet_model.py:143] round_filter input=80 output=80\n",
      "I1218 18:54:36.689956 140032649238336 efficientnet_model.py:143] round_filter input=112 output=112\n",
      "I1218 18:54:36.863828 140032649238336 efficientnet_model.py:143] round_filter input=112 output=112\n",
      "I1218 18:54:36.863936 140032649238336 efficientnet_model.py:143] round_filter input=192 output=192\n",
      "I1218 18:54:37.093590 140032649238336 efficientnet_model.py:143] round_filter input=192 output=192\n",
      "I1218 18:54:37.093699 140032649238336 efficientnet_model.py:143] round_filter input=320 output=320\n",
      "I1218 18:54:37.149526 140032649238336 efficientnet_model.py:143] round_filter input=1280 output=1280\n",
      "I1218 18:54:37.178111 140032649238336 efficientnet_model.py:453] Building model efficientnet with params ModelConfig(width_coefficient=1.0, depth_coefficient=1.0, resolution=224, dropout_rate=0.2, blocks=(BlockConfig(input_filters=32, output_filters=16, kernel_size=3, num_repeat=1, expand_ratio=1, strides=(1, 1), se_ratio=0.25, id_skip=True, fused_conv=False, conv_type='depthwise'), BlockConfig(input_filters=16, output_filters=24, kernel_size=3, num_repeat=2, expand_ratio=6, strides=(2, 2), se_ratio=0.25, id_skip=True, fused_conv=False, conv_type='depthwise'), BlockConfig(input_filters=24, output_filters=40, kernel_size=5, num_repeat=2, expand_ratio=6, strides=(2, 2), se_ratio=0.25, id_skip=True, fused_conv=False, conv_type='depthwise'), BlockConfig(input_filters=40, output_filters=80, kernel_size=3, num_repeat=3, expand_ratio=6, strides=(2, 2), se_ratio=0.25, id_skip=True, fused_conv=False, conv_type='depthwise'), BlockConfig(input_filters=80, output_filters=112, kernel_size=5, num_repeat=3, expand_ratio=6, strides=(1, 1), se_ratio=0.25, id_skip=True, fused_conv=False, conv_type='depthwise'), BlockConfig(input_filters=112, output_filters=192, kernel_size=5, num_repeat=4, expand_ratio=6, strides=(2, 2), se_ratio=0.25, id_skip=True, fused_conv=False, conv_type='depthwise'), BlockConfig(input_filters=192, output_filters=320, kernel_size=3, num_repeat=1, expand_ratio=6, strides=(1, 1), se_ratio=0.25, id_skip=True, fused_conv=False, conv_type='depthwise')), stem_base_filters=32, top_base_filters=1280, activation='simple_swish', batch_norm='default', bn_momentum=0.99, bn_epsilon=0.001, weight_decay=5e-06, drop_connect_rate=0.2, depth_divisor=8, min_depth=None, use_se=True, input_channels=3, num_classes=1000, model_name='efficientnet', rescale_input=False, data_format='channels_last', dtype='float32')\n",
      "I1218 18:54:37.219618 140032649238336 ssd_efficientnet_bifpn_feature_extractor.py:150] EfficientDet EfficientNet backbone version: efficientnet-b1\n",
      "I1218 18:54:37.219724 140032649238336 ssd_efficientnet_bifpn_feature_extractor.py:152] EfficientDet BiFPN num filters: 88\n",
      "I1218 18:54:37.219763 140032649238336 ssd_efficientnet_bifpn_feature_extractor.py:153] EfficientDet BiFPN num iterations: 4\n",
      "I1218 18:54:37.221080 140032649238336 efficientnet_model.py:143] round_filter input=32 output=32\n",
      "I1218 18:54:37.232583 140032649238336 efficientnet_model.py:143] round_filter input=32 output=32\n",
      "I1218 18:54:37.232675 140032649238336 efficientnet_model.py:143] round_filter input=16 output=16\n",
      "I1218 18:54:37.324900 140032649238336 efficientnet_model.py:143] round_filter input=16 output=16\n",
      "I1218 18:54:37.325005 140032649238336 efficientnet_model.py:143] round_filter input=24 output=24\n"
     ]
    },
    {
     "name": "stdout",
     "output_type": "stream",
     "text": [
      "I1218 18:54:37.487785 140032649238336 efficientnet_model.py:143] round_filter input=24 output=24\n",
      "I1218 18:54:37.487894 140032649238336 efficientnet_model.py:143] round_filter input=40 output=40\n",
      "I1218 18:54:37.652752 140032649238336 efficientnet_model.py:143] round_filter input=40 output=40\n",
      "I1218 18:54:37.652868 140032649238336 efficientnet_model.py:143] round_filter input=80 output=80\n",
      "I1218 18:54:37.877098 140032649238336 efficientnet_model.py:143] round_filter input=80 output=80\n",
      "I1218 18:54:37.877205 140032649238336 efficientnet_model.py:143] round_filter input=112 output=112\n",
      "I1218 18:54:38.100689 140032649238336 efficientnet_model.py:143] round_filter input=112 output=112\n",
      "I1218 18:54:38.100798 140032649238336 efficientnet_model.py:143] round_filter input=192 output=192\n",
      "I1218 18:54:38.383338 140032649238336 efficientnet_model.py:143] round_filter input=192 output=192\n",
      "I1218 18:54:38.383445 140032649238336 efficientnet_model.py:143] round_filter input=320 output=320\n",
      "I1218 18:54:38.500683 140032649238336 efficientnet_model.py:143] round_filter input=1280 output=1280\n",
      "I1218 18:54:38.521707 140032649238336 efficientnet_model.py:453] Building model efficientnet with params ModelConfig(width_coefficient=1.0, depth_coefficient=1.1, resolution=240, dropout_rate=0.2, blocks=(BlockConfig(input_filters=32, output_filters=16, kernel_size=3, num_repeat=1, expand_ratio=1, strides=(1, 1), se_ratio=0.25, id_skip=True, fused_conv=False, conv_type='depthwise'), BlockConfig(input_filters=16, output_filters=24, kernel_size=3, num_repeat=2, expand_ratio=6, strides=(2, 2), se_ratio=0.25, id_skip=True, fused_conv=False, conv_type='depthwise'), BlockConfig(input_filters=24, output_filters=40, kernel_size=5, num_repeat=2, expand_ratio=6, strides=(2, 2), se_ratio=0.25, id_skip=True, fused_conv=False, conv_type='depthwise'), BlockConfig(input_filters=40, output_filters=80, kernel_size=3, num_repeat=3, expand_ratio=6, strides=(2, 2), se_ratio=0.25, id_skip=True, fused_conv=False, conv_type='depthwise'), BlockConfig(input_filters=80, output_filters=112, kernel_size=5, num_repeat=3, expand_ratio=6, strides=(1, 1), se_ratio=0.25, id_skip=True, fused_conv=False, conv_type='depthwise'), BlockConfig(input_filters=112, output_filters=192, kernel_size=5, num_repeat=4, expand_ratio=6, strides=(2, 2), se_ratio=0.25, id_skip=True, fused_conv=False, conv_type='depthwise'), BlockConfig(input_filters=192, output_filters=320, kernel_size=3, num_repeat=1, expand_ratio=6, strides=(1, 1), se_ratio=0.25, id_skip=True, fused_conv=False, conv_type='depthwise')), stem_base_filters=32, top_base_filters=1280, activation='simple_swish', batch_norm='default', bn_momentum=0.99, bn_epsilon=0.001, weight_decay=5e-06, drop_connect_rate=0.2, depth_divisor=8, min_depth=None, use_se=True, input_channels=3, num_classes=1000, model_name='efficientnet', rescale_input=False, data_format='channels_last', dtype='float32')\n",
      "I1218 18:54:38.571689 140032649238336 ssd_efficientnet_bifpn_feature_extractor.py:150] EfficientDet EfficientNet backbone version: efficientnet-b2\n",
      "I1218 18:54:38.571793 140032649238336 ssd_efficientnet_bifpn_feature_extractor.py:152] EfficientDet BiFPN num filters: 112\n",
      "I1218 18:54:38.571830 140032649238336 ssd_efficientnet_bifpn_feature_extractor.py:153] EfficientDet BiFPN num iterations: 5\n",
      "I1218 18:54:38.573138 140032649238336 efficientnet_model.py:143] round_filter input=32 output=32\n",
      "I1218 18:54:38.584706 140032649238336 efficientnet_model.py:143] round_filter input=32 output=32\n",
      "I1218 18:54:38.584794 140032649238336 efficientnet_model.py:143] round_filter input=16 output=16\n",
      "I1218 18:54:38.672515 140032649238336 efficientnet_model.py:143] round_filter input=16 output=16\n",
      "I1218 18:54:38.672625 140032649238336 efficientnet_model.py:143] round_filter input=24 output=24\n",
      "I1218 18:54:38.841221 140032649238336 efficientnet_model.py:143] round_filter input=24 output=24\n",
      "I1218 18:54:38.841359 140032649238336 efficientnet_model.py:143] round_filter input=40 output=48\n",
      "I1218 18:54:39.139006 140032649238336 efficientnet_model.py:143] round_filter input=40 output=48\n",
      "I1218 18:54:39.139120 140032649238336 efficientnet_model.py:143] round_filter input=80 output=88\n",
      "I1218 18:54:39.387190 140032649238336 efficientnet_model.py:143] round_filter input=80 output=88\n",
      "I1218 18:54:39.387297 140032649238336 efficientnet_model.py:143] round_filter input=112 output=120\n",
      "I1218 18:54:39.623754 140032649238336 efficientnet_model.py:143] round_filter input=112 output=120\n",
      "I1218 18:54:39.623861 140032649238336 efficientnet_model.py:143] round_filter input=192 output=208\n",
      "I1218 18:54:39.908644 140032649238336 efficientnet_model.py:143] round_filter input=192 output=208\n",
      "I1218 18:54:39.908750 140032649238336 efficientnet_model.py:143] round_filter input=320 output=352\n",
      "I1218 18:54:40.027841 140032649238336 efficientnet_model.py:143] round_filter input=1280 output=1408\n",
      "I1218 18:54:40.052501 140032649238336 efficientnet_model.py:453] Building model efficientnet with params ModelConfig(width_coefficient=1.1, depth_coefficient=1.2, resolution=260, dropout_rate=0.3, blocks=(BlockConfig(input_filters=32, output_filters=16, kernel_size=3, num_repeat=1, expand_ratio=1, strides=(1, 1), se_ratio=0.25, id_skip=True, fused_conv=False, conv_type='depthwise'), BlockConfig(input_filters=16, output_filters=24, kernel_size=3, num_repeat=2, expand_ratio=6, strides=(2, 2), se_ratio=0.25, id_skip=True, fused_conv=False, conv_type='depthwise'), BlockConfig(input_filters=24, output_filters=40, kernel_size=5, num_repeat=2, expand_ratio=6, strides=(2, 2), se_ratio=0.25, id_skip=True, fused_conv=False, conv_type='depthwise'), BlockConfig(input_filters=40, output_filters=80, kernel_size=3, num_repeat=3, expand_ratio=6, strides=(2, 2), se_ratio=0.25, id_skip=True, fused_conv=False, conv_type='depthwise'), BlockConfig(input_filters=80, output_filters=112, kernel_size=5, num_repeat=3, expand_ratio=6, strides=(1, 1), se_ratio=0.25, id_skip=True, fused_conv=False, conv_type='depthwise'), BlockConfig(input_filters=112, output_filters=192, kernel_size=5, num_repeat=4, expand_ratio=6, strides=(2, 2), se_ratio=0.25, id_skip=True, fused_conv=False, conv_type='depthwise'), BlockConfig(input_filters=192, output_filters=320, kernel_size=3, num_repeat=1, expand_ratio=6, strides=(1, 1), se_ratio=0.25, id_skip=True, fused_conv=False, conv_type='depthwise')), stem_base_filters=32, top_base_filters=1280, activation='simple_swish', batch_norm='default', bn_momentum=0.99, bn_epsilon=0.001, weight_decay=5e-06, drop_connect_rate=0.2, depth_divisor=8, min_depth=None, use_se=True, input_channels=3, num_classes=1000, model_name='efficientnet', rescale_input=False, data_format='channels_last', dtype='float32')\n",
      "I1218 18:54:40.100986 140032649238336 ssd_efficientnet_bifpn_feature_extractor.py:150] EfficientDet EfficientNet backbone version: efficientnet-b3\n",
      "I1218 18:54:40.101091 140032649238336 ssd_efficientnet_bifpn_feature_extractor.py:152] EfficientDet BiFPN num filters: 160\n",
      "I1218 18:54:40.101128 140032649238336 ssd_efficientnet_bifpn_feature_extractor.py:153] EfficientDet BiFPN num iterations: 6\n",
      "I1218 18:54:40.102419 140032649238336 efficientnet_model.py:143] round_filter input=32 output=40\n",
      "I1218 18:54:40.115033 140032649238336 efficientnet_model.py:143] round_filter input=32 output=40\n",
      "I1218 18:54:40.115129 140032649238336 efficientnet_model.py:143] round_filter input=16 output=24\n",
      "I1218 18:54:40.210549 140032649238336 efficientnet_model.py:143] round_filter input=16 output=24\n",
      "I1218 18:54:40.210655 140032649238336 efficientnet_model.py:143] round_filter input=24 output=32\n",
      "I1218 18:54:40.382688 140032649238336 efficientnet_model.py:143] round_filter input=24 output=32\n",
      "I1218 18:54:40.382800 140032649238336 efficientnet_model.py:143] round_filter input=40 output=48\n",
      "I1218 18:54:40.556634 140032649238336 efficientnet_model.py:143] round_filter input=40 output=48\n",
      "I1218 18:54:40.556741 140032649238336 efficientnet_model.py:143] round_filter input=80 output=96\n",
      "I1218 18:54:40.845989 140032649238336 efficientnet_model.py:143] round_filter input=80 output=96\n",
      "I1218 18:54:40.846099 140032649238336 efficientnet_model.py:143] round_filter input=112 output=136\n",
      "I1218 18:54:41.135135 140032649238336 efficientnet_model.py:143] round_filter input=112 output=136\n",
      "I1218 18:54:41.135242 140032649238336 efficientnet_model.py:143] round_filter input=192 output=232\n"
     ]
    },
    {
     "name": "stdout",
     "output_type": "stream",
     "text": [
      "I1218 18:54:41.484317 140032649238336 efficientnet_model.py:143] round_filter input=192 output=232\n",
      "I1218 18:54:41.484426 140032649238336 efficientnet_model.py:143] round_filter input=320 output=384\n",
      "I1218 18:54:41.609219 140032649238336 efficientnet_model.py:143] round_filter input=1280 output=1536\n",
      "I1218 18:54:41.634947 140032649238336 efficientnet_model.py:453] Building model efficientnet with params ModelConfig(width_coefficient=1.2, depth_coefficient=1.4, resolution=300, dropout_rate=0.3, blocks=(BlockConfig(input_filters=32, output_filters=16, kernel_size=3, num_repeat=1, expand_ratio=1, strides=(1, 1), se_ratio=0.25, id_skip=True, fused_conv=False, conv_type='depthwise'), BlockConfig(input_filters=16, output_filters=24, kernel_size=3, num_repeat=2, expand_ratio=6, strides=(2, 2), se_ratio=0.25, id_skip=True, fused_conv=False, conv_type='depthwise'), BlockConfig(input_filters=24, output_filters=40, kernel_size=5, num_repeat=2, expand_ratio=6, strides=(2, 2), se_ratio=0.25, id_skip=True, fused_conv=False, conv_type='depthwise'), BlockConfig(input_filters=40, output_filters=80, kernel_size=3, num_repeat=3, expand_ratio=6, strides=(2, 2), se_ratio=0.25, id_skip=True, fused_conv=False, conv_type='depthwise'), BlockConfig(input_filters=80, output_filters=112, kernel_size=5, num_repeat=3, expand_ratio=6, strides=(1, 1), se_ratio=0.25, id_skip=True, fused_conv=False, conv_type='depthwise'), BlockConfig(input_filters=112, output_filters=192, kernel_size=5, num_repeat=4, expand_ratio=6, strides=(2, 2), se_ratio=0.25, id_skip=True, fused_conv=False, conv_type='depthwise'), BlockConfig(input_filters=192, output_filters=320, kernel_size=3, num_repeat=1, expand_ratio=6, strides=(1, 1), se_ratio=0.25, id_skip=True, fused_conv=False, conv_type='depthwise')), stem_base_filters=32, top_base_filters=1280, activation='simple_swish', batch_norm='default', bn_momentum=0.99, bn_epsilon=0.001, weight_decay=5e-06, drop_connect_rate=0.2, depth_divisor=8, min_depth=None, use_se=True, input_channels=3, num_classes=1000, model_name='efficientnet', rescale_input=False, data_format='channels_last', dtype='float32')\n",
      "I1218 18:54:41.688799 140032649238336 ssd_efficientnet_bifpn_feature_extractor.py:150] EfficientDet EfficientNet backbone version: efficientnet-b4\n",
      "I1218 18:54:41.688907 140032649238336 ssd_efficientnet_bifpn_feature_extractor.py:152] EfficientDet BiFPN num filters: 224\n",
      "I1218 18:54:41.688945 140032649238336 ssd_efficientnet_bifpn_feature_extractor.py:153] EfficientDet BiFPN num iterations: 7\n",
      "I1218 18:54:41.690289 140032649238336 efficientnet_model.py:143] round_filter input=32 output=48\n",
      "I1218 18:54:41.703219 140032649238336 efficientnet_model.py:143] round_filter input=32 output=48\n",
      "I1218 18:54:41.703316 140032649238336 efficientnet_model.py:143] round_filter input=16 output=24\n",
      "I1218 18:54:41.794458 140032649238336 efficientnet_model.py:143] round_filter input=16 output=24\n",
      "I1218 18:54:41.794563 140032649238336 efficientnet_model.py:143] round_filter input=24 output=32\n",
      "I1218 18:54:42.023886 140032649238336 efficientnet_model.py:143] round_filter input=24 output=32\n",
      "I1218 18:54:42.023993 140032649238336 efficientnet_model.py:143] round_filter input=40 output=56\n",
      "I1218 18:54:42.254774 140032649238336 efficientnet_model.py:143] round_filter input=40 output=56\n",
      "I1218 18:54:42.254882 140032649238336 efficientnet_model.py:143] round_filter input=80 output=112\n",
      "I1218 18:54:42.583264 140032649238336 efficientnet_model.py:143] round_filter input=80 output=112\n",
      "I1218 18:54:42.583373 140032649238336 efficientnet_model.py:143] round_filter input=112 output=160\n",
      "I1218 18:54:43.058965 140032649238336 efficientnet_model.py:143] round_filter input=112 output=160\n",
      "I1218 18:54:43.059073 140032649238336 efficientnet_model.py:143] round_filter input=192 output=272\n",
      "I1218 18:54:43.512103 140032649238336 efficientnet_model.py:143] round_filter input=192 output=272\n",
      "I1218 18:54:43.512215 140032649238336 efficientnet_model.py:143] round_filter input=320 output=448\n",
      "I1218 18:54:43.631482 140032649238336 efficientnet_model.py:143] round_filter input=1280 output=1792\n",
      "I1218 18:54:43.655525 140032649238336 efficientnet_model.py:453] Building model efficientnet with params ModelConfig(width_coefficient=1.4, depth_coefficient=1.8, resolution=380, dropout_rate=0.4, blocks=(BlockConfig(input_filters=32, output_filters=16, kernel_size=3, num_repeat=1, expand_ratio=1, strides=(1, 1), se_ratio=0.25, id_skip=True, fused_conv=False, conv_type='depthwise'), BlockConfig(input_filters=16, output_filters=24, kernel_size=3, num_repeat=2, expand_ratio=6, strides=(2, 2), se_ratio=0.25, id_skip=True, fused_conv=False, conv_type='depthwise'), BlockConfig(input_filters=24, output_filters=40, kernel_size=5, num_repeat=2, expand_ratio=6, strides=(2, 2), se_ratio=0.25, id_skip=True, fused_conv=False, conv_type='depthwise'), BlockConfig(input_filters=40, output_filters=80, kernel_size=3, num_repeat=3, expand_ratio=6, strides=(2, 2), se_ratio=0.25, id_skip=True, fused_conv=False, conv_type='depthwise'), BlockConfig(input_filters=80, output_filters=112, kernel_size=5, num_repeat=3, expand_ratio=6, strides=(1, 1), se_ratio=0.25, id_skip=True, fused_conv=False, conv_type='depthwise'), BlockConfig(input_filters=112, output_filters=192, kernel_size=5, num_repeat=4, expand_ratio=6, strides=(2, 2), se_ratio=0.25, id_skip=True, fused_conv=False, conv_type='depthwise'), BlockConfig(input_filters=192, output_filters=320, kernel_size=3, num_repeat=1, expand_ratio=6, strides=(1, 1), se_ratio=0.25, id_skip=True, fused_conv=False, conv_type='depthwise')), stem_base_filters=32, top_base_filters=1280, activation='simple_swish', batch_norm='default', bn_momentum=0.99, bn_epsilon=0.001, weight_decay=5e-06, drop_connect_rate=0.2, depth_divisor=8, min_depth=None, use_se=True, input_channels=3, num_classes=1000, model_name='efficientnet', rescale_input=False, data_format='channels_last', dtype='float32')\n",
      "I1218 18:54:43.716400 140032649238336 ssd_efficientnet_bifpn_feature_extractor.py:150] EfficientDet EfficientNet backbone version: efficientnet-b5\n",
      "I1218 18:54:43.716511 140032649238336 ssd_efficientnet_bifpn_feature_extractor.py:152] EfficientDet BiFPN num filters: 288\n",
      "I1218 18:54:43.716548 140032649238336 ssd_efficientnet_bifpn_feature_extractor.py:153] EfficientDet BiFPN num iterations: 7\n",
      "I1218 18:54:43.717855 140032649238336 efficientnet_model.py:143] round_filter input=32 output=48\n",
      "I1218 18:54:43.729085 140032649238336 efficientnet_model.py:143] round_filter input=32 output=48\n",
      "I1218 18:54:43.729190 140032649238336 efficientnet_model.py:143] round_filter input=16 output=24\n",
      "I1218 18:54:43.864886 140032649238336 efficientnet_model.py:143] round_filter input=16 output=24\n",
      "I1218 18:54:43.864995 140032649238336 efficientnet_model.py:143] round_filter input=24 output=40\n",
      "I1218 18:54:44.142286 140032649238336 efficientnet_model.py:143] round_filter input=24 output=40\n",
      "I1218 18:54:44.142392 140032649238336 efficientnet_model.py:143] round_filter input=40 output=64\n",
      "I1218 18:54:44.419452 140032649238336 efficientnet_model.py:143] round_filter input=40 output=64\n",
      "I1218 18:54:44.419561 140032649238336 efficientnet_model.py:143] round_filter input=80 output=128\n",
      "I1218 18:54:44.808062 140032649238336 efficientnet_model.py:143] round_filter input=80 output=128\n",
      "I1218 18:54:44.808174 140032649238336 efficientnet_model.py:143] round_filter input=112 output=176\n",
      "I1218 18:54:45.206767 140032649238336 efficientnet_model.py:143] round_filter input=112 output=176\n",
      "I1218 18:54:45.206873 140032649238336 efficientnet_model.py:143] round_filter input=192 output=304\n",
      "I1218 18:54:45.714032 140032649238336 efficientnet_model.py:143] round_filter input=192 output=304\n",
      "I1218 18:54:45.714140 140032649238336 efficientnet_model.py:143] round_filter input=320 output=512\n",
      "I1218 18:54:45.890074 140032649238336 efficientnet_model.py:143] round_filter input=1280 output=2048\n",
      "I1218 18:54:45.915011 140032649238336 efficientnet_model.py:453] Building model efficientnet with params ModelConfig(width_coefficient=1.6, depth_coefficient=2.2, resolution=456, dropout_rate=0.4, blocks=(BlockConfig(input_filters=32, output_filters=16, kernel_size=3, num_repeat=1, expand_ratio=1, strides=(1, 1), se_ratio=0.25, id_skip=True, fused_conv=False, conv_type='depthwise'), BlockConfig(input_filters=16, output_filters=24, kernel_size=3, num_repeat=2, expand_ratio=6, strides=(2, 2), se_ratio=0.25, id_skip=True, fused_conv=False, conv_type='depthwise'), BlockConfig(input_filters=24, output_filters=40, kernel_size=5, num_repeat=2, expand_ratio=6, strides=(2, 2), se_ratio=0.25, id_skip=True, fused_conv=False, conv_type='depthwise'), BlockConfig(input_filters=40, output_filters=80, kernel_size=3, num_repeat=3, expand_ratio=6, strides=(2, 2), se_ratio=0.25, id_skip=True, fused_conv=False, conv_type='depthwise'), BlockConfig(input_filters=80, output_filters=112, kernel_size=5, num_repeat=3, expand_ratio=6, strides=(1, 1), se_ratio=0.25, id_skip=True, fused_conv=False, conv_type='depthwise'), BlockConfig(input_filters=112, output_filters=192, kernel_size=5, num_repeat=4, expand_ratio=6, strides=(2, 2), se_ratio=0.25, id_skip=True, fused_conv=False, conv_type='depthwise'), BlockConfig(input_filters=192, output_filters=320, kernel_size=3, num_repeat=1, expand_ratio=6, strides=(1, 1), se_ratio=0.25, id_skip=True, fused_conv=False, conv_type='depthwise')), stem_base_filters=32, top_base_filters=1280, activation='simple_swish', batch_norm='default', bn_momentum=0.99, bn_epsilon=0.001, weight_decay=5e-06, drop_connect_rate=0.2, depth_divisor=8, min_depth=None, use_se=True, input_channels=3, num_classes=1000, model_name='efficientnet', rescale_input=False, data_format='channels_last', dtype='float32')\n"
     ]
    },
    {
     "name": "stdout",
     "output_type": "stream",
     "text": [
      "I1218 18:54:45.986308 140032649238336 ssd_efficientnet_bifpn_feature_extractor.py:150] EfficientDet EfficientNet backbone version: efficientnet-b6\n",
      "I1218 18:54:45.986418 140032649238336 ssd_efficientnet_bifpn_feature_extractor.py:152] EfficientDet BiFPN num filters: 384\n",
      "I1218 18:54:45.986454 140032649238336 ssd_efficientnet_bifpn_feature_extractor.py:153] EfficientDet BiFPN num iterations: 8\n",
      "I1218 18:54:45.987759 140032649238336 efficientnet_model.py:143] round_filter input=32 output=56\n",
      "I1218 18:54:46.000519 140032649238336 efficientnet_model.py:143] round_filter input=32 output=56\n",
      "I1218 18:54:46.000626 140032649238336 efficientnet_model.py:143] round_filter input=16 output=32\n",
      "I1218 18:54:46.141854 140032649238336 efficientnet_model.py:143] round_filter input=16 output=32\n",
      "I1218 18:54:46.141961 140032649238336 efficientnet_model.py:143] round_filter input=24 output=40\n",
      "I1218 18:54:46.467967 140032649238336 efficientnet_model.py:143] round_filter input=24 output=40\n",
      "I1218 18:54:46.468073 140032649238336 efficientnet_model.py:143] round_filter input=40 output=72\n",
      "I1218 18:54:46.805868 140032649238336 efficientnet_model.py:143] round_filter input=40 output=72\n",
      "I1218 18:54:46.805983 140032649238336 efficientnet_model.py:143] round_filter input=80 output=144\n",
      "I1218 18:54:47.438786 140032649238336 efficientnet_model.py:143] round_filter input=80 output=144\n",
      "I1218 18:54:47.438894 140032649238336 efficientnet_model.py:143] round_filter input=112 output=200\n",
      "I1218 18:54:47.899137 140032649238336 efficientnet_model.py:143] round_filter input=112 output=200\n",
      "I1218 18:54:47.899244 140032649238336 efficientnet_model.py:143] round_filter input=192 output=344\n",
      "I1218 18:54:48.511588 140032649238336 efficientnet_model.py:143] round_filter input=192 output=344\n",
      "I1218 18:54:48.511699 140032649238336 efficientnet_model.py:143] round_filter input=320 output=576\n",
      "I1218 18:54:48.683948 140032649238336 efficientnet_model.py:143] round_filter input=1280 output=2304\n",
      "I1218 18:54:48.707020 140032649238336 efficientnet_model.py:453] Building model efficientnet with params ModelConfig(width_coefficient=1.8, depth_coefficient=2.6, resolution=528, dropout_rate=0.5, blocks=(BlockConfig(input_filters=32, output_filters=16, kernel_size=3, num_repeat=1, expand_ratio=1, strides=(1, 1), se_ratio=0.25, id_skip=True, fused_conv=False, conv_type='depthwise'), BlockConfig(input_filters=16, output_filters=24, kernel_size=3, num_repeat=2, expand_ratio=6, strides=(2, 2), se_ratio=0.25, id_skip=True, fused_conv=False, conv_type='depthwise'), BlockConfig(input_filters=24, output_filters=40, kernel_size=5, num_repeat=2, expand_ratio=6, strides=(2, 2), se_ratio=0.25, id_skip=True, fused_conv=False, conv_type='depthwise'), BlockConfig(input_filters=40, output_filters=80, kernel_size=3, num_repeat=3, expand_ratio=6, strides=(2, 2), se_ratio=0.25, id_skip=True, fused_conv=False, conv_type='depthwise'), BlockConfig(input_filters=80, output_filters=112, kernel_size=5, num_repeat=3, expand_ratio=6, strides=(1, 1), se_ratio=0.25, id_skip=True, fused_conv=False, conv_type='depthwise'), BlockConfig(input_filters=112, output_filters=192, kernel_size=5, num_repeat=4, expand_ratio=6, strides=(2, 2), se_ratio=0.25, id_skip=True, fused_conv=False, conv_type='depthwise'), BlockConfig(input_filters=192, output_filters=320, kernel_size=3, num_repeat=1, expand_ratio=6, strides=(1, 1), se_ratio=0.25, id_skip=True, fused_conv=False, conv_type='depthwise')), stem_base_filters=32, top_base_filters=1280, activation='simple_swish', batch_norm='default', bn_momentum=0.99, bn_epsilon=0.001, weight_decay=5e-06, drop_connect_rate=0.2, depth_divisor=8, min_depth=None, use_se=True, input_channels=3, num_classes=1000, model_name='efficientnet', rescale_input=False, data_format='channels_last', dtype='float32')\n",
      "I1218 18:54:48.786902 140032649238336 ssd_efficientnet_bifpn_feature_extractor.py:150] EfficientDet EfficientNet backbone version: efficientnet-b7\n",
      "I1218 18:54:48.787012 140032649238336 ssd_efficientnet_bifpn_feature_extractor.py:152] EfficientDet BiFPN num filters: 384\n",
      "I1218 18:54:48.787050 140032649238336 ssd_efficientnet_bifpn_feature_extractor.py:153] EfficientDet BiFPN num iterations: 8\n",
      "I1218 18:54:48.788395 140032649238336 efficientnet_model.py:143] round_filter input=32 output=64\n",
      "I1218 18:54:48.801224 140032649238336 efficientnet_model.py:143] round_filter input=32 output=64\n",
      "I1218 18:54:48.801320 140032649238336 efficientnet_model.py:143] round_filter input=16 output=32\n",
      "I1218 18:54:48.981331 140032649238336 efficientnet_model.py:143] round_filter input=16 output=32\n",
      "I1218 18:54:48.981436 140032649238336 efficientnet_model.py:143] round_filter input=24 output=48\n",
      "I1218 18:54:49.374546 140032649238336 efficientnet_model.py:143] round_filter input=24 output=48\n",
      "I1218 18:54:49.374650 140032649238336 efficientnet_model.py:143] round_filter input=40 output=80\n",
      "I1218 18:54:49.772307 140032649238336 efficientnet_model.py:143] round_filter input=40 output=80\n",
      "I1218 18:54:49.772410 140032649238336 efficientnet_model.py:143] round_filter input=80 output=160\n",
      "I1218 18:54:50.334553 140032649238336 efficientnet_model.py:143] round_filter input=80 output=160\n",
      "I1218 18:54:50.334662 140032649238336 efficientnet_model.py:143] round_filter input=112 output=224\n",
      "I1218 18:54:50.902989 140032649238336 efficientnet_model.py:143] round_filter input=112 output=224\n",
      "I1218 18:54:50.903096 140032649238336 efficientnet_model.py:143] round_filter input=192 output=384\n",
      "I1218 18:54:51.795131 140032649238336 efficientnet_model.py:143] round_filter input=192 output=384\n",
      "I1218 18:54:51.795238 140032649238336 efficientnet_model.py:143] round_filter input=320 output=640\n",
      "I1218 18:54:52.030767 140032649238336 efficientnet_model.py:143] round_filter input=1280 output=2560\n",
      "I1218 18:54:52.057932 140032649238336 efficientnet_model.py:453] Building model efficientnet with params ModelConfig(width_coefficient=2.0, depth_coefficient=3.1, resolution=600, dropout_rate=0.5, blocks=(BlockConfig(input_filters=32, output_filters=16, kernel_size=3, num_repeat=1, expand_ratio=1, strides=(1, 1), se_ratio=0.25, id_skip=True, fused_conv=False, conv_type='depthwise'), BlockConfig(input_filters=16, output_filters=24, kernel_size=3, num_repeat=2, expand_ratio=6, strides=(2, 2), se_ratio=0.25, id_skip=True, fused_conv=False, conv_type='depthwise'), BlockConfig(input_filters=24, output_filters=40, kernel_size=5, num_repeat=2, expand_ratio=6, strides=(2, 2), se_ratio=0.25, id_skip=True, fused_conv=False, conv_type='depthwise'), BlockConfig(input_filters=40, output_filters=80, kernel_size=3, num_repeat=3, expand_ratio=6, strides=(2, 2), se_ratio=0.25, id_skip=True, fused_conv=False, conv_type='depthwise'), BlockConfig(input_filters=80, output_filters=112, kernel_size=5, num_repeat=3, expand_ratio=6, strides=(1, 1), se_ratio=0.25, id_skip=True, fused_conv=False, conv_type='depthwise'), BlockConfig(input_filters=112, output_filters=192, kernel_size=5, num_repeat=4, expand_ratio=6, strides=(2, 2), se_ratio=0.25, id_skip=True, fused_conv=False, conv_type='depthwise'), BlockConfig(input_filters=192, output_filters=320, kernel_size=3, num_repeat=1, expand_ratio=6, strides=(1, 1), se_ratio=0.25, id_skip=True, fused_conv=False, conv_type='depthwise')), stem_base_filters=32, top_base_filters=1280, activation='simple_swish', batch_norm='default', bn_momentum=0.99, bn_epsilon=0.001, weight_decay=5e-06, drop_connect_rate=0.2, depth_divisor=8, min_depth=None, use_se=True, input_channels=3, num_classes=1000, model_name='efficientnet', rescale_input=False, data_format='channels_last', dtype='float32')\n",
      "INFO:tensorflow:time(__main__.ModelBuilderTF2Test.test_create_ssd_models_from_config): 16.21s\n",
      "I1218 18:54:52.149862 140032649238336 test_util.py:2457] time(__main__.ModelBuilderTF2Test.test_create_ssd_models_from_config): 16.21s\n",
      "[       OK ] ModelBuilderTF2Test.test_create_ssd_models_from_config\n",
      "[ RUN      ] ModelBuilderTF2Test.test_invalid_faster_rcnn_batchnorm_update\n",
      "INFO:tensorflow:time(__main__.ModelBuilderTF2Test.test_invalid_faster_rcnn_batchnorm_update): 0.0s\n",
      "I1218 18:54:52.168316 140032649238336 test_util.py:2457] time(__main__.ModelBuilderTF2Test.test_invalid_faster_rcnn_batchnorm_update): 0.0s\n",
      "[       OK ] ModelBuilderTF2Test.test_invalid_faster_rcnn_batchnorm_update\n",
      "[ RUN      ] ModelBuilderTF2Test.test_invalid_first_stage_nms_iou_threshold\n",
      "INFO:tensorflow:time(__main__.ModelBuilderTF2Test.test_invalid_first_stage_nms_iou_threshold): 0.0s\n",
      "I1218 18:54:52.169646 140032649238336 test_util.py:2457] time(__main__.ModelBuilderTF2Test.test_invalid_first_stage_nms_iou_threshold): 0.0s\n",
      "[       OK ] ModelBuilderTF2Test.test_invalid_first_stage_nms_iou_threshold\n",
      "[ RUN      ] ModelBuilderTF2Test.test_invalid_model_config_proto\n",
      "INFO:tensorflow:time(__main__.ModelBuilderTF2Test.test_invalid_model_config_proto): 0.0s\n",
      "I1218 18:54:52.169905 140032649238336 test_util.py:2457] time(__main__.ModelBuilderTF2Test.test_invalid_model_config_proto): 0.0s\n",
      "[       OK ] ModelBuilderTF2Test.test_invalid_model_config_proto\n",
      "[ RUN      ] ModelBuilderTF2Test.test_invalid_second_stage_batch_size\n",
      "INFO:tensorflow:time(__main__.ModelBuilderTF2Test.test_invalid_second_stage_batch_size): 0.0s\n",
      "I1218 18:54:52.170923 140032649238336 test_util.py:2457] time(__main__.ModelBuilderTF2Test.test_invalid_second_stage_batch_size): 0.0s\n",
      "[       OK ] ModelBuilderTF2Test.test_invalid_second_stage_batch_size\n",
      "[ RUN      ] ModelBuilderTF2Test.test_session\n",
      "[  SKIPPED ] ModelBuilderTF2Test.test_session\n",
      "[ RUN      ] ModelBuilderTF2Test.test_unknown_faster_rcnn_feature_extractor\n",
      "INFO:tensorflow:time(__main__.ModelBuilderTF2Test.test_unknown_faster_rcnn_feature_extractor): 0.0s\n",
      "I1218 18:54:52.171856 140032649238336 test_util.py:2457] time(__main__.ModelBuilderTF2Test.test_unknown_faster_rcnn_feature_extractor): 0.0s\n",
      "[       OK ] ModelBuilderTF2Test.test_unknown_faster_rcnn_feature_extractor\n",
      "[ RUN      ] ModelBuilderTF2Test.test_unknown_meta_architecture\n",
      "INFO:tensorflow:time(__main__.ModelBuilderTF2Test.test_unknown_meta_architecture): 0.0s\n",
      "I1218 18:54:52.172075 140032649238336 test_util.py:2457] time(__main__.ModelBuilderTF2Test.test_unknown_meta_architecture): 0.0s\n",
      "[       OK ] ModelBuilderTF2Test.test_unknown_meta_architecture\n",
      "[ RUN      ] ModelBuilderTF2Test.test_unknown_ssd_feature_extractor\n",
      "INFO:tensorflow:time(__main__.ModelBuilderTF2Test.test_unknown_ssd_feature_extractor): 0.0s\n",
      "I1218 18:54:52.172783 140032649238336 test_util.py:2457] time(__main__.ModelBuilderTF2Test.test_unknown_ssd_feature_extractor): 0.0s\n",
      "[       OK ] ModelBuilderTF2Test.test_unknown_ssd_feature_extractor\n",
      "----------------------------------------------------------------------\n",
      "Ran 24 tests in 19.865s\n",
      "\n",
      "OK (skipped=1)\n"
     ]
    }
   ],
   "source": [
    "VERIFICATION_SCRIPT = os.path.join(paths['APIMODEL_PATH'], 'research', 'object_detection', 'builders', 'model_builder_tf2_test.py')\n",
    "# Verify Installation\n",
    "!python {VERIFICATION_SCRIPT}"
   ]
  },
  {
   "cell_type": "code",
   "execution_count": null,
   "metadata": {
    "scrolled": true
   },
   "outputs": [],
   "source": [
    "# !pip install tensorflow --upgrade"
   ]
  },
  {
   "cell_type": "code",
   "execution_count": null,
   "metadata": {
    "scrolled": true
   },
   "outputs": [],
   "source": [
    "# !pip uninstall protobuf matplotlib -y\n",
    "# !pip install protobuf matplotlib==3.2"
   ]
  },
  {
   "cell_type": "code",
   "execution_count": 87,
   "metadata": {},
   "outputs": [],
   "source": [
    "import object_detection\n",
    "## if error\n",
    "# pip install tensorflow-object-detection-api "
   ]
  },
  {
   "cell_type": "code",
   "execution_count": 88,
   "metadata": {
    "colab": {
     "base_uri": "https://localhost:8080/"
    },
    "id": "csofht2npfDE",
    "outputId": "ff5471b2-bed2-43f2-959c-327a706527b6",
    "scrolled": true
   },
   "outputs": [
    {
     "name": "stdout",
     "output_type": "stream",
     "text": [
      "/bin/bash: /home/chanyu/anaconda3/lib/libtinfo.so.6: no version information available (required by /bin/bash)\n",
      "--2022-12-18 18:54:52--  http://download.tensorflow.org/models/object_detection/tf2/20200711/ssd_mobilenet_v2_fpnlite_640x640_coco17_tpu-8.tar.gz\n",
      "Resolving download.tensorflow.org (download.tensorflow.org)... 172.217.163.48, 2404:6800:4012:4::2010\n",
      "Connecting to download.tensorflow.org (download.tensorflow.org)|172.217.163.48|:80... connected.\n",
      "HTTP request sent, awaiting response... 200 OK\n",
      "Length: 20518283 (20M) [application/x-tar]\n",
      "Saving to: ‘ssd_mobilenet_v2_fpnlite_640x640_coco17_tpu-8.tar.gz’\n",
      "\n",
      "ssd_mobilenet_v2_fp 100%[===================>]  19.57M  7.33MB/s    in 2.7s    \n",
      "\n",
      "2022-12-18 18:54:56 (7.33 MB/s) - ‘ssd_mobilenet_v2_fpnlite_640x640_coco17_tpu-8.tar.gz’ saved [20518283/20518283]\n",
      "\n",
      "/bin/bash: /home/chanyu/anaconda3/lib/libtinfo.so.6: no version information available (required by /bin/bash)\n",
      "/bin/bash: /home/chanyu/anaconda3/lib/libtinfo.so.6: no version information available (required by /bin/bash)\n",
      "ssd_mobilenet_v2_fpnlite_640x640_coco17_tpu-8/\n",
      "ssd_mobilenet_v2_fpnlite_640x640_coco17_tpu-8/checkpoint/\n",
      "ssd_mobilenet_v2_fpnlite_640x640_coco17_tpu-8/checkpoint/ckpt-0.data-00000-of-00001\n",
      "ssd_mobilenet_v2_fpnlite_640x640_coco17_tpu-8/checkpoint/checkpoint\n",
      "ssd_mobilenet_v2_fpnlite_640x640_coco17_tpu-8/checkpoint/ckpt-0.index\n",
      "ssd_mobilenet_v2_fpnlite_640x640_coco17_tpu-8/pipeline.config\n",
      "ssd_mobilenet_v2_fpnlite_640x640_coco17_tpu-8/saved_model/\n",
      "ssd_mobilenet_v2_fpnlite_640x640_coco17_tpu-8/saved_model/saved_model.pb\n",
      "ssd_mobilenet_v2_fpnlite_640x640_coco17_tpu-8/saved_model/variables/\n",
      "ssd_mobilenet_v2_fpnlite_640x640_coco17_tpu-8/saved_model/variables/variables.data-00000-of-00001\n",
      "ssd_mobilenet_v2_fpnlite_640x640_coco17_tpu-8/saved_model/variables/variables.index\n"
     ]
    }
   ],
   "source": [
    "!wget {PRETRAINED_MODEL_URL}\n",
    "!mv {PRETRAINED_MODEL_NAME+'.tar.gz'} {paths['PRETRAINED_MODEL_PATH']}\n",
    "!cd {paths['PRETRAINED_MODEL_PATH']} && tar -zxvf {PRETRAINED_MODEL_NAME+'.tar.gz'}"
   ]
  },
  {
   "cell_type": "code",
   "execution_count": 89,
   "metadata": {},
   "outputs": [
    {
     "data": {
      "text/plain": [
       "'Tensorflow/workspace/pre-trained-models'"
      ]
     },
     "execution_count": 89,
     "metadata": {},
     "output_type": "execute_result"
    }
   ],
   "source": [
    "paths['PRETRAINED_MODEL_PATH']"
   ]
  },
  {
   "cell_type": "markdown",
   "metadata": {
    "id": "M5KJTnkfpfDC"
   },
   "source": [
    "# 2. Create Label Map"
   ]
  },
  {
   "cell_type": "code",
   "execution_count": null,
   "metadata": {},
   "outputs": [],
   "source": [
    "#labels = [{'name':'wc', 'id':1}, {'name':'show', 'id':2}, {'name':'sister', 'id':3}]\n"
   ]
  },
  {
   "cell_type": "code",
   "execution_count": 90,
   "metadata": {
    "id": "p1BVDWo7pfDC"
   },
   "outputs": [],
   "source": [
    "labels = [{'name':'wc', 'id':1}, {'name':'show', 'id':2}, {'name':'sister', 'id':3}, \n",
    "         {'name':'zero', 'id':4}, {'name':'no', 'id':5}, {'name':'ok', 'id':6} ]\n",
    "\n",
    "with open(files['LABELMAP'], 'w') as f:\n",
    "    for label in labels:\n",
    "        f.write('item { \\n')\n",
    "        f.write('\\tname:\\'{}\\'\\n'.format(label['name']))\n",
    "        f.write('\\tid:{}\\n'.format(label['id']))\n",
    "        f.write('}\\n')"
   ]
  },
  {
   "cell_type": "code",
   "execution_count": null,
   "metadata": {},
   "outputs": [],
   "source": [
    "# files['LABELMAP']"
   ]
  },
  {
   "cell_type": "markdown",
   "metadata": {
    "id": "C88zyVELpfDC"
   },
   "source": [
    "# 3. Create TF records"
   ]
  },
  {
   "cell_type": "code",
   "execution_count": 91,
   "metadata": {
    "colab": {
     "base_uri": "https://localhost:8080/"
    },
    "id": "kvf5WccwrFGq",
    "outputId": "49902aeb-0bd7-4298-e1a0-5b4a64eb2064"
   },
   "outputs": [],
   "source": [
    "# OPTIONAL IF RUNNING ON COLAB\n",
    "ARCHIVE_FILES = os.path.join(paths['IMAGE_PATH'], 'archive.tar.gz')\n",
    "if os.path.exists(ARCHIVE_FILES):\n",
    "  !tar -zxvf {ARCHIVE_FILES}"
   ]
  },
  {
   "cell_type": "code",
   "execution_count": 92,
   "metadata": {
    "colab": {
     "base_uri": "https://localhost:8080/"
    },
    "id": "KWpb_BVUpfDD",
    "outputId": "56ce2a3f-3933-4ee6-8a9d-d5ec65f7d73c"
   },
   "outputs": [],
   "source": [
    "if not os.path.exists(files['TF_RECORD_SCRIPT']):\n",
    "    !git clone https://github.com/nicknochnack/GenerateTFRecord {paths['SCRIPTS_PATH']}"
   ]
  },
  {
   "cell_type": "code",
   "execution_count": 93,
   "metadata": {
    "colab": {
     "base_uri": "https://localhost:8080/"
    },
    "id": "UPFToGZqpfDD",
    "outputId": "0ebb456f-aadc-4a1f-96e6-fbfec1923e1c",
    "scrolled": true
   },
   "outputs": [
    {
     "name": "stdout",
     "output_type": "stream",
     "text": [
      "/bin/bash: /home/chanyu/anaconda3/lib/libtinfo.so.6: no version information available (required by /bin/bash)\n",
      "bash: /home/chanyu/anaconda3/lib/libtinfo.so.6: no version information available (required by bash)\n",
      "bash: /home/chanyu/anaconda3/lib/libtinfo.so.6: no version information available (required by bash)\n",
      "bash: /home/chanyu/anaconda3/lib/libtinfo.so.6: no version information available (required by bash)\n",
      "bash: /home/chanyu/anaconda3/lib/libtinfo.so.6: no version information available (required by bash)\n",
      "bash: /home/chanyu/anaconda3/lib/libtinfo.so.6: no version information available (required by bash)\n",
      "bash: /home/chanyu/anaconda3/lib/libtinfo.so.6: no version information available (required by bash)\n",
      "bash: /home/chanyu/anaconda3/lib/libtinfo.so.6: no version information available (required by bash)\n",
      "bash: /home/chanyu/anaconda3/lib/libtinfo.so.6: no version information available (required by bash)\n",
      "bash: /home/chanyu/anaconda3/lib/libtinfo.so.6: no version information available (required by bash)\n",
      "bash: /home/chanyu/anaconda3/lib/libtinfo.so.6: no version information available (required by bash)\n",
      "Successfully created the TFRecord file: Tensorflow/workspace/annotations/train.record\n",
      "/bin/bash: /home/chanyu/anaconda3/lib/libtinfo.so.6: no version information available (required by /bin/bash)\n",
      "bash: /home/chanyu/anaconda3/lib/libtinfo.so.6: no version information available (required by bash)\n",
      "bash: /home/chanyu/anaconda3/lib/libtinfo.so.6: no version information available (required by bash)\n",
      "bash: /home/chanyu/anaconda3/lib/libtinfo.so.6: no version information available (required by bash)\n",
      "bash: /home/chanyu/anaconda3/lib/libtinfo.so.6: no version information available (required by bash)\n",
      "bash: /home/chanyu/anaconda3/lib/libtinfo.so.6: no version information available (required by bash)\n",
      "bash: /home/chanyu/anaconda3/lib/libtinfo.so.6: no version information available (required by bash)\n",
      "bash: /home/chanyu/anaconda3/lib/libtinfo.so.6: no version information available (required by bash)\n",
      "bash: /home/chanyu/anaconda3/lib/libtinfo.so.6: no version information available (required by bash)\n",
      "bash: /home/chanyu/anaconda3/lib/libtinfo.so.6: no version information available (required by bash)\n",
      "bash: /home/chanyu/anaconda3/lib/libtinfo.so.6: no version information available (required by bash)\n",
      "Successfully created the TFRecord file: Tensorflow/workspace/annotations/test.record\n"
     ]
    }
   ],
   "source": [
    "!python {files['TF_RECORD_SCRIPT']} -x {os.path.join(paths['IMAGE_PATH'], 'train')} -l {files['LABELMAP']} -o {os.path.join(paths['ANNOTATION_PATH'], 'train.record')} \n",
    "!python {files['TF_RECORD_SCRIPT']} -x {os.path.join(paths['IMAGE_PATH'], 'test')} -l {files['LABELMAP']} -o {os.path.join(paths['ANNOTATION_PATH'], 'test.record')} "
   ]
  },
  {
   "cell_type": "markdown",
   "metadata": {
    "id": "qT4QU7pLpfDE"
   },
   "source": [
    "# 4. Copy Model Config to Training Folder"
   ]
  },
  {
   "cell_type": "code",
   "execution_count": 94,
   "metadata": {
    "id": "cOjuTFbwpfDF"
   },
   "outputs": [
    {
     "name": "stdout",
     "output_type": "stream",
     "text": [
      "/bin/bash: /home/chanyu/anaconda3/lib/libtinfo.so.6: no version information available (required by /bin/bash)\r\n"
     ]
    }
   ],
   "source": [
    "!cp {os.path.join(paths['PRETRAINED_MODEL_PATH'], PRETRAINED_MODEL_NAME, 'pipeline.config')} {os.path.join(paths['CHECKPOINT_PATH'])}"
   ]
  },
  {
   "cell_type": "markdown",
   "metadata": {
    "id": "Ga8gpNslpfDF"
   },
   "source": [
    "# 5. Update Config For Transfer Learning"
   ]
  },
  {
   "cell_type": "code",
   "execution_count": 95,
   "metadata": {
    "id": "Z9hRrO_ppfDF"
   },
   "outputs": [],
   "source": [
    "import tensorflow as tf\n",
    "from object_detection.utils import config_util\n",
    "from object_detection.protos import pipeline_pb2\n",
    "from google.protobuf import text_format"
   ]
  },
  {
   "cell_type": "code",
   "execution_count": 101,
   "metadata": {
    "id": "c2A0mn4ipfDF",
    "scrolled": true
   },
   "outputs": [],
   "source": [
    "config = config_util.get_configs_from_pipeline_file(files['PIPELINE_CONFIG'])\n",
    "# version proplem"
   ]
  },
  {
   "cell_type": "code",
   "execution_count": null,
   "metadata": {},
   "outputs": [],
   "source": [
    "# files['PIPELINE_CONFIG']"
   ]
  },
  {
   "cell_type": "code",
   "execution_count": 102,
   "metadata": {
    "colab": {
     "base_uri": "https://localhost:8080/"
    },
    "id": "uQA13-afpfDF",
    "outputId": "907496a4-a39d-4b13-8c2c-e5978ecb1f10"
   },
   "outputs": [
    {
     "data": {
      "text/plain": [
       "{'model': ssd {\n",
       "   num_classes: 6\n",
       "   image_resizer {\n",
       "     fixed_shape_resizer {\n",
       "       height: 640\n",
       "       width: 640\n",
       "     }\n",
       "   }\n",
       "   feature_extractor {\n",
       "     type: \"ssd_mobilenet_v2_fpn_keras\"\n",
       "     depth_multiplier: 1.0\n",
       "     min_depth: 16\n",
       "     conv_hyperparams {\n",
       "       regularizer {\n",
       "         l2_regularizer {\n",
       "           weight: 3.9999998989515007e-05\n",
       "         }\n",
       "       }\n",
       "       initializer {\n",
       "         random_normal_initializer {\n",
       "           mean: 0.0\n",
       "           stddev: 0.009999999776482582\n",
       "         }\n",
       "       }\n",
       "       activation: RELU_6\n",
       "       batch_norm {\n",
       "         decay: 0.996999979019165\n",
       "         scale: true\n",
       "         epsilon: 0.0010000000474974513\n",
       "       }\n",
       "     }\n",
       "     use_depthwise: true\n",
       "     override_base_feature_extractor_hyperparams: true\n",
       "     fpn {\n",
       "       min_level: 3\n",
       "       max_level: 7\n",
       "       additional_layer_depth: 128\n",
       "     }\n",
       "   }\n",
       "   box_coder {\n",
       "     faster_rcnn_box_coder {\n",
       "       y_scale: 10.0\n",
       "       x_scale: 10.0\n",
       "       height_scale: 5.0\n",
       "       width_scale: 5.0\n",
       "     }\n",
       "   }\n",
       "   matcher {\n",
       "     argmax_matcher {\n",
       "       matched_threshold: 0.5\n",
       "       unmatched_threshold: 0.5\n",
       "       ignore_thresholds: false\n",
       "       negatives_lower_than_unmatched: true\n",
       "       force_match_for_each_row: true\n",
       "       use_matmul_gather: true\n",
       "     }\n",
       "   }\n",
       "   similarity_calculator {\n",
       "     iou_similarity {\n",
       "     }\n",
       "   }\n",
       "   box_predictor {\n",
       "     weight_shared_convolutional_box_predictor {\n",
       "       conv_hyperparams {\n",
       "         regularizer {\n",
       "           l2_regularizer {\n",
       "             weight: 3.9999998989515007e-05\n",
       "           }\n",
       "         }\n",
       "         initializer {\n",
       "           random_normal_initializer {\n",
       "             mean: 0.0\n",
       "             stddev: 0.009999999776482582\n",
       "           }\n",
       "         }\n",
       "         activation: RELU_6\n",
       "         batch_norm {\n",
       "           decay: 0.996999979019165\n",
       "           scale: true\n",
       "           epsilon: 0.0010000000474974513\n",
       "         }\n",
       "       }\n",
       "       depth: 128\n",
       "       num_layers_before_predictor: 4\n",
       "       kernel_size: 3\n",
       "       class_prediction_bias_init: -4.599999904632568\n",
       "       share_prediction_tower: true\n",
       "       use_depthwise: true\n",
       "     }\n",
       "   }\n",
       "   anchor_generator {\n",
       "     multiscale_anchor_generator {\n",
       "       min_level: 3\n",
       "       max_level: 7\n",
       "       anchor_scale: 4.0\n",
       "       aspect_ratios: 1.0\n",
       "       aspect_ratios: 2.0\n",
       "       aspect_ratios: 0.5\n",
       "       scales_per_octave: 2\n",
       "     }\n",
       "   }\n",
       "   post_processing {\n",
       "     batch_non_max_suppression {\n",
       "       score_threshold: 9.99999993922529e-09\n",
       "       iou_threshold: 0.6000000238418579\n",
       "       max_detections_per_class: 100\n",
       "       max_total_detections: 100\n",
       "       use_static_shapes: false\n",
       "     }\n",
       "     score_converter: SIGMOID\n",
       "   }\n",
       "   normalize_loss_by_num_matches: true\n",
       "   loss {\n",
       "     localization_loss {\n",
       "       weighted_smooth_l1 {\n",
       "       }\n",
       "     }\n",
       "     classification_loss {\n",
       "       weighted_sigmoid_focal {\n",
       "         gamma: 2.0\n",
       "         alpha: 0.25\n",
       "       }\n",
       "     }\n",
       "     classification_weight: 1.0\n",
       "     localization_weight: 1.0\n",
       "   }\n",
       "   encode_background_as_zeros: true\n",
       "   normalize_loc_loss_by_codesize: true\n",
       "   inplace_batchnorm_update: true\n",
       "   freeze_batchnorm: false\n",
       " },\n",
       " 'train_config': batch_size: 3\n",
       " data_augmentation_options {\n",
       "   random_horizontal_flip {\n",
       "   }\n",
       " }\n",
       " data_augmentation_options {\n",
       "   random_crop_image {\n",
       "     min_object_covered: 0.0\n",
       "     min_aspect_ratio: 0.75\n",
       "     max_aspect_ratio: 3.0\n",
       "     min_area: 0.75\n",
       "     max_area: 1.0\n",
       "     overlap_thresh: 0.0\n",
       "   }\n",
       " }\n",
       " sync_replicas: true\n",
       " optimizer {\n",
       "   momentum_optimizer {\n",
       "     learning_rate {\n",
       "       cosine_decay_learning_rate {\n",
       "         learning_rate_base: 0.07999999821186066\n",
       "         total_steps: 50000\n",
       "         warmup_learning_rate: 0.026666000485420227\n",
       "         warmup_steps: 1000\n",
       "       }\n",
       "     }\n",
       "     momentum_optimizer_value: 0.8999999761581421\n",
       "   }\n",
       "   use_moving_average: false\n",
       " }\n",
       " fine_tune_checkpoint: \"Tensorflow/workspace/pre-trained-models/ssd_mobilenet_v2_fpnlite_640x640_coco17_tpu-8/checkpoint/ckpt-0\"\n",
       " num_steps: 50000\n",
       " startup_delay_steps: 0.0\n",
       " replicas_to_aggregate: 8\n",
       " max_number_of_boxes: 100\n",
       " unpad_groundtruth_tensors: false\n",
       " fine_tune_checkpoint_type: \"detection\"\n",
       " fine_tune_checkpoint_version: V2,\n",
       " 'train_input_config': label_map_path: \"Tensorflow/workspace/annotations/label_map.pbtxt\"\n",
       " tf_record_input_reader {\n",
       "   input_path: \"Tensorflow/workspace/annotations/train.record\"\n",
       " },\n",
       " 'eval_config': metrics_set: \"coco_detection_metrics\"\n",
       " use_moving_averages: false,\n",
       " 'eval_input_configs': [label_map_path: \"Tensorflow/workspace/annotations/label_map.pbtxt\"\n",
       " shuffle: false\n",
       " num_epochs: 1\n",
       " tf_record_input_reader {\n",
       "   input_path: \"Tensorflow/workspace/annotations/test.record\"\n",
       " }\n",
       " ],\n",
       " 'eval_input_config': label_map_path: \"Tensorflow/workspace/annotations/label_map.pbtxt\"\n",
       " shuffle: false\n",
       " num_epochs: 1\n",
       " tf_record_input_reader {\n",
       "   input_path: \"Tensorflow/workspace/annotations/test.record\"\n",
       " }}"
      ]
     },
     "execution_count": 102,
     "metadata": {},
     "output_type": "execute_result"
    }
   ],
   "source": [
    "config"
   ]
  },
  {
   "cell_type": "code",
   "execution_count": 98,
   "metadata": {
    "id": "9vK5lotDpfDF"
   },
   "outputs": [],
   "source": [
    "pipeline_config = pipeline_pb2.TrainEvalPipelineConfig()\n",
    "with tf.io.gfile.GFile(files['PIPELINE_CONFIG'], \"r\") as f:                                                                                                                                                                                                                     \n",
    "    proto_str = f.read()                                                                                                                                                                                                                                          \n",
    "    text_format.Merge(proto_str, pipeline_config)  "
   ]
  },
  {
   "cell_type": "code",
   "execution_count": 99,
   "metadata": {
    "id": "rP43Ph0JpfDG"
   },
   "outputs": [],
   "source": [
    "pipeline_config.model.ssd.num_classes = len(labels)\n",
    "pipeline_config.train_config.batch_size = 3\n",
    "pipeline_config.train_config.fine_tune_checkpoint = os.path.join(paths['PRETRAINED_MODEL_PATH'], PRETRAINED_MODEL_NAME, 'checkpoint', 'ckpt-0')\n",
    "pipeline_config.train_config.fine_tune_checkpoint_type = \"detection\"\n",
    "pipeline_config.train_input_reader.label_map_path= files['LABELMAP']\n",
    "pipeline_config.train_input_reader.tf_record_input_reader.input_path[:] = [os.path.join(paths['ANNOTATION_PATH'], 'train.record')]\n",
    "pipeline_config.eval_input_reader[0].label_map_path = files['LABELMAP']\n",
    "pipeline_config.eval_input_reader[0].tf_record_input_reader.input_path[:] = [os.path.join(paths['ANNOTATION_PATH'], 'test.record')]"
   ]
  },
  {
   "cell_type": "code",
   "execution_count": 100,
   "metadata": {
    "id": "oJvfgwWqpfDG"
   },
   "outputs": [],
   "source": [
    "config_text = text_format.MessageToString(pipeline_config)                                                                                                                                                                                                        \n",
    "with tf.io.gfile.GFile(files['PIPELINE_CONFIG'], \"wb\") as f:                                                                                                                                                                                                                     \n",
    "    f.write(config_text)   "
   ]
  },
  {
   "cell_type": "markdown",
   "metadata": {
    "id": "Zr3ON7xMpfDG"
   },
   "source": [
    "# 6. Train the model"
   ]
  },
  {
   "cell_type": "code",
   "execution_count": 103,
   "metadata": {
    "id": "B-Y2UQmQpfDG"
   },
   "outputs": [],
   "source": [
    "TRAINING_SCRIPT = os.path.join(paths['APIMODEL_PATH'], 'research', 'object_detection', 'model_main_tf2.py')"
   ]
  },
  {
   "cell_type": "code",
   "execution_count": 104,
   "metadata": {
    "id": "jMP2XDfQpfDH"
   },
   "outputs": [],
   "source": [
    "command = \"python {} --model_dir={} --pipeline_config_path={} --num_train_steps=4000\".format(TRAINING_SCRIPT, paths['CHECKPOINT_PATH'],files['PIPELINE_CONFIG'])"
   ]
  },
  {
   "cell_type": "code",
   "execution_count": null,
   "metadata": {
    "colab": {
     "base_uri": "https://localhost:8080/"
    },
    "id": "A4OXXi-ApfDH",
    "outputId": "117a0e83-012b-466e-b7a6-ccaa349ac5ab"
   },
   "outputs": [],
   "source": [
    "print(command)"
   ]
  },
  {
   "cell_type": "code",
   "execution_count": null,
   "metadata": {},
   "outputs": [],
   "source": [
    "# turn on gpu \n",
    "!sudo nvidia-smi -pm 1"
   ]
  },
  {
   "cell_type": "code",
   "execution_count": null,
   "metadata": {
    "scrolled": true
   },
   "outputs": [],
   "source": [
    "# !pip install IPython"
   ]
  },
  {
   "cell_type": "code",
   "execution_count": 105,
   "metadata": {
    "colab": {
     "base_uri": "https://localhost:8080/"
    },
    "id": "i3ZsJR-qpfDH",
    "outputId": "cabec5e1-45e6-4f2f-d9cf-297d9c1d0225",
    "scrolled": true
   },
   "outputs": [
    {
     "name": "stdout",
     "output_type": "stream",
     "text": [
      "/bin/bash: /home/chanyu/anaconda3/lib/libtinfo.so.6: no version information available (required by /bin/bash)\n",
      "bash: /home/chanyu/anaconda3/lib/libtinfo.so.6: no version information available (required by bash)\n",
      "bash: /home/chanyu/anaconda3/lib/libtinfo.so.6: no version information available (required by bash)\n",
      "bash: /home/chanyu/anaconda3/lib/libtinfo.so.6: no version information available (required by bash)\n",
      "bash: /home/chanyu/anaconda3/lib/libtinfo.so.6: no version information available (required by bash)\n",
      "bash: /home/chanyu/anaconda3/lib/libtinfo.so.6: no version information available (required by bash)\n",
      "bash: /home/chanyu/anaconda3/lib/libtinfo.so.6: no version information available (required by bash)\n",
      "bash: /home/chanyu/anaconda3/lib/libtinfo.so.6: no version information available (required by bash)\n",
      "bash: /home/chanyu/anaconda3/lib/libtinfo.so.6: no version information available (required by bash)\n",
      "bash: /home/chanyu/anaconda3/lib/libtinfo.so.6: no version information available (required by bash)\n",
      "bash: /home/chanyu/anaconda3/lib/libtinfo.so.6: no version information available (required by bash)\n",
      "2022-12-18 18:55:24.643913: I tensorflow/core/platform/cpu_feature_guard.cc:193] This TensorFlow binary is optimized with oneAPI Deep Neural Network Library (oneDNN) to use the following CPU instructions in performance-critical operations:  AVX2 FMA\n",
      "To enable them in other operations, rebuild TensorFlow with the appropriate compiler flags.\n",
      "2022-12-18 18:55:25.338017: W tensorflow/compiler/xla/stream_executor/platform/default/dso_loader.cc:64] Could not load dynamic library 'libnvinfer.so.7'; dlerror: libnvinfer.so.7: cannot open shared object file: No such file or directory; LD_LIBRARY_PATH: /usr/local/cuda/lib64:/home/chanyu/anaconda3/lib/\n",
      "2022-12-18 18:55:25.338062: W tensorflow/compiler/xla/stream_executor/platform/default/dso_loader.cc:64] Could not load dynamic library 'libnvinfer_plugin.so.7'; dlerror: libnvinfer_plugin.so.7: cannot open shared object file: No such file or directory; LD_LIBRARY_PATH: /usr/local/cuda/lib64:/home/chanyu/anaconda3/lib/\n",
      "2022-12-18 18:55:25.338068: W tensorflow/compiler/tf2tensorrt/utils/py_utils.cc:38] TF-TRT Warning: Cannot dlopen some TensorRT libraries. If you would like to use Nvidia GPU with TensorRT, please make sure the missing libraries mentioned above are installed properly.\n",
      "/home/chanyu/.pyenv/versions/3.8.10/lib/python3.8/site-packages/tensorflow_addons/utils/ensure_tf_install.py:53: UserWarning: Tensorflow Addons supports using Python ops for all Tensorflow versions above or equal to 2.8.0 and strictly below 2.11.0 (nightly versions are not supported). \n",
      " The versions of TensorFlow you are currently using is 2.11.0 and is not supported. \n",
      "Some things might work, some things might not.\n",
      "If you were to encounter a bug, do not file an issue.\n",
      "If you want to make sure you're using a tested and supported configuration, either change the TensorFlow version or the TensorFlow Addons's version. \n",
      "You can find the compatibility matrix in TensorFlow Addon's readme:\n",
      "https://github.com/tensorflow/addons\n",
      "  warnings.warn(\n",
      "2022-12-18 18:55:26.881370: I tensorflow/compiler/xla/stream_executor/cuda/cuda_gpu_executor.cc:981] successful NUMA node read from SysFS had negative value (-1), but there must be at least one NUMA node, so returning NUMA node zero\n",
      "2022-12-18 18:55:26.884743: I tensorflow/compiler/xla/stream_executor/cuda/cuda_gpu_executor.cc:981] successful NUMA node read from SysFS had negative value (-1), but there must be at least one NUMA node, so returning NUMA node zero\n",
      "2022-12-18 18:55:26.884950: I tensorflow/compiler/xla/stream_executor/cuda/cuda_gpu_executor.cc:981] successful NUMA node read from SysFS had negative value (-1), but there must be at least one NUMA node, so returning NUMA node zero\n",
      "2022-12-18 18:55:26.885517: I tensorflow/core/platform/cpu_feature_guard.cc:193] This TensorFlow binary is optimized with oneAPI Deep Neural Network Library (oneDNN) to use the following CPU instructions in performance-critical operations:  AVX2 FMA\n",
      "To enable them in other operations, rebuild TensorFlow with the appropriate compiler flags.\n",
      "2022-12-18 18:55:26.886034: I tensorflow/compiler/xla/stream_executor/cuda/cuda_gpu_executor.cc:981] successful NUMA node read from SysFS had negative value (-1), but there must be at least one NUMA node, so returning NUMA node zero\n",
      "2022-12-18 18:55:26.886191: I tensorflow/compiler/xla/stream_executor/cuda/cuda_gpu_executor.cc:981] successful NUMA node read from SysFS had negative value (-1), but there must be at least one NUMA node, so returning NUMA node zero\n",
      "2022-12-18 18:55:26.886330: I tensorflow/compiler/xla/stream_executor/cuda/cuda_gpu_executor.cc:981] successful NUMA node read from SysFS had negative value (-1), but there must be at least one NUMA node, so returning NUMA node zero\n",
      "2022-12-18 18:55:27.260972: I tensorflow/compiler/xla/stream_executor/cuda/cuda_gpu_executor.cc:981] successful NUMA node read from SysFS had negative value (-1), but there must be at least one NUMA node, so returning NUMA node zero\n",
      "2022-12-18 18:55:27.261181: I tensorflow/compiler/xla/stream_executor/cuda/cuda_gpu_executor.cc:981] successful NUMA node read from SysFS had negative value (-1), but there must be at least one NUMA node, so returning NUMA node zero\n",
      "2022-12-18 18:55:27.261330: I tensorflow/compiler/xla/stream_executor/cuda/cuda_gpu_executor.cc:981] successful NUMA node read from SysFS had negative value (-1), but there must be at least one NUMA node, so returning NUMA node zero\n",
      "2022-12-18 18:55:27.261459: I tensorflow/core/common_runtime/gpu/gpu_device.cc:1613] Created device /job:localhost/replica:0/task:0/device:GPU:0 with 3456 MB memory:  -> device: 0, name: NVIDIA GeForce RTX 2060, pci bus id: 0000:08:00.0, compute capability: 7.5\n",
      "INFO:tensorflow:Using MirroredStrategy with devices ('/job:localhost/replica:0/task:0/device:GPU:0',)\n",
      "I1218 18:55:27.307120 140486625494848 mirrored_strategy.py:374] Using MirroredStrategy with devices ('/job:localhost/replica:0/task:0/device:GPU:0',)\n",
      "INFO:tensorflow:Maybe overwriting train_steps: 4000\n",
      "I1218 18:55:27.310241 140486625494848 config_util.py:552] Maybe overwriting train_steps: 4000\n",
      "INFO:tensorflow:Maybe overwriting use_bfloat16: False\n",
      "I1218 18:55:27.310305 140486625494848 config_util.py:552] Maybe overwriting use_bfloat16: False\n",
      "WARNING:tensorflow:From /home/chanyu/Desktop/gesture_detection_3.8/TFODCourse/Tensorflow/models/research/object_detection/model_lib_v2.py:563: StrategyBase.experimental_distribute_datasets_from_function (from tensorflow.python.distribute.distribute_lib) is deprecated and will be removed in a future version.\n",
      "Instructions for updating:\n",
      "rename to distribute_datasets_from_function\n",
      "W1218 18:55:27.330217 140486625494848 deprecation.py:350] From /home/chanyu/Desktop/gesture_detection_3.8/TFODCourse/Tensorflow/models/research/object_detection/model_lib_v2.py:563: StrategyBase.experimental_distribute_datasets_from_function (from tensorflow.python.distribute.distribute_lib) is deprecated and will be removed in a future version.\n",
      "Instructions for updating:\n",
      "rename to distribute_datasets_from_function\n",
      "INFO:tensorflow:Reading unweighted datasets: ['Tensorflow/workspace/annotations/train.record']\n",
      "I1218 18:55:27.339213 140486625494848 dataset_builder.py:162] Reading unweighted datasets: ['Tensorflow/workspace/annotations/train.record']\n",
      "INFO:tensorflow:Reading record datasets for input file: ['Tensorflow/workspace/annotations/train.record']\n",
      "I1218 18:55:27.339352 140486625494848 dataset_builder.py:79] Reading record datasets for input file: ['Tensorflow/workspace/annotations/train.record']\n",
      "INFO:tensorflow:Number of filenames to read: 1\n",
      "I1218 18:55:27.339396 140486625494848 dataset_builder.py:80] Number of filenames to read: 1\n",
      "WARNING:tensorflow:num_readers has been reduced to 1 to match input file shards.\n",
      "W1218 18:55:27.339436 140486625494848 dataset_builder.py:86] num_readers has been reduced to 1 to match input file shards.\n",
      "WARNING:tensorflow:From /home/chanyu/.pyenv/versions/3.8.10/lib/python3.8/site-packages/object_detection/builders/dataset_builder.py:100: parallel_interleave (from tensorflow.python.data.experimental.ops.interleave_ops) is deprecated and will be removed in a future version.\n",
      "Instructions for updating:\n",
      "Use `tf.data.Dataset.interleave(map_func, cycle_length, block_length, num_parallel_calls=tf.data.AUTOTUNE)` instead. If sloppy execution is desired, use `tf.data.Options.deterministic`.\n",
      "W1218 18:55:27.344829 140486625494848 deprecation.py:350] From /home/chanyu/.pyenv/versions/3.8.10/lib/python3.8/site-packages/object_detection/builders/dataset_builder.py:100: parallel_interleave (from tensorflow.python.data.experimental.ops.interleave_ops) is deprecated and will be removed in a future version.\n",
      "Instructions for updating:\n",
      "Use `tf.data.Dataset.interleave(map_func, cycle_length, block_length, num_parallel_calls=tf.data.AUTOTUNE)` instead. If sloppy execution is desired, use `tf.data.Options.deterministic`.\n",
      "WARNING:tensorflow:From /home/chanyu/.pyenv/versions/3.8.10/lib/python3.8/site-packages/object_detection/builders/dataset_builder.py:235: DatasetV1.map_with_legacy_function (from tensorflow.python.data.ops.dataset_ops) is deprecated and will be removed in a future version.\n",
      "Instructions for updating:\n",
      "Use `tf.data.Dataset.map()\n",
      "W1218 18:55:27.359023 140486625494848 deprecation.py:350] From /home/chanyu/.pyenv/versions/3.8.10/lib/python3.8/site-packages/object_detection/builders/dataset_builder.py:235: DatasetV1.map_with_legacy_function (from tensorflow.python.data.ops.dataset_ops) is deprecated and will be removed in a future version.\n",
      "Instructions for updating:\n",
      "Use `tf.data.Dataset.map()\n"
     ]
    },
    {
     "name": "stdout",
     "output_type": "stream",
     "text": [
      "WARNING:tensorflow:From /home/chanyu/.pyenv/versions/3.8.10/lib/python3.8/site-packages/tensorflow/python/autograph/pyct/static_analysis/liveness.py:83: Analyzer.lamba_check (from tensorflow.python.autograph.pyct.static_analysis.liveness) is deprecated and will be removed after 2023-09-23.\n",
      "Instructions for updating:\n",
      "Lambda fuctions will be no more assumed to be used in the statement where they are used, or at least in the same block. https://github.com/tensorflow/tensorflow/issues/56089\n",
      "W1218 18:55:27.881531 140486625494848 deprecation.py:350] From /home/chanyu/.pyenv/versions/3.8.10/lib/python3.8/site-packages/tensorflow/python/autograph/pyct/static_analysis/liveness.py:83: Analyzer.lamba_check (from tensorflow.python.autograph.pyct.static_analysis.liveness) is deprecated and will be removed after 2023-09-23.\n",
      "Instructions for updating:\n",
      "Lambda fuctions will be no more assumed to be used in the statement where they are used, or at least in the same block. https://github.com/tensorflow/tensorflow/issues/56089\n",
      "WARNING:tensorflow:From /home/chanyu/.pyenv/versions/3.8.10/lib/python3.8/site-packages/tensorflow/python/util/dispatch.py:1176: sparse_to_dense (from tensorflow.python.ops.sparse_ops) is deprecated and will be removed in a future version.\n",
      "Instructions for updating:\n",
      "Create a `tf.sparse.SparseTensor` and use `tf.sparse.to_dense` instead.\n",
      "W1218 18:55:32.978281 140486625494848 deprecation.py:350] From /home/chanyu/.pyenv/versions/3.8.10/lib/python3.8/site-packages/tensorflow/python/util/dispatch.py:1176: sparse_to_dense (from tensorflow.python.ops.sparse_ops) is deprecated and will be removed in a future version.\n",
      "Instructions for updating:\n",
      "Create a `tf.sparse.SparseTensor` and use `tf.sparse.to_dense` instead.\n",
      "WARNING:tensorflow:From /home/chanyu/.pyenv/versions/3.8.10/lib/python3.8/site-packages/tensorflow/python/util/dispatch.py:1176: sample_distorted_bounding_box (from tensorflow.python.ops.image_ops_impl) is deprecated and will be removed in a future version.\n",
      "Instructions for updating:\n",
      "`seed2` arg is deprecated.Use sample_distorted_bounding_box_v2 instead.\n",
      "W1218 18:55:35.467069 140486625494848 deprecation.py:350] From /home/chanyu/.pyenv/versions/3.8.10/lib/python3.8/site-packages/tensorflow/python/util/dispatch.py:1176: sample_distorted_bounding_box (from tensorflow.python.ops.image_ops_impl) is deprecated and will be removed in a future version.\n",
      "Instructions for updating:\n",
      "`seed2` arg is deprecated.Use sample_distorted_bounding_box_v2 instead.\n",
      "WARNING:tensorflow:From /home/chanyu/.pyenv/versions/3.8.10/lib/python3.8/site-packages/tensorflow/python/util/dispatch.py:1176: to_float (from tensorflow.python.ops.math_ops) is deprecated and will be removed in a future version.\n",
      "Instructions for updating:\n",
      "Use `tf.cast` instead.\n",
      "W1218 18:55:36.688866 140486625494848 deprecation.py:350] From /home/chanyu/.pyenv/versions/3.8.10/lib/python3.8/site-packages/tensorflow/python/util/dispatch.py:1176: to_float (from tensorflow.python.ops.math_ops) is deprecated and will be removed in a future version.\n",
      "Instructions for updating:\n",
      "Use `tf.cast` instead.\n",
      "2022-12-18 18:55:39.624046: W tensorflow/tsl/framework/cpu_allocator_impl.cc:82] Allocation of 85821696 exceeds 10% of free system memory.\n",
      "2022-12-18 18:55:39.926616: W tensorflow/tsl/framework/cpu_allocator_impl.cc:82] Allocation of 85821696 exceeds 10% of free system memory.\n",
      "2022-12-18 18:55:40.024377: W tensorflow/tsl/framework/cpu_allocator_impl.cc:82] Allocation of 66047136 exceeds 10% of free system memory.\n",
      "2022-12-18 18:55:40.096539: W tensorflow/tsl/framework/cpu_allocator_impl.cc:82] Allocation of 66047136 exceeds 10% of free system memory.\n",
      "/home/chanyu/.pyenv/versions/3.8.10/lib/python3.8/site-packages/keras/backend.py:451: UserWarning: `tf.keras.backend.set_learning_phase` is deprecated and will be removed after 2020-10-11. To update it, simply pass a True/False value to the `training` argument of the `__call__` method of your layer or model.\n",
      "  warnings.warn(\n",
      "2022-12-18 18:55:54.712057: I tensorflow/compiler/xla/stream_executor/cuda/cuda_dnn.cc:428] Loaded cuDNN version 8100\n",
      "2022-12-18 18:55:55.784576: W tensorflow/compiler/xla/stream_executor/gpu/asm_compiler.cc:115] *** WARNING *** You are using ptxas 11.0.194, which is older than 11.1. ptxas before 11.1 is known to miscompile XLA code, leading to incorrect results or invalid-address errors.\n",
      "\n",
      "You may not need to update to CUDA 11.1; cherry-picking the ptxas binary is often sufficient.\n",
      "2022-12-18 18:55:57.436802: W tensorflow/tsl/framework/bfc_allocator.cc:290] Allocator (GPU_0_bfc) ran out of memory trying to allocate 3.34GiB with freed_by_count=0. The caller indicates that this is not a failure, but this may mean that there could be performance gains if more memory were available.\n",
      "2022-12-18 18:55:57.436840: W tensorflow/tsl/framework/bfc_allocator.cc:290] Allocator (GPU_0_bfc) ran out of memory trying to allocate 3.34GiB with freed_by_count=0. The caller indicates that this is not a failure, but this may mean that there could be performance gains if more memory were available.\n",
      "INFO:tensorflow:Reduce to /job:localhost/replica:0/task:0/device:CPU:0 then broadcast to ('/job:localhost/replica:0/task:0/device:CPU:0',).\n",
      "I1218 18:55:58.737878 140486625494848 cross_device_ops.py:616] Reduce to /job:localhost/replica:0/task:0/device:CPU:0 then broadcast to ('/job:localhost/replica:0/task:0/device:CPU:0',).\n",
      "INFO:tensorflow:Reduce to /job:localhost/replica:0/task:0/device:CPU:0 then broadcast to ('/job:localhost/replica:0/task:0/device:CPU:0',).\n",
      "I1218 18:55:58.739691 140486625494848 cross_device_ops.py:616] Reduce to /job:localhost/replica:0/task:0/device:CPU:0 then broadcast to ('/job:localhost/replica:0/task:0/device:CPU:0',).\n",
      "INFO:tensorflow:Reduce to /job:localhost/replica:0/task:0/device:CPU:0 then broadcast to ('/job:localhost/replica:0/task:0/device:CPU:0',).\n",
      "I1218 18:55:58.740272 140486625494848 cross_device_ops.py:616] Reduce to /job:localhost/replica:0/task:0/device:CPU:0 then broadcast to ('/job:localhost/replica:0/task:0/device:CPU:0',).\n",
      "INFO:tensorflow:Reduce to /job:localhost/replica:0/task:0/device:CPU:0 then broadcast to ('/job:localhost/replica:0/task:0/device:CPU:0',).\n",
      "I1218 18:55:58.740810 140486625494848 cross_device_ops.py:616] Reduce to /job:localhost/replica:0/task:0/device:CPU:0 then broadcast to ('/job:localhost/replica:0/task:0/device:CPU:0',).\n",
      "INFO:tensorflow:Reduce to /job:localhost/replica:0/task:0/device:CPU:0 then broadcast to ('/job:localhost/replica:0/task:0/device:CPU:0',).\n",
      "I1218 18:55:58.742835 140486625494848 cross_device_ops.py:616] Reduce to /job:localhost/replica:0/task:0/device:CPU:0 then broadcast to ('/job:localhost/replica:0/task:0/device:CPU:0',).\n",
      "INFO:tensorflow:Reduce to /job:localhost/replica:0/task:0/device:CPU:0 then broadcast to ('/job:localhost/replica:0/task:0/device:CPU:0',).\n",
      "I1218 18:55:58.743484 140486625494848 cross_device_ops.py:616] Reduce to /job:localhost/replica:0/task:0/device:CPU:0 then broadcast to ('/job:localhost/replica:0/task:0/device:CPU:0',).\n",
      "INFO:tensorflow:Reduce to /job:localhost/replica:0/task:0/device:CPU:0 then broadcast to ('/job:localhost/replica:0/task:0/device:CPU:0',).\n",
      "I1218 18:55:58.744051 140486625494848 cross_device_ops.py:616] Reduce to /job:localhost/replica:0/task:0/device:CPU:0 then broadcast to ('/job:localhost/replica:0/task:0/device:CPU:0',).\n",
      "INFO:tensorflow:Reduce to /job:localhost/replica:0/task:0/device:CPU:0 then broadcast to ('/job:localhost/replica:0/task:0/device:CPU:0',).\n",
      "I1218 18:55:58.744569 140486625494848 cross_device_ops.py:616] Reduce to /job:localhost/replica:0/task:0/device:CPU:0 then broadcast to ('/job:localhost/replica:0/task:0/device:CPU:0',).\n",
      "INFO:tensorflow:Reduce to /job:localhost/replica:0/task:0/device:CPU:0 then broadcast to ('/job:localhost/replica:0/task:0/device:CPU:0',).\n",
      "I1218 18:55:58.747305 140486625494848 cross_device_ops.py:616] Reduce to /job:localhost/replica:0/task:0/device:CPU:0 then broadcast to ('/job:localhost/replica:0/task:0/device:CPU:0',).\n",
      "INFO:tensorflow:Reduce to /job:localhost/replica:0/task:0/device:CPU:0 then broadcast to ('/job:localhost/replica:0/task:0/device:CPU:0',).\n",
      "I1218 18:55:58.747872 140486625494848 cross_device_ops.py:616] Reduce to /job:localhost/replica:0/task:0/device:CPU:0 then broadcast to ('/job:localhost/replica:0/task:0/device:CPU:0',).\n"
     ]
    },
    {
     "name": "stdout",
     "output_type": "stream",
     "text": [
      "WARNING:tensorflow:From /home/chanyu/.pyenv/versions/3.8.10/lib/python3.8/site-packages/tensorflow/python/util/deprecation.py:629: calling map_fn_v2 (from tensorflow.python.ops.map_fn) with dtype is deprecated and will be removed in a future version.\n",
      "Instructions for updating:\n",
      "Use fn_output_signature instead\n",
      "W1218 18:55:59.505189 140474908120640 deprecation.py:554] From /home/chanyu/.pyenv/versions/3.8.10/lib/python3.8/site-packages/tensorflow/python/util/deprecation.py:629: calling map_fn_v2 (from tensorflow.python.ops.map_fn) with dtype is deprecated and will be removed in a future version.\n",
      "Instructions for updating:\n",
      "Use fn_output_signature instead\n",
      "2022-12-18 18:56:20.971280: W tensorflow/compiler/xla/stream_executor/gpu/asm_compiler.cc:115] *** WARNING *** You are using ptxas 11.0.194, which is older than 11.1. ptxas before 11.1 is known to miscompile XLA code, leading to incorrect results or invalid-address errors.\n",
      "\n",
      "You may not need to update to CUDA 11.1; cherry-picking the ptxas binary is often sufficient.\n",
      "2022-12-18 18:56:20.971338: W tensorflow/compiler/xla/stream_executor/gpu/asm_compiler.cc:115] *** WARNING *** You are using ptxas 11.0.194, which is older than 11.1. ptxas before 11.1 is known to miscompile XLA code, leading to incorrect results or invalid-address errors.\n",
      "\n",
      "You may not need to update to CUDA 11.1; cherry-picking the ptxas binary is often sufficient.\n",
      "2022-12-18 18:56:20.971361: W tensorflow/compiler/xla/stream_executor/gpu/asm_compiler.cc:115] *** WARNING *** You are using ptxas 11.0.194, which is older than 11.1. ptxas before 11.1 is known to miscompile XLA code, leading to incorrect results or invalid-address errors.\n",
      "\n",
      "You may not need to update to CUDA 11.1; cherry-picking the ptxas binary is often sufficient.\n",
      "2022-12-18 18:56:20.971384: W tensorflow/compiler/xla/stream_executor/gpu/asm_compiler.cc:115] *** WARNING *** You are using ptxas 11.0.194, which is older than 11.1. ptxas before 11.1 is known to miscompile XLA code, leading to incorrect results or invalid-address errors.\n",
      "\n",
      "You may not need to update to CUDA 11.1; cherry-picking the ptxas binary is often sufficient.\n",
      "2022-12-18 18:56:20.971423: W tensorflow/compiler/xla/stream_executor/gpu/asm_compiler.cc:115] *** WARNING *** You are using ptxas 11.0.194, which is older than 11.1. ptxas before 11.1 is known to miscompile XLA code, leading to incorrect results or invalid-address errors.\n",
      "\n",
      "You may not need to update to CUDA 11.1; cherry-picking the ptxas binary is often sufficient.\n",
      "2022-12-18 18:56:20.971442: W tensorflow/compiler/xla/stream_executor/gpu/asm_compiler.cc:115] *** WARNING *** You are using ptxas 11.0.194, which is older than 11.1. ptxas before 11.1 is known to miscompile XLA code, leading to incorrect results or invalid-address errors.\n",
      "\n",
      "You may not need to update to CUDA 11.1; cherry-picking the ptxas binary is often sufficient.\n",
      "2022-12-18 18:56:20.971456: W tensorflow/compiler/xla/stream_executor/gpu/asm_compiler.cc:115] *** WARNING *** You are using ptxas 11.0.194, which is older than 11.1. ptxas before 11.1 is known to miscompile XLA code, leading to incorrect results or invalid-address errors.\n",
      "\n",
      "You may not need to update to CUDA 11.1; cherry-picking the ptxas binary is often sufficient.\n",
      "2022-12-18 18:56:20.971472: W tensorflow/compiler/xla/stream_executor/gpu/asm_compiler.cc:115] *** WARNING *** You are using ptxas 11.0.194, which is older than 11.1. ptxas before 11.1 is known to miscompile XLA code, leading to incorrect results or invalid-address errors.\n",
      "\n",
      "You may not need to update to CUDA 11.1; cherry-picking the ptxas binary is often sufficient.\n",
      "2022-12-18 18:56:20.971496: W tensorflow/compiler/xla/stream_executor/gpu/asm_compiler.cc:115] *** WARNING *** You are using ptxas 11.0.194, which is older than 11.1. ptxas before 11.1 is known to miscompile XLA code, leading to incorrect results or invalid-address errors.\n",
      "\n",
      "You may not need to update to CUDA 11.1; cherry-picking the ptxas binary is often sufficient.\n",
      "2022-12-18 18:56:20.971519: W tensorflow/compiler/xla/stream_executor/gpu/asm_compiler.cc:115] *** WARNING *** You are using ptxas 11.0.194, which is older than 11.1. ptxas before 11.1 is known to miscompile XLA code, leading to incorrect results or invalid-address errors.\n",
      "\n",
      "You may not need to update to CUDA 11.1; cherry-picking the ptxas binary is often sufficient.\n",
      "2022-12-18 18:56:20.971554: W tensorflow/compiler/xla/stream_executor/gpu/asm_compiler.cc:115] *** WARNING *** You are using ptxas 11.0.194, which is older than 11.1. ptxas before 11.1 is known to miscompile XLA code, leading to incorrect results or invalid-address errors.\n",
      "\n",
      "You may not need to update to CUDA 11.1; cherry-picking the ptxas binary is often sufficient.\n",
      "2022-12-18 18:56:20.971572: W tensorflow/compiler/xla/stream_executor/gpu/asm_compiler.cc:115] *** WARNING *** You are using ptxas 11.0.194, which is older than 11.1. ptxas before 11.1 is known to miscompile XLA code, leading to incorrect results or invalid-address errors.\n",
      "\n",
      "You may not need to update to CUDA 11.1; cherry-picking the ptxas binary is often sufficient.\n",
      "2022-12-18 18:56:20.971590: W tensorflow/compiler/xla/stream_executor/gpu/asm_compiler.cc:115] *** WARNING *** You are using ptxas 11.0.194, which is older than 11.1. ptxas before 11.1 is known to miscompile XLA code, leading to incorrect results or invalid-address errors.\n",
      "\n",
      "You may not need to update to CUDA 11.1; cherry-picking the ptxas binary is often sufficient.\n",
      "2022-12-18 18:56:21.769059: W tensorflow/tsl/framework/cpu_allocator_impl.cc:82] Allocation of 85821696 exceeds 10% of free system memory.\n",
      "2022-12-18 18:56:23.544917: W tensorflow/tsl/framework/bfc_allocator.cc:290] Allocator (GPU_0_bfc) ran out of memory trying to allocate 2.06GiB with freed_by_count=0. The caller indicates that this is not a failure, but this may mean that there could be performance gains if more memory were available.\n",
      "2022-12-18 18:56:23.545973: W tensorflow/tsl/framework/bfc_allocator.cc:290] Allocator (GPU_0_bfc) ran out of memory trying to allocate 2.06GiB with freed_by_count=0. The caller indicates that this is not a failure, but this may mean that there could be performance gains if more memory were available.\n",
      "2022-12-18 18:56:23.553448: W tensorflow/tsl/framework/bfc_allocator.cc:290] Allocator (GPU_0_bfc) ran out of memory trying to allocate 2.09GiB with freed_by_count=0. The caller indicates that this is not a failure, but this may mean that there could be performance gains if more memory were available.\n",
      "2022-12-18 18:56:23.553464: W tensorflow/tsl/framework/bfc_allocator.cc:290] Allocator (GPU_0_bfc) ran out of memory trying to allocate 2.09GiB with freed_by_count=0. The caller indicates that this is not a failure, but this may mean that there could be performance gains if more memory were available.\n",
      "2022-12-18 18:56:23.736947: W tensorflow/tsl/framework/bfc_allocator.cc:290] Allocator (GPU_0_bfc) ran out of memory trying to allocate 3.34GiB with freed_by_count=0. The caller indicates that this is not a failure, but this may mean that there could be performance gains if more memory were available.\n",
      "2022-12-18 18:56:23.736983: W tensorflow/tsl/framework/bfc_allocator.cc:290] Allocator (GPU_0_bfc) ran out of memory trying to allocate 3.34GiB with freed_by_count=0. The caller indicates that this is not a failure, but this may mean that there could be performance gains if more memory were available.\n",
      "2022-12-18 18:56:23.745498: W tensorflow/tsl/framework/bfc_allocator.cc:290] Allocator (GPU_0_bfc) ran out of memory trying to allocate 3.37GiB with freed_by_count=0. The caller indicates that this is not a failure, but this may mean that there could be performance gains if more memory were available.\n",
      "2022-12-18 18:56:23.745531: W tensorflow/tsl/framework/bfc_allocator.cc:290] Allocator (GPU_0_bfc) ran out of memory trying to allocate 3.37GiB with freed_by_count=0. The caller indicates that this is not a failure, but this may mean that there could be performance gains if more memory were available.\n",
      "INFO:tensorflow:Step 100 per-step time 0.408s\n",
      "I1218 18:56:40.059588 140486625494848 model_lib_v2.py:705] Step 100 per-step time 0.408s\n",
      "INFO:tensorflow:{'Loss/classification_loss': 0.46509042,\n",
      " 'Loss/localization_loss': 0.38449842,\n",
      " 'Loss/regularization_loss': 0.15200727,\n",
      " 'Loss/total_loss': 1.0015961,\n",
      " 'learning_rate': 0.0319994}\n",
      "I1218 18:56:40.061045 140486625494848 model_lib_v2.py:708] {'Loss/classification_loss': 0.46509042,\n",
      " 'Loss/localization_loss': 0.38449842,\n",
      " 'Loss/regularization_loss': 0.15200727,\n",
      " 'Loss/total_loss': 1.0015961,\n",
      " 'learning_rate': 0.0319994}\n"
     ]
    },
    {
     "name": "stdout",
     "output_type": "stream",
     "text": [
      "INFO:tensorflow:Step 200 per-step time 0.152s\n",
      "I1218 18:56:55.200008 140486625494848 model_lib_v2.py:705] Step 200 per-step time 0.152s\n",
      "INFO:tensorflow:{'Loss/classification_loss': 0.44331968,\n",
      " 'Loss/localization_loss': 0.25814554,\n",
      " 'Loss/regularization_loss': 0.15219115,\n",
      " 'Loss/total_loss': 0.8536564,\n",
      " 'learning_rate': 0.0373328}\n",
      "I1218 18:56:55.200340 140486625494848 model_lib_v2.py:708] {'Loss/classification_loss': 0.44331968,\n",
      " 'Loss/localization_loss': 0.25814554,\n",
      " 'Loss/regularization_loss': 0.15219115,\n",
      " 'Loss/total_loss': 0.8536564,\n",
      " 'learning_rate': 0.0373328}\n",
      "INFO:tensorflow:Step 300 per-step time 0.150s\n",
      "I1218 18:57:10.153356 140486625494848 model_lib_v2.py:705] Step 300 per-step time 0.150s\n",
      "INFO:tensorflow:{'Loss/classification_loss': 0.40406936,\n",
      " 'Loss/localization_loss': 0.13520093,\n",
      " 'Loss/regularization_loss': 0.15226293,\n",
      " 'Loss/total_loss': 0.6915332,\n",
      " 'learning_rate': 0.0426662}\n",
      "I1218 18:57:10.153654 140486625494848 model_lib_v2.py:708] {'Loss/classification_loss': 0.40406936,\n",
      " 'Loss/localization_loss': 0.13520093,\n",
      " 'Loss/regularization_loss': 0.15226293,\n",
      " 'Loss/total_loss': 0.6915332,\n",
      " 'learning_rate': 0.0426662}\n",
      "INFO:tensorflow:Step 400 per-step time 0.151s\n",
      "I1218 18:57:25.241884 140486625494848 model_lib_v2.py:705] Step 400 per-step time 0.151s\n",
      "INFO:tensorflow:{'Loss/classification_loss': 0.39545134,\n",
      " 'Loss/localization_loss': 0.35499966,\n",
      " 'Loss/regularization_loss': 0.15234235,\n",
      " 'Loss/total_loss': 0.90279335,\n",
      " 'learning_rate': 0.047999598}\n",
      "I1218 18:57:25.242200 140486625494848 model_lib_v2.py:708] {'Loss/classification_loss': 0.39545134,\n",
      " 'Loss/localization_loss': 0.35499966,\n",
      " 'Loss/regularization_loss': 0.15234235,\n",
      " 'Loss/total_loss': 0.90279335,\n",
      " 'learning_rate': 0.047999598}\n",
      "INFO:tensorflow:Step 500 per-step time 0.153s\n",
      "I1218 18:57:40.568409 140486625494848 model_lib_v2.py:705] Step 500 per-step time 0.153s\n",
      "INFO:tensorflow:{'Loss/classification_loss': 0.45272982,\n",
      " 'Loss/localization_loss': 0.15398541,\n",
      " 'Loss/regularization_loss': 0.15241888,\n",
      " 'Loss/total_loss': 0.75913405,\n",
      " 'learning_rate': 0.053333}\n",
      "I1218 18:57:40.568718 140486625494848 model_lib_v2.py:708] {'Loss/classification_loss': 0.45272982,\n",
      " 'Loss/localization_loss': 0.15398541,\n",
      " 'Loss/regularization_loss': 0.15241888,\n",
      " 'Loss/total_loss': 0.75913405,\n",
      " 'learning_rate': 0.053333}\n",
      "INFO:tensorflow:Step 600 per-step time 0.151s\n",
      "I1218 18:57:55.712817 140486625494848 model_lib_v2.py:705] Step 600 per-step time 0.151s\n",
      "INFO:tensorflow:{'Loss/classification_loss': 0.37079778,\n",
      " 'Loss/localization_loss': 0.18317293,\n",
      " 'Loss/regularization_loss': 0.15252845,\n",
      " 'Loss/total_loss': 0.70649916,\n",
      " 'learning_rate': 0.0586664}\n",
      "I1218 18:57:55.713123 140486625494848 model_lib_v2.py:708] {'Loss/classification_loss': 0.37079778,\n",
      " 'Loss/localization_loss': 0.18317293,\n",
      " 'Loss/regularization_loss': 0.15252845,\n",
      " 'Loss/total_loss': 0.70649916,\n",
      " 'learning_rate': 0.0586664}\n",
      "INFO:tensorflow:Step 700 per-step time 0.154s\n",
      "I1218 18:58:11.075976 140486625494848 model_lib_v2.py:705] Step 700 per-step time 0.154s\n",
      "INFO:tensorflow:{'Loss/classification_loss': 0.32107824,\n",
      " 'Loss/localization_loss': 0.13055353,\n",
      " 'Loss/regularization_loss': 0.15237004,\n",
      " 'Loss/total_loss': 0.6040018,\n",
      " 'learning_rate': 0.0639998}\n",
      "I1218 18:58:11.076282 140486625494848 model_lib_v2.py:708] {'Loss/classification_loss': 0.32107824,\n",
      " 'Loss/localization_loss': 0.13055353,\n",
      " 'Loss/regularization_loss': 0.15237004,\n",
      " 'Loss/total_loss': 0.6040018,\n",
      " 'learning_rate': 0.0639998}\n",
      "INFO:tensorflow:Step 800 per-step time 0.155s\n",
      "I1218 18:58:26.540129 140486625494848 model_lib_v2.py:705] Step 800 per-step time 0.155s\n",
      "INFO:tensorflow:{'Loss/classification_loss': 0.4164435,\n",
      " 'Loss/localization_loss': 0.16569076,\n",
      " 'Loss/regularization_loss': 0.15243743,\n",
      " 'Loss/total_loss': 0.7345717,\n",
      " 'learning_rate': 0.069333196}\n",
      "I1218 18:58:26.540434 140486625494848 model_lib_v2.py:708] {'Loss/classification_loss': 0.4164435,\n",
      " 'Loss/localization_loss': 0.16569076,\n",
      " 'Loss/regularization_loss': 0.15243743,\n",
      " 'Loss/total_loss': 0.7345717,\n",
      " 'learning_rate': 0.069333196}\n",
      "INFO:tensorflow:Step 900 per-step time 0.154s\n",
      "I1218 18:58:41.954672 140486625494848 model_lib_v2.py:705] Step 900 per-step time 0.154s\n",
      "INFO:tensorflow:{'Loss/classification_loss': 0.386074,\n",
      " 'Loss/localization_loss': 0.17316397,\n",
      " 'Loss/regularization_loss': 0.15225422,\n",
      " 'Loss/total_loss': 0.7114922,\n",
      " 'learning_rate': 0.074666604}\n",
      "I1218 18:58:41.954969 140486625494848 model_lib_v2.py:708] {'Loss/classification_loss': 0.386074,\n",
      " 'Loss/localization_loss': 0.17316397,\n",
      " 'Loss/regularization_loss': 0.15225422,\n",
      " 'Loss/total_loss': 0.7114922,\n",
      " 'learning_rate': 0.074666604}\n",
      "INFO:tensorflow:Step 1000 per-step time 0.151s\n",
      "I1218 18:58:57.088542 140486625494848 model_lib_v2.py:705] Step 1000 per-step time 0.151s\n",
      "INFO:tensorflow:{'Loss/classification_loss': 0.2697478,\n",
      " 'Loss/localization_loss': 0.11834912,\n",
      " 'Loss/regularization_loss': 0.15203784,\n",
      " 'Loss/total_loss': 0.5401348,\n",
      " 'learning_rate': 0.08}\n",
      "I1218 18:58:57.088990 140486625494848 model_lib_v2.py:708] {'Loss/classification_loss': 0.2697478,\n",
      " 'Loss/localization_loss': 0.11834912,\n",
      " 'Loss/regularization_loss': 0.15203784,\n",
      " 'Loss/total_loss': 0.5401348,\n",
      " 'learning_rate': 0.08}\n",
      "INFO:tensorflow:Step 1100 per-step time 0.160s\n",
      "I1218 18:59:13.063859 140486625494848 model_lib_v2.py:705] Step 1100 per-step time 0.160s\n",
      "INFO:tensorflow:{'Loss/classification_loss': 0.31459492,\n",
      " 'Loss/localization_loss': 0.2618378,\n",
      " 'Loss/regularization_loss': 0.1519047,\n",
      " 'Loss/total_loss': 0.7283374,\n",
      " 'learning_rate': 0.07999918}\n",
      "I1218 18:59:13.064067 140486625494848 model_lib_v2.py:708] {'Loss/classification_loss': 0.31459492,\n",
      " 'Loss/localization_loss': 0.2618378,\n",
      " 'Loss/regularization_loss': 0.1519047,\n",
      " 'Loss/total_loss': 0.7283374,\n",
      " 'learning_rate': 0.07999918}\n",
      "INFO:tensorflow:Step 1200 per-step time 0.154s\n",
      "I1218 18:59:28.453387 140486625494848 model_lib_v2.py:705] Step 1200 per-step time 0.154s\n",
      "INFO:tensorflow:{'Loss/classification_loss': 0.267897,\n",
      " 'Loss/localization_loss': 0.1540035,\n",
      " 'Loss/regularization_loss': 0.1515958,\n",
      " 'Loss/total_loss': 0.57349634,\n",
      " 'learning_rate': 0.079996705}\n",
      "I1218 18:59:28.453702 140486625494848 model_lib_v2.py:708] {'Loss/classification_loss': 0.267897,\n",
      " 'Loss/localization_loss': 0.1540035,\n",
      " 'Loss/regularization_loss': 0.1515958,\n",
      " 'Loss/total_loss': 0.57349634,\n",
      " 'learning_rate': 0.079996705}\n",
      "INFO:tensorflow:Step 1300 per-step time 0.153s\n",
      "I1218 18:59:43.804696 140486625494848 model_lib_v2.py:705] Step 1300 per-step time 0.153s\n",
      "INFO:tensorflow:{'Loss/classification_loss': 0.26381847,\n",
      " 'Loss/localization_loss': 0.069656685,\n",
      " 'Loss/regularization_loss': 0.15136926,\n",
      " 'Loss/total_loss': 0.4848444,\n",
      " 'learning_rate': 0.0799926}\n",
      "I1218 18:59:43.805132 140486625494848 model_lib_v2.py:708] {'Loss/classification_loss': 0.26381847,\n",
      " 'Loss/localization_loss': 0.069656685,\n",
      " 'Loss/regularization_loss': 0.15136926,\n",
      " 'Loss/total_loss': 0.4848444,\n",
      " 'learning_rate': 0.0799926}\n",
      "INFO:tensorflow:Step 1400 per-step time 0.153s\n",
      "I1218 18:59:59.135085 140486625494848 model_lib_v2.py:705] Step 1400 per-step time 0.153s\n",
      "INFO:tensorflow:{'Loss/classification_loss': 0.2269193,\n",
      " 'Loss/localization_loss': 0.14056432,\n",
      " 'Loss/regularization_loss': 0.15105197,\n",
      " 'Loss/total_loss': 0.5185356,\n",
      " 'learning_rate': 0.07998685}\n",
      "I1218 18:59:59.135397 140486625494848 model_lib_v2.py:708] {'Loss/classification_loss': 0.2269193,\n",
      " 'Loss/localization_loss': 0.14056432,\n",
      " 'Loss/regularization_loss': 0.15105197,\n",
      " 'Loss/total_loss': 0.5185356,\n",
      " 'learning_rate': 0.07998685}\n",
      "INFO:tensorflow:Step 1500 per-step time 0.152s\n",
      "I1218 19:00:14.312218 140486625494848 model_lib_v2.py:705] Step 1500 per-step time 0.152s\n",
      "INFO:tensorflow:{'Loss/classification_loss': 0.23306812,\n",
      " 'Loss/localization_loss': 0.116712645,\n",
      " 'Loss/regularization_loss': 0.15108421,\n",
      " 'Loss/total_loss': 0.500865,\n",
      " 'learning_rate': 0.07997945}\n",
      "I1218 19:00:14.312519 140486625494848 model_lib_v2.py:708] {'Loss/classification_loss': 0.23306812,\n",
      " 'Loss/localization_loss': 0.116712645,\n",
      " 'Loss/regularization_loss': 0.15108421,\n",
      " 'Loss/total_loss': 0.500865,\n",
      " 'learning_rate': 0.07997945}\n",
      "INFO:tensorflow:Step 1600 per-step time 0.152s\n",
      "I1218 19:00:29.486367 140486625494848 model_lib_v2.py:705] Step 1600 per-step time 0.152s\n",
      "INFO:tensorflow:{'Loss/classification_loss': 0.33633295,\n",
      " 'Loss/localization_loss': 0.14281146,\n",
      " 'Loss/regularization_loss': 0.15104593,\n",
      " 'Loss/total_loss': 0.6301904,\n",
      " 'learning_rate': 0.079970405}\n",
      "I1218 19:00:29.486662 140486625494848 model_lib_v2.py:708] {'Loss/classification_loss': 0.33633295,\n",
      " 'Loss/localization_loss': 0.14281146,\n",
      " 'Loss/regularization_loss': 0.15104593,\n",
      " 'Loss/total_loss': 0.6301904,\n",
      " 'learning_rate': 0.079970405}\n"
     ]
    },
    {
     "name": "stdout",
     "output_type": "stream",
     "text": [
      "INFO:tensorflow:Step 1700 per-step time 0.152s\n",
      "I1218 19:00:44.663455 140486625494848 model_lib_v2.py:705] Step 1700 per-step time 0.152s\n",
      "INFO:tensorflow:{'Loss/classification_loss': 0.22374046,\n",
      " 'Loss/localization_loss': 0.06639941,\n",
      " 'Loss/regularization_loss': 0.1507773,\n",
      " 'Loss/total_loss': 0.44091713,\n",
      " 'learning_rate': 0.07995972}\n",
      "I1218 19:00:44.663758 140486625494848 model_lib_v2.py:708] {'Loss/classification_loss': 0.22374046,\n",
      " 'Loss/localization_loss': 0.06639941,\n",
      " 'Loss/regularization_loss': 0.1507773,\n",
      " 'Loss/total_loss': 0.44091713,\n",
      " 'learning_rate': 0.07995972}\n",
      "INFO:tensorflow:Step 1800 per-step time 0.151s\n",
      "I1218 19:00:59.802977 140486625494848 model_lib_v2.py:705] Step 1800 per-step time 0.151s\n",
      "INFO:tensorflow:{'Loss/classification_loss': 0.18054904,\n",
      " 'Loss/localization_loss': 0.07173394,\n",
      " 'Loss/regularization_loss': 0.15051748,\n",
      " 'Loss/total_loss': 0.40280044,\n",
      " 'learning_rate': 0.0799474}\n",
      "I1218 19:00:59.803317 140486625494848 model_lib_v2.py:708] {'Loss/classification_loss': 0.18054904,\n",
      " 'Loss/localization_loss': 0.07173394,\n",
      " 'Loss/regularization_loss': 0.15051748,\n",
      " 'Loss/total_loss': 0.40280044,\n",
      " 'learning_rate': 0.0799474}\n",
      "INFO:tensorflow:Step 1900 per-step time 0.153s\n",
      "I1218 19:01:15.141114 140486625494848 model_lib_v2.py:705] Step 1900 per-step time 0.153s\n",
      "INFO:tensorflow:{'Loss/classification_loss': 0.30705088,\n",
      " 'Loss/localization_loss': 0.09867545,\n",
      " 'Loss/regularization_loss': 0.15028165,\n",
      " 'Loss/total_loss': 0.556008,\n",
      " 'learning_rate': 0.07993342}\n",
      "I1218 19:01:15.141434 140486625494848 model_lib_v2.py:708] {'Loss/classification_loss': 0.30705088,\n",
      " 'Loss/localization_loss': 0.09867545,\n",
      " 'Loss/regularization_loss': 0.15028165,\n",
      " 'Loss/total_loss': 0.556008,\n",
      " 'learning_rate': 0.07993342}\n",
      "INFO:tensorflow:Step 2000 per-step time 0.152s\n",
      "I1218 19:01:30.314117 140486625494848 model_lib_v2.py:705] Step 2000 per-step time 0.152s\n",
      "INFO:tensorflow:{'Loss/classification_loss': 0.17691973,\n",
      " 'Loss/localization_loss': 0.10961329,\n",
      " 'Loss/regularization_loss': 0.14987947,\n",
      " 'Loss/total_loss': 0.4364125,\n",
      " 'learning_rate': 0.07991781}\n",
      "I1218 19:01:30.314416 140486625494848 model_lib_v2.py:708] {'Loss/classification_loss': 0.17691973,\n",
      " 'Loss/localization_loss': 0.10961329,\n",
      " 'Loss/regularization_loss': 0.14987947,\n",
      " 'Loss/total_loss': 0.4364125,\n",
      " 'learning_rate': 0.07991781}\n",
      "INFO:tensorflow:Step 2100 per-step time 0.160s\n",
      "I1218 19:01:46.309072 140486625494848 model_lib_v2.py:705] Step 2100 per-step time 0.160s\n",
      "INFO:tensorflow:{'Loss/classification_loss': 0.18755703,\n",
      " 'Loss/localization_loss': 0.06033953,\n",
      " 'Loss/regularization_loss': 0.14962861,\n",
      " 'Loss/total_loss': 0.39752516,\n",
      " 'learning_rate': 0.07990056}\n",
      "I1218 19:01:46.309267 140486625494848 model_lib_v2.py:708] {'Loss/classification_loss': 0.18755703,\n",
      " 'Loss/localization_loss': 0.06033953,\n",
      " 'Loss/regularization_loss': 0.14962861,\n",
      " 'Loss/total_loss': 0.39752516,\n",
      " 'learning_rate': 0.07990056}\n",
      "INFO:tensorflow:Step 2200 per-step time 0.153s\n",
      "I1218 19:02:01.594710 140486625494848 model_lib_v2.py:705] Step 2200 per-step time 0.153s\n",
      "INFO:tensorflow:{'Loss/classification_loss': 0.11270247,\n",
      " 'Loss/localization_loss': 0.07607309,\n",
      " 'Loss/regularization_loss': 0.14932314,\n",
      " 'Loss/total_loss': 0.33809868,\n",
      " 'learning_rate': 0.07988167}\n",
      "I1218 19:02:01.595064 140486625494848 model_lib_v2.py:708] {'Loss/classification_loss': 0.11270247,\n",
      " 'Loss/localization_loss': 0.07607309,\n",
      " 'Loss/regularization_loss': 0.14932314,\n",
      " 'Loss/total_loss': 0.33809868,\n",
      " 'learning_rate': 0.07988167}\n",
      "INFO:tensorflow:Step 2300 per-step time 0.152s\n",
      "I1218 19:02:16.794144 140486625494848 model_lib_v2.py:705] Step 2300 per-step time 0.152s\n",
      "INFO:tensorflow:{'Loss/classification_loss': 0.13712735,\n",
      " 'Loss/localization_loss': 0.0935994,\n",
      " 'Loss/regularization_loss': 0.14896421,\n",
      " 'Loss/total_loss': 0.37969097,\n",
      " 'learning_rate': 0.07986114}\n",
      "I1218 19:02:16.794460 140486625494848 model_lib_v2.py:708] {'Loss/classification_loss': 0.13712735,\n",
      " 'Loss/localization_loss': 0.0935994,\n",
      " 'Loss/regularization_loss': 0.14896421,\n",
      " 'Loss/total_loss': 0.37969097,\n",
      " 'learning_rate': 0.07986114}\n",
      "INFO:tensorflow:Step 2400 per-step time 0.154s\n",
      "I1218 19:02:32.157894 140486625494848 model_lib_v2.py:705] Step 2400 per-step time 0.154s\n",
      "INFO:tensorflow:{'Loss/classification_loss': 0.25886607,\n",
      " 'Loss/localization_loss': 0.111121885,\n",
      " 'Loss/regularization_loss': 0.14850736,\n",
      " 'Loss/total_loss': 0.5184953,\n",
      " 'learning_rate': 0.07983897}\n",
      "I1218 19:02:32.158205 140486625494848 model_lib_v2.py:708] {'Loss/classification_loss': 0.25886607,\n",
      " 'Loss/localization_loss': 0.111121885,\n",
      " 'Loss/regularization_loss': 0.14850736,\n",
      " 'Loss/total_loss': 0.5184953,\n",
      " 'learning_rate': 0.07983897}\n",
      "INFO:tensorflow:Step 2500 per-step time 0.151s\n",
      "I1218 19:02:47.227926 140486625494848 model_lib_v2.py:705] Step 2500 per-step time 0.151s\n",
      "INFO:tensorflow:{'Loss/classification_loss': 0.11936325,\n",
      " 'Loss/localization_loss': 0.06494571,\n",
      " 'Loss/regularization_loss': 0.14803818,\n",
      " 'Loss/total_loss': 0.33234715,\n",
      " 'learning_rate': 0.079815164}\n",
      "I1218 19:02:47.228232 140486625494848 model_lib_v2.py:708] {'Loss/classification_loss': 0.11936325,\n",
      " 'Loss/localization_loss': 0.06494571,\n",
      " 'Loss/regularization_loss': 0.14803818,\n",
      " 'Loss/total_loss': 0.33234715,\n",
      " 'learning_rate': 0.079815164}\n",
      "INFO:tensorflow:Step 2600 per-step time 0.154s\n",
      "I1218 19:03:02.648630 140486625494848 model_lib_v2.py:705] Step 2600 per-step time 0.154s\n",
      "INFO:tensorflow:{'Loss/classification_loss': 0.1691546,\n",
      " 'Loss/localization_loss': 0.063782185,\n",
      " 'Loss/regularization_loss': 0.14753972,\n",
      " 'Loss/total_loss': 0.3804765,\n",
      " 'learning_rate': 0.07978972}\n",
      "I1218 19:03:02.648939 140486625494848 model_lib_v2.py:708] {'Loss/classification_loss': 0.1691546,\n",
      " 'Loss/localization_loss': 0.063782185,\n",
      " 'Loss/regularization_loss': 0.14753972,\n",
      " 'Loss/total_loss': 0.3804765,\n",
      " 'learning_rate': 0.07978972}\n",
      "INFO:tensorflow:Step 2700 per-step time 0.151s\n",
      "I1218 19:03:17.715449 140486625494848 model_lib_v2.py:705] Step 2700 per-step time 0.151s\n",
      "INFO:tensorflow:{'Loss/classification_loss': 0.11616541,\n",
      " 'Loss/localization_loss': 0.025993768,\n",
      " 'Loss/regularization_loss': 0.14728944,\n",
      " 'Loss/total_loss': 0.28944862,\n",
      " 'learning_rate': 0.07976264}\n",
      "I1218 19:03:17.715747 140486625494848 model_lib_v2.py:708] {'Loss/classification_loss': 0.11616541,\n",
      " 'Loss/localization_loss': 0.025993768,\n",
      " 'Loss/regularization_loss': 0.14728944,\n",
      " 'Loss/total_loss': 0.28944862,\n",
      " 'learning_rate': 0.07976264}\n",
      "INFO:tensorflow:Step 2800 per-step time 0.150s\n",
      "I1218 19:03:32.727593 140486625494848 model_lib_v2.py:705] Step 2800 per-step time 0.150s\n",
      "INFO:tensorflow:{'Loss/classification_loss': 0.14959174,\n",
      " 'Loss/localization_loss': 0.1178306,\n",
      " 'Loss/regularization_loss': 0.14703426,\n",
      " 'Loss/total_loss': 0.4144566,\n",
      " 'learning_rate': 0.07973392}\n",
      "I1218 19:03:32.727898 140486625494848 model_lib_v2.py:708] {'Loss/classification_loss': 0.14959174,\n",
      " 'Loss/localization_loss': 0.1178306,\n",
      " 'Loss/regularization_loss': 0.14703426,\n",
      " 'Loss/total_loss': 0.4144566,\n",
      " 'learning_rate': 0.07973392}\n",
      "INFO:tensorflow:Step 2900 per-step time 0.150s\n",
      "I1218 19:03:47.744694 140486625494848 model_lib_v2.py:705] Step 2900 per-step time 0.150s\n",
      "INFO:tensorflow:{'Loss/classification_loss': 0.17134933,\n",
      " 'Loss/localization_loss': 0.0632584,\n",
      " 'Loss/regularization_loss': 0.14662158,\n",
      " 'Loss/total_loss': 0.38122934,\n",
      " 'learning_rate': 0.07970358}\n",
      "I1218 19:03:47.744994 140486625494848 model_lib_v2.py:708] {'Loss/classification_loss': 0.17134933,\n",
      " 'Loss/localization_loss': 0.0632584,\n",
      " 'Loss/regularization_loss': 0.14662158,\n",
      " 'Loss/total_loss': 0.38122934,\n",
      " 'learning_rate': 0.07970358}\n",
      "INFO:tensorflow:Step 3000 per-step time 0.153s\n",
      "I1218 19:04:03.035095 140486625494848 model_lib_v2.py:705] Step 3000 per-step time 0.153s\n",
      "INFO:tensorflow:{'Loss/classification_loss': 0.18888937,\n",
      " 'Loss/localization_loss': 0.081780545,\n",
      " 'Loss/regularization_loss': 0.14614537,\n",
      " 'Loss/total_loss': 0.41681528,\n",
      " 'learning_rate': 0.0796716}\n",
      "I1218 19:04:03.035393 140486625494848 model_lib_v2.py:708] {'Loss/classification_loss': 0.18888937,\n",
      " 'Loss/localization_loss': 0.081780545,\n",
      " 'Loss/regularization_loss': 0.14614537,\n",
      " 'Loss/total_loss': 0.41681528,\n",
      " 'learning_rate': 0.0796716}\n",
      "INFO:tensorflow:Step 3100 per-step time 0.157s\n",
      "I1218 19:04:18.705759 140486625494848 model_lib_v2.py:705] Step 3100 per-step time 0.157s\n",
      "INFO:tensorflow:{'Loss/classification_loss': 0.1125081,\n",
      " 'Loss/localization_loss': 0.063644774,\n",
      " 'Loss/regularization_loss': 0.14567886,\n",
      " 'Loss/total_loss': 0.32183173,\n",
      " 'learning_rate': 0.07963799}\n",
      "I1218 19:04:18.706072 140486625494848 model_lib_v2.py:708] {'Loss/classification_loss': 0.1125081,\n",
      " 'Loss/localization_loss': 0.063644774,\n",
      " 'Loss/regularization_loss': 0.14567886,\n",
      " 'Loss/total_loss': 0.32183173,\n",
      " 'learning_rate': 0.07963799}\n"
     ]
    },
    {
     "name": "stdout",
     "output_type": "stream",
     "text": [
      "INFO:tensorflow:Step 3200 per-step time 0.151s\n",
      "I1218 19:04:33.806373 140486625494848 model_lib_v2.py:705] Step 3200 per-step time 0.151s\n",
      "INFO:tensorflow:{'Loss/classification_loss': 0.15880331,\n",
      " 'Loss/localization_loss': 0.05750864,\n",
      " 'Loss/regularization_loss': 0.14527692,\n",
      " 'Loss/total_loss': 0.3615889,\n",
      " 'learning_rate': 0.07960275}\n",
      "I1218 19:04:33.806673 140486625494848 model_lib_v2.py:708] {'Loss/classification_loss': 0.15880331,\n",
      " 'Loss/localization_loss': 0.05750864,\n",
      " 'Loss/regularization_loss': 0.14527692,\n",
      " 'Loss/total_loss': 0.3615889,\n",
      " 'learning_rate': 0.07960275}\n",
      "INFO:tensorflow:Step 3300 per-step time 0.150s\n",
      "I1218 19:04:48.826088 140486625494848 model_lib_v2.py:705] Step 3300 per-step time 0.150s\n",
      "INFO:tensorflow:{'Loss/classification_loss': 0.08256826,\n",
      " 'Loss/localization_loss': 0.041471846,\n",
      " 'Loss/regularization_loss': 0.14495027,\n",
      " 'Loss/total_loss': 0.26899037,\n",
      " 'learning_rate': 0.07956588}\n",
      "I1218 19:04:48.826390 140486625494848 model_lib_v2.py:708] {'Loss/classification_loss': 0.08256826,\n",
      " 'Loss/localization_loss': 0.041471846,\n",
      " 'Loss/regularization_loss': 0.14495027,\n",
      " 'Loss/total_loss': 0.26899037,\n",
      " 'learning_rate': 0.07956588}\n",
      "INFO:tensorflow:Step 3400 per-step time 0.150s\n",
      "I1218 19:05:03.818104 140486625494848 model_lib_v2.py:705] Step 3400 per-step time 0.150s\n",
      "INFO:tensorflow:{'Loss/classification_loss': 0.12173721,\n",
      " 'Loss/localization_loss': 0.04305358,\n",
      " 'Loss/regularization_loss': 0.14446618,\n",
      " 'Loss/total_loss': 0.30925697,\n",
      " 'learning_rate': 0.079527386}\n",
      "I1218 19:05:03.818403 140486625494848 model_lib_v2.py:708] {'Loss/classification_loss': 0.12173721,\n",
      " 'Loss/localization_loss': 0.04305358,\n",
      " 'Loss/regularization_loss': 0.14446618,\n",
      " 'Loss/total_loss': 0.30925697,\n",
      " 'learning_rate': 0.079527386}\n",
      "INFO:tensorflow:Step 3500 per-step time 0.150s\n",
      "I1218 19:05:18.800983 140486625494848 model_lib_v2.py:705] Step 3500 per-step time 0.150s\n",
      "INFO:tensorflow:{'Loss/classification_loss': 0.06736787,\n",
      " 'Loss/localization_loss': 0.040831324,\n",
      " 'Loss/regularization_loss': 0.14437436,\n",
      " 'Loss/total_loss': 0.25257355,\n",
      " 'learning_rate': 0.07948727}\n",
      "I1218 19:05:18.801203 140486625494848 model_lib_v2.py:708] {'Loss/classification_loss': 0.06736787,\n",
      " 'Loss/localization_loss': 0.040831324,\n",
      " 'Loss/regularization_loss': 0.14437436,\n",
      " 'Loss/total_loss': 0.25257355,\n",
      " 'learning_rate': 0.07948727}\n",
      "INFO:tensorflow:Step 3600 per-step time 0.155s\n",
      "I1218 19:05:34.256059 140486625494848 model_lib_v2.py:705] Step 3600 per-step time 0.155s\n",
      "INFO:tensorflow:{'Loss/classification_loss': 0.111566715,\n",
      " 'Loss/localization_loss': 0.05049235,\n",
      " 'Loss/regularization_loss': 0.14454614,\n",
      " 'Loss/total_loss': 0.3066052,\n",
      " 'learning_rate': 0.079445526}\n",
      "I1218 19:05:34.256392 140486625494848 model_lib_v2.py:708] {'Loss/classification_loss': 0.111566715,\n",
      " 'Loss/localization_loss': 0.05049235,\n",
      " 'Loss/regularization_loss': 0.14454614,\n",
      " 'Loss/total_loss': 0.3066052,\n",
      " 'learning_rate': 0.079445526}\n",
      "INFO:tensorflow:Step 3700 per-step time 0.152s\n",
      "I1218 19:05:49.455366 140486625494848 model_lib_v2.py:705] Step 3700 per-step time 0.152s\n",
      "INFO:tensorflow:{'Loss/classification_loss': 0.14691173,\n",
      " 'Loss/localization_loss': 0.11039651,\n",
      " 'Loss/regularization_loss': 0.14460848,\n",
      " 'Loss/total_loss': 0.4019167,\n",
      " 'learning_rate': 0.07940216}\n",
      "I1218 19:05:49.455666 140486625494848 model_lib_v2.py:708] {'Loss/classification_loss': 0.14691173,\n",
      " 'Loss/localization_loss': 0.11039651,\n",
      " 'Loss/regularization_loss': 0.14460848,\n",
      " 'Loss/total_loss': 0.4019167,\n",
      " 'learning_rate': 0.07940216}\n",
      "INFO:tensorflow:Step 3800 per-step time 0.152s\n",
      "I1218 19:06:04.685030 140486625494848 model_lib_v2.py:705] Step 3800 per-step time 0.152s\n",
      "INFO:tensorflow:{'Loss/classification_loss': 0.10558917,\n",
      " 'Loss/localization_loss': 0.078851394,\n",
      " 'Loss/regularization_loss': 0.1444131,\n",
      " 'Loss/total_loss': 0.32885367,\n",
      " 'learning_rate': 0.079357184}\n",
      "I1218 19:06:04.685329 140486625494848 model_lib_v2.py:708] {'Loss/classification_loss': 0.10558917,\n",
      " 'Loss/localization_loss': 0.078851394,\n",
      " 'Loss/regularization_loss': 0.1444131,\n",
      " 'Loss/total_loss': 0.32885367,\n",
      " 'learning_rate': 0.079357184}\n",
      "INFO:tensorflow:Step 3900 per-step time 0.150s\n",
      "I1218 19:06:19.644804 140486625494848 model_lib_v2.py:705] Step 3900 per-step time 0.150s\n",
      "INFO:tensorflow:{'Loss/classification_loss': 0.13217603,\n",
      " 'Loss/localization_loss': 0.05879549,\n",
      " 'Loss/regularization_loss': 0.1439682,\n",
      " 'Loss/total_loss': 0.3349397,\n",
      " 'learning_rate': 0.07931058}\n",
      "I1218 19:06:19.645108 140486625494848 model_lib_v2.py:708] {'Loss/classification_loss': 0.13217603,\n",
      " 'Loss/localization_loss': 0.05879549,\n",
      " 'Loss/regularization_loss': 0.1439682,\n",
      " 'Loss/total_loss': 0.3349397,\n",
      " 'learning_rate': 0.07931058}\n",
      "INFO:tensorflow:Step 4000 per-step time 0.151s\n",
      "I1218 19:06:34.741789 140486625494848 model_lib_v2.py:705] Step 4000 per-step time 0.151s\n",
      "INFO:tensorflow:{'Loss/classification_loss': 0.13152735,\n",
      " 'Loss/localization_loss': 0.084798925,\n",
      " 'Loss/regularization_loss': 0.14337999,\n",
      " 'Loss/total_loss': 0.35970628,\n",
      " 'learning_rate': 0.07926236}\n",
      "I1218 19:06:34.742088 140486625494848 model_lib_v2.py:708] {'Loss/classification_loss': 0.13152735,\n",
      " 'Loss/localization_loss': 0.084798925,\n",
      " 'Loss/regularization_loss': 0.14337999,\n",
      " 'Loss/total_loss': 0.35970628,\n",
      " 'learning_rate': 0.07926236}\n"
     ]
    }
   ],
   "source": [
    "!{command}"
   ]
  },
  {
   "cell_type": "markdown",
   "metadata": {
    "id": "4_YRZu7npfDH"
   },
   "source": [
    "# 7. Evaluate the Model"
   ]
  },
  {
   "cell_type": "code",
   "execution_count": null,
   "metadata": {},
   "outputs": [],
   "source": [
    "!sudo apt install --allow-change-held-packages libcudnn8=8.1.0.77-1+cuda11.3"
   ]
  },
  {
   "cell_type": "code",
   "execution_count": null,
   "metadata": {
    "id": "80L7-fdPpfDH"
   },
   "outputs": [],
   "source": [
    "command = \"python {} --model_dir={} --pipeline_config_path={} --checkpoint_dir={}\".format(TRAINING_SCRIPT, paths['CHECKPOINT_PATH'],files['PIPELINE_CONFIG'], paths['CHECKPOINT_PATH'])"
   ]
  },
  {
   "cell_type": "code",
   "execution_count": null,
   "metadata": {
    "colab": {
     "base_uri": "https://localhost:8080/"
    },
    "id": "lYsgEPx9pfDH",
    "outputId": "8632d48b-91d2-45d9-bcb8-c1b172bf6eed"
   },
   "outputs": [],
   "source": [
    "print(command)"
   ]
  },
  {
   "cell_type": "code",
   "execution_count": null,
   "metadata": {
    "id": "lqTV2jGBpfDH",
    "scrolled": true
   },
   "outputs": [],
   "source": [
    "!{command} # fix me"
   ]
  },
  {
   "cell_type": "markdown",
   "metadata": {},
   "source": [
    "# Tensorboard"
   ]
  },
  {
   "cell_type": "code",
   "execution_count": null,
   "metadata": {},
   "outputs": [],
   "source": [
    "!cd {os.path.join(paths['CHECKPOINT_PATH'], 'train')} && tensorboard --logdir=."
   ]
  },
  {
   "cell_type": "markdown",
   "metadata": {},
   "source": [
    "![tensorboard](./tensorboard.csv)"
   ]
  },
  {
   "cell_type": "markdown",
   "metadata": {
    "id": "orvRk02UpfDI"
   },
   "source": [
    "# 8. Load Train Model From Checkpoint"
   ]
  },
  {
   "cell_type": "code",
   "execution_count": null,
   "metadata": {},
   "outputs": [],
   "source": [
    "!pip install tf_slim"
   ]
  },
  {
   "cell_type": "code",
   "execution_count": 106,
   "metadata": {
    "id": "8TYk4_oIpfDI"
   },
   "outputs": [],
   "source": [
    "# \n",
    "import os\n",
    "import tensorflow as tf"
   ]
  },
  {
   "cell_type": "code",
   "execution_count": 107,
   "metadata": {},
   "outputs": [],
   "source": [
    "from object_detection.utils import label_map_util"
   ]
  },
  {
   "cell_type": "code",
   "execution_count": 109,
   "metadata": {},
   "outputs": [],
   "source": [
    "from object_detection.utils import visualization_utils as viz_utils"
   ]
  },
  {
   "cell_type": "code",
   "execution_count": 110,
   "metadata": {
    "scrolled": true
   },
   "outputs": [
    {
     "name": "stderr",
     "output_type": "stream",
     "text": [
      "/home/chanyu/Desktop/gesture_detection_3.8/tfod/lib/python3.8/site-packages/tensorflow_addons-0.18.0-py3.8-linux-x86_64.egg/tensorflow_addons/utils/ensure_tf_install.py:53: UserWarning: Tensorflow Addons supports using Python ops for all Tensorflow versions above or equal to 2.8.0 and strictly below 2.11.0 (nightly versions are not supported). \n",
      " The versions of TensorFlow you are currently using is 2.11.0 and is not supported. \n",
      "Some things might work, some things might not.\n",
      "If you were to encounter a bug, do not file an issue.\n",
      "If you want to make sure you're using a tested and supported configuration, either change the TensorFlow version or the TensorFlow Addons's version. \n",
      "You can find the compatibility matrix in TensorFlow Addon's readme:\n",
      "https://github.com/tensorflow/addons\n",
      "  warnings.warn(\n"
     ]
    }
   ],
   "source": [
    "from object_detection.builders import model_builder # fix me"
   ]
  },
  {
   "cell_type": "code",
   "execution_count": null,
   "metadata": {},
   "outputs": [],
   "source": [
    "# import object_detection.builders"
   ]
  },
  {
   "cell_type": "code",
   "execution_count": null,
   "metadata": {},
   "outputs": [],
   "source": [
    "# !pip install nets"
   ]
  },
  {
   "cell_type": "code",
   "execution_count": 111,
   "metadata": {},
   "outputs": [],
   "source": [
    "from object_detection.utils import config_util"
   ]
  },
  {
   "cell_type": "code",
   "execution_count": 112,
   "metadata": {},
   "outputs": [
    {
     "data": {
      "text/plain": [
       "'Tensorflow/workspace/models/mask_faster_R_CNN_2'"
      ]
     },
     "execution_count": 112,
     "metadata": {},
     "output_type": "execute_result"
    }
   ],
   "source": [
    "paths['CHECKPOINT_PATH']"
   ]
  },
  {
   "cell_type": "code",
   "execution_count": 113,
   "metadata": {
    "id": "tDnQg-cYpfDI"
   },
   "outputs": [
    {
     "name": "stderr",
     "output_type": "stream",
     "text": [
      "2022-12-18 19:07:22.949253: I tensorflow/compiler/xla/stream_executor/cuda/cuda_gpu_executor.cc:981] successful NUMA node read from SysFS had negative value (-1), but there must be at least one NUMA node, so returning NUMA node zero\n",
      "2022-12-18 19:07:22.972519: I tensorflow/compiler/xla/stream_executor/cuda/cuda_gpu_executor.cc:981] successful NUMA node read from SysFS had negative value (-1), but there must be at least one NUMA node, so returning NUMA node zero\n",
      "2022-12-18 19:07:22.972721: I tensorflow/compiler/xla/stream_executor/cuda/cuda_gpu_executor.cc:981] successful NUMA node read from SysFS had negative value (-1), but there must be at least one NUMA node, so returning NUMA node zero\n",
      "2022-12-18 19:07:22.980268: I tensorflow/core/platform/cpu_feature_guard.cc:193] This TensorFlow binary is optimized with oneAPI Deep Neural Network Library (oneDNN) to use the following CPU instructions in performance-critical operations:  AVX2 FMA\n",
      "To enable them in other operations, rebuild TensorFlow with the appropriate compiler flags.\n",
      "2022-12-18 19:07:22.982998: I tensorflow/compiler/xla/stream_executor/cuda/cuda_gpu_executor.cc:981] successful NUMA node read from SysFS had negative value (-1), but there must be at least one NUMA node, so returning NUMA node zero\n",
      "2022-12-18 19:07:22.983161: I tensorflow/compiler/xla/stream_executor/cuda/cuda_gpu_executor.cc:981] successful NUMA node read from SysFS had negative value (-1), but there must be at least one NUMA node, so returning NUMA node zero\n",
      "2022-12-18 19:07:22.983301: I tensorflow/compiler/xla/stream_executor/cuda/cuda_gpu_executor.cc:981] successful NUMA node read from SysFS had negative value (-1), but there must be at least one NUMA node, so returning NUMA node zero\n",
      "2022-12-18 19:07:23.852309: I tensorflow/compiler/xla/stream_executor/cuda/cuda_gpu_executor.cc:981] successful NUMA node read from SysFS had negative value (-1), but there must be at least one NUMA node, so returning NUMA node zero\n",
      "2022-12-18 19:07:23.852963: I tensorflow/compiler/xla/stream_executor/cuda/cuda_gpu_executor.cc:981] successful NUMA node read from SysFS had negative value (-1), but there must be at least one NUMA node, so returning NUMA node zero\n",
      "2022-12-18 19:07:23.853119: I tensorflow/compiler/xla/stream_executor/cuda/cuda_gpu_executor.cc:981] successful NUMA node read from SysFS had negative value (-1), but there must be at least one NUMA node, so returning NUMA node zero\n",
      "2022-12-18 19:07:23.853693: I tensorflow/core/common_runtime/gpu/gpu_device.cc:1613] Created device /job:localhost/replica:0/task:0/device:GPU:0 with 3499 MB memory:  -> device: 0, name: NVIDIA GeForce RTX 2060, pci bus id: 0000:08:00.0, compute capability: 7.5\n"
     ]
    }
   ],
   "source": [
    "# Load pipeline config and build a detection model\n",
    "configs = config_util.get_configs_from_pipeline_file(files['PIPELINE_CONFIG'])\n",
    "detection_model = model_builder.build(model_config=configs['model'], is_training=False)\n",
    "\n",
    "# Restore checkpoint\n",
    "ckpt = tf.compat.v2.train.Checkpoint(model=detection_model)\n",
    "ckpt.restore(os.path.join(paths['CHECKPOINT_PATH'], 'ckpt-4')).expect_partial()\n",
    "\n",
    "@tf.function\n",
    "def detect_fn(image):\n",
    "    image, shapes = detection_model.preprocess(image)\n",
    "    prediction_dict = detection_model.predict(image, shapes)\n",
    "    detections = detection_model.postprocess(prediction_dict, shapes)\n",
    "    return detections"
   ]
  },
  {
   "cell_type": "markdown",
   "metadata": {
    "id": "0EmsmbBZpfDI"
   },
   "source": [
    "# 9. Detect from an Image"
   ]
  },
  {
   "cell_type": "code",
   "execution_count": 114,
   "metadata": {
    "id": "Y_MKiuZ4pfDI"
   },
   "outputs": [],
   "source": [
    "import cv2 \n",
    "import numpy as np\n",
    "from matplotlib import pyplot as plt\n",
    "%matplotlib inline"
   ]
  },
  {
   "cell_type": "code",
   "execution_count": 115,
   "metadata": {
    "id": "cBDbIhNapfDI"
   },
   "outputs": [],
   "source": [
    "category_index = label_map_util.create_category_index_from_labelmap(files['LABELMAP'])"
   ]
  },
  {
   "cell_type": "code",
   "execution_count": 116,
   "metadata": {
    "id": "Lx3crOhOzITB"
   },
   "outputs": [],
   "source": [
    "IMAGE_PATH = os.path.join(paths['IMAGE_PATH'], 'test', 'show_37.jpg')"
   ]
  },
  {
   "cell_type": "code",
   "execution_count": 117,
   "metadata": {
    "colab": {
     "base_uri": "https://localhost:8080/",
     "height": 269
    },
    "collapsed": true,
    "id": "Tpzn1SMry1yK",
    "outputId": "c392a2c5-10fe-4fc4-9998-a1d4c7db2bd3"
   },
   "outputs": [
    {
     "name": "stderr",
     "output_type": "stream",
     "text": [
      "[ WARN:0@2.913] global /io/opencv/modules/imgcodecs/src/loadsave.cpp (239) findDecoder imread_('Tensorflow/workspace/images/test/show_37.jpg'): can't open/read file: check file path/integrity\n"
     ]
    },
    {
     "name": "stdout",
     "output_type": "stream",
     "text": [
      "WARNING:tensorflow:From /home/chanyu/Desktop/gesture_detection_3.8/tfod/lib/python3.8/site-packages/tensorflow/python/autograph/pyct/static_analysis/liveness.py:83: Analyzer.lamba_check (from tensorflow.python.autograph.pyct.static_analysis.liveness) is deprecated and will be removed after 2023-09-23.\n",
      "Instructions for updating:\n",
      "Lambda fuctions will be no more assumed to be used in the statement where they are used, or at least in the same block. https://github.com/tensorflow/tensorflow/issues/56089\n"
     ]
    },
    {
     "ename": "ValueError",
     "evalue": "in user code:\n\n    File \"/tmp/ipykernel_33702/2471578624.py\", line 11, in detect_fn  *\n        image, shapes = detection_model.preprocess(image)\n    File \"/home/chanyu/Desktop/gesture_detection_3.8/tfod/lib/python3.8/site-packages/object_detection/meta_architectures/ssd_meta_arch.py\", line 484, in preprocess  *\n        normalized_inputs, self._image_resizer_fn)\n    File \"/home/chanyu/Desktop/gesture_detection_3.8/tfod/lib/python3.8/site-packages/object_detection/utils/shape_utils.py\", line 492, in resize_images_and_return_shapes  *\n        outputs = static_or_dynamic_map_fn(\n    File \"/home/chanyu/Desktop/gesture_detection_3.8/tfod/lib/python3.8/site-packages/object_detection/utils/shape_utils.py\", line 246, in static_or_dynamic_map_fn  *\n        outputs = [fn(arg) for arg in tf.unstack(elems)]\n    File \"/home/chanyu/Desktop/gesture_detection_3.8/tfod/lib/python3.8/site-packages/object_detection/core/preprocessor.py\", line 3330, in resize_image  *\n        new_image = tf.image.resize_images(\n\n    ValueError: 'images' must have either 3 or 4 dimensions.\n",
     "output_type": "error",
     "traceback": [
      "\u001b[0;31m---------------------------------------------------------------------------\u001b[0m",
      "\u001b[0;31mValueError\u001b[0m                                Traceback (most recent call last)",
      "Cell \u001b[0;32mIn[117], line 5\u001b[0m\n\u001b[1;32m      2\u001b[0m image_np \u001b[38;5;241m=\u001b[39m np\u001b[38;5;241m.\u001b[39marray(img)\n\u001b[1;32m      4\u001b[0m input_tensor \u001b[38;5;241m=\u001b[39m tf\u001b[38;5;241m.\u001b[39mconvert_to_tensor(np\u001b[38;5;241m.\u001b[39mexpand_dims(image_np, \u001b[38;5;241m0\u001b[39m), dtype\u001b[38;5;241m=\u001b[39mtf\u001b[38;5;241m.\u001b[39mfloat32)\n\u001b[0;32m----> 5\u001b[0m detections \u001b[38;5;241m=\u001b[39m \u001b[43mdetect_fn\u001b[49m\u001b[43m(\u001b[49m\u001b[43minput_tensor\u001b[49m\u001b[43m)\u001b[49m\n\u001b[1;32m      7\u001b[0m num_detections \u001b[38;5;241m=\u001b[39m \u001b[38;5;28mint\u001b[39m(detections\u001b[38;5;241m.\u001b[39mpop(\u001b[38;5;124m'\u001b[39m\u001b[38;5;124mnum_detections\u001b[39m\u001b[38;5;124m'\u001b[39m))\n\u001b[1;32m      8\u001b[0m detections \u001b[38;5;241m=\u001b[39m {key: value[\u001b[38;5;241m0\u001b[39m, :num_detections]\u001b[38;5;241m.\u001b[39mnumpy()\n\u001b[1;32m      9\u001b[0m               \u001b[38;5;28;01mfor\u001b[39;00m key, value \u001b[38;5;129;01min\u001b[39;00m detections\u001b[38;5;241m.\u001b[39mitems()}\n",
      "File \u001b[0;32m~/Desktop/gesture_detection_3.8/tfod/lib/python3.8/site-packages/tensorflow/python/util/traceback_utils.py:153\u001b[0m, in \u001b[0;36mfilter_traceback.<locals>.error_handler\u001b[0;34m(*args, **kwargs)\u001b[0m\n\u001b[1;32m    151\u001b[0m \u001b[38;5;28;01mexcept\u001b[39;00m \u001b[38;5;167;01mException\u001b[39;00m \u001b[38;5;28;01mas\u001b[39;00m e:\n\u001b[1;32m    152\u001b[0m   filtered_tb \u001b[38;5;241m=\u001b[39m _process_traceback_frames(e\u001b[38;5;241m.\u001b[39m__traceback__)\n\u001b[0;32m--> 153\u001b[0m   \u001b[38;5;28;01mraise\u001b[39;00m e\u001b[38;5;241m.\u001b[39mwith_traceback(filtered_tb) \u001b[38;5;28;01mfrom\u001b[39;00m \u001b[38;5;28mNone\u001b[39m\n\u001b[1;32m    154\u001b[0m \u001b[38;5;28;01mfinally\u001b[39;00m:\n\u001b[1;32m    155\u001b[0m   \u001b[38;5;28;01mdel\u001b[39;00m filtered_tb\n",
      "File \u001b[0;32m/tmp/__autograph_generated_filehzc3cg8x.py:10\u001b[0m, in \u001b[0;36mouter_factory.<locals>.inner_factory.<locals>.tf__detect_fn\u001b[0;34m(image)\u001b[0m\n\u001b[1;32m      8\u001b[0m do_return \u001b[38;5;241m=\u001b[39m \u001b[38;5;28;01mFalse\u001b[39;00m\n\u001b[1;32m      9\u001b[0m retval_ \u001b[38;5;241m=\u001b[39m ag__\u001b[38;5;241m.\u001b[39mUndefinedReturnValue()\n\u001b[0;32m---> 10\u001b[0m (image, shapes) \u001b[38;5;241m=\u001b[39m ag__\u001b[38;5;241m.\u001b[39mconverted_call(ag__\u001b[38;5;241m.\u001b[39mld(detection_model)\u001b[38;5;241m.\u001b[39mpreprocess, (ag__\u001b[38;5;241m.\u001b[39mld(image),), \u001b[38;5;28;01mNone\u001b[39;00m, fscope)\n\u001b[1;32m     11\u001b[0m prediction_dict \u001b[38;5;241m=\u001b[39m ag__\u001b[38;5;241m.\u001b[39mconverted_call(ag__\u001b[38;5;241m.\u001b[39mld(detection_model)\u001b[38;5;241m.\u001b[39mpredict, (ag__\u001b[38;5;241m.\u001b[39mld(image), ag__\u001b[38;5;241m.\u001b[39mld(shapes)), \u001b[38;5;28;01mNone\u001b[39;00m, fscope)\n\u001b[1;32m     12\u001b[0m detections \u001b[38;5;241m=\u001b[39m ag__\u001b[38;5;241m.\u001b[39mconverted_call(ag__\u001b[38;5;241m.\u001b[39mld(detection_model)\u001b[38;5;241m.\u001b[39mpostprocess, (ag__\u001b[38;5;241m.\u001b[39mld(prediction_dict), ag__\u001b[38;5;241m.\u001b[39mld(shapes)), \u001b[38;5;28;01mNone\u001b[39;00m, fscope)\n",
      "File \u001b[0;32m/tmp/__autograph_generated_fileymu3bwyl.py:15\u001b[0m, in \u001b[0;36mouter_factory.<locals>.inner_factory.<locals>.tf__preprocess\u001b[0;34m(self, inputs)\u001b[0m\n\u001b[1;32m     13\u001b[0m \u001b[38;5;28;01mtry\u001b[39;00m:\n\u001b[1;32m     14\u001b[0m     do_return \u001b[38;5;241m=\u001b[39m \u001b[38;5;28;01mTrue\u001b[39;00m\n\u001b[0;32m---> 15\u001b[0m     retval_ \u001b[38;5;241m=\u001b[39m ag__\u001b[38;5;241m.\u001b[39mconverted_call(ag__\u001b[38;5;241m.\u001b[39mld(shape_utils)\u001b[38;5;241m.\u001b[39mresize_images_and_return_shapes, (ag__\u001b[38;5;241m.\u001b[39mld(normalized_inputs), ag__\u001b[38;5;241m.\u001b[39mld(\u001b[38;5;28mself\u001b[39m)\u001b[38;5;241m.\u001b[39m_image_resizer_fn), \u001b[38;5;28;01mNone\u001b[39;00m, fscope)\n\u001b[1;32m     16\u001b[0m \u001b[38;5;28;01mexcept\u001b[39;00m:\n\u001b[1;32m     17\u001b[0m     do_return \u001b[38;5;241m=\u001b[39m \u001b[38;5;28;01mFalse\u001b[39;00m\n",
      "File \u001b[0;32m/tmp/__autograph_generated_filecgyszbkg.py:25\u001b[0m, in \u001b[0;36mouter_factory.<locals>.inner_factory.<locals>.tf__resize_images_and_return_shapes\u001b[0;34m(inputs, image_resizer_fn)\u001b[0m\n\u001b[1;32m     23\u001b[0m     \u001b[38;5;28;01mpass\u001b[39;00m\n\u001b[1;32m     24\u001b[0m ag__\u001b[38;5;241m.\u001b[39mif_stmt((ag__\u001b[38;5;241m.\u001b[39mld(inputs)\u001b[38;5;241m.\u001b[39mdtype \u001b[38;5;129;01mis\u001b[39;00m \u001b[38;5;129;01mnot\u001b[39;00m ag__\u001b[38;5;241m.\u001b[39mld(tf)\u001b[38;5;241m.\u001b[39mfloat32), if_body, else_body, get_state, set_state, (), \u001b[38;5;241m0\u001b[39m)\n\u001b[0;32m---> 25\u001b[0m outputs \u001b[38;5;241m=\u001b[39m ag__\u001b[38;5;241m.\u001b[39mconverted_call(ag__\u001b[38;5;241m.\u001b[39mld(static_or_dynamic_map_fn), (ag__\u001b[38;5;241m.\u001b[39mld(image_resizer_fn),), \u001b[38;5;28mdict\u001b[39m(elems\u001b[38;5;241m=\u001b[39mag__\u001b[38;5;241m.\u001b[39mld(inputs), dtype\u001b[38;5;241m=\u001b[39m[ag__\u001b[38;5;241m.\u001b[39mld(tf)\u001b[38;5;241m.\u001b[39mfloat32, ag__\u001b[38;5;241m.\u001b[39mld(tf)\u001b[38;5;241m.\u001b[39mint32]), fscope)\n\u001b[1;32m     26\u001b[0m resized_inputs \u001b[38;5;241m=\u001b[39m ag__\u001b[38;5;241m.\u001b[39mld(outputs)[\u001b[38;5;241m0\u001b[39m]\n\u001b[1;32m     27\u001b[0m true_image_shapes \u001b[38;5;241m=\u001b[39m ag__\u001b[38;5;241m.\u001b[39mld(outputs)[\u001b[38;5;241m1\u001b[39m]\n",
      "File \u001b[0;32m/tmp/__autograph_generated_file2f7vxb7i.py:149\u001b[0m, in \u001b[0;36mouter_factory.<locals>.inner_factory.<locals>.tf__static_or_dynamic_map_fn\u001b[0;34m(fn, elems, dtype, parallel_iterations, back_prop)\u001b[0m\n\u001b[1;32m    147\u001b[0m elem_shapes \u001b[38;5;241m=\u001b[39m ag__\u001b[38;5;241m.\u001b[39mUndefined(\u001b[38;5;124m'\u001b[39m\u001b[38;5;124melem_shapes\u001b[39m\u001b[38;5;124m'\u001b[39m)\n\u001b[1;32m    148\u001b[0m elems_shape \u001b[38;5;241m=\u001b[39m ag__\u001b[38;5;241m.\u001b[39mUndefined(\u001b[38;5;124m'\u001b[39m\u001b[38;5;124melems_shape\u001b[39m\u001b[38;5;124m'\u001b[39m)\n\u001b[0;32m--> 149\u001b[0m ag__\u001b[38;5;241m.\u001b[39mif_stmt(ag__\u001b[38;5;241m.\u001b[39mconverted_call(ag__\u001b[38;5;241m.\u001b[39mld(\u001b[38;5;28misinstance\u001b[39m), (ag__\u001b[38;5;241m.\u001b[39mld(elems), ag__\u001b[38;5;241m.\u001b[39mld(\u001b[38;5;28mlist\u001b[39m)), \u001b[38;5;28;01mNone\u001b[39;00m, fscope), if_body_5, else_body_5, get_state_7, set_state_7, (\u001b[38;5;124m'\u001b[39m\u001b[38;5;124mdo_return\u001b[39m\u001b[38;5;124m'\u001b[39m, \u001b[38;5;124m'\u001b[39m\u001b[38;5;124moutputs\u001b[39m\u001b[38;5;124m'\u001b[39m, \u001b[38;5;124m'\u001b[39m\u001b[38;5;124mretval_\u001b[39m\u001b[38;5;124m'\u001b[39m), \u001b[38;5;241m3\u001b[39m)\n\u001b[1;32m    151\u001b[0m \u001b[38;5;28;01mdef\u001b[39;00m \u001b[38;5;21mget_state_12\u001b[39m():\n\u001b[1;32m    152\u001b[0m     \u001b[38;5;28;01mreturn\u001b[39;00m (do_return, retval_)\n",
      "File \u001b[0;32m/tmp/__autograph_generated_file2f7vxb7i.py:142\u001b[0m, in \u001b[0;36mouter_factory.<locals>.inner_factory.<locals>.tf__static_or_dynamic_map_fn.<locals>.else_body_5\u001b[0;34m()\u001b[0m\n\u001b[1;32m    140\u001b[0m     outputs \u001b[38;5;241m=\u001b[39m [ag__\u001b[38;5;241m.\u001b[39mconverted_call(ag__\u001b[38;5;241m.\u001b[39mld(fn), (ag__\u001b[38;5;241m.\u001b[39mld(arg),), \u001b[38;5;28;01mNone\u001b[39;00m, fscope) \u001b[38;5;28;01mfor\u001b[39;00m arg \u001b[38;5;129;01min\u001b[39;00m ag__\u001b[38;5;241m.\u001b[39mconverted_call(ag__\u001b[38;5;241m.\u001b[39mld(tf)\u001b[38;5;241m.\u001b[39munstack, (ag__\u001b[38;5;241m.\u001b[39mld(elems),), \u001b[38;5;28;01mNone\u001b[39;00m, fscope)]\n\u001b[1;32m    141\u001b[0m outputs \u001b[38;5;241m=\u001b[39m ag__\u001b[38;5;241m.\u001b[39mUndefined(\u001b[38;5;124m'\u001b[39m\u001b[38;5;124moutputs\u001b[39m\u001b[38;5;124m'\u001b[39m)\n\u001b[0;32m--> 142\u001b[0m \u001b[43mag__\u001b[49m\u001b[38;5;241;43m.\u001b[39;49m\u001b[43mif_stmt\u001b[49m\u001b[43m(\u001b[49m\u001b[43mag__\u001b[49m\u001b[38;5;241;43m.\u001b[39;49m\u001b[43mor_\u001b[49m\u001b[43m(\u001b[49m\u001b[43m(\u001b[49m\u001b[38;5;28;43;01mlambda\u001b[39;49;00m\u001b[43m \u001b[49m\u001b[43m:\u001b[49m\u001b[43m \u001b[49m\u001b[43mag__\u001b[49m\u001b[38;5;241;43m.\u001b[39;49m\u001b[43mnot_\u001b[49m\u001b[43m(\u001b[49m\u001b[43mag__\u001b[49m\u001b[38;5;241;43m.\u001b[39;49m\u001b[43mld\u001b[49m\u001b[43m(\u001b[49m\u001b[43melems_shape\u001b[49m\u001b[43m)\u001b[49m\u001b[43m)\u001b[49m\u001b[43m)\u001b[49m\u001b[43m,\u001b[49m\u001b[43m \u001b[49m\u001b[43m(\u001b[49m\u001b[38;5;28;43;01mlambda\u001b[39;49;00m\u001b[43m \u001b[49m\u001b[43m:\u001b[49m\u001b[43m \u001b[49m\u001b[43mag__\u001b[49m\u001b[38;5;241;43m.\u001b[39;49m\u001b[43mnot_\u001b[49m\u001b[43m(\u001b[49m\u001b[43mag__\u001b[49m\u001b[38;5;241;43m.\u001b[39;49m\u001b[43mld\u001b[49m\u001b[43m(\u001b[49m\u001b[43melems_shape\u001b[49m\u001b[43m)\u001b[49m\u001b[43m[\u001b[49m\u001b[38;5;241;43m0\u001b[39;49m\u001b[43m]\u001b[49m\u001b[43m)\u001b[49m\u001b[43m)\u001b[49m\u001b[43m)\u001b[49m\u001b[43m,\u001b[49m\u001b[43m \u001b[49m\u001b[43mif_body_4\u001b[49m\u001b[43m,\u001b[49m\u001b[43m \u001b[49m\u001b[43melse_body_4\u001b[49m\u001b[43m,\u001b[49m\u001b[43m \u001b[49m\u001b[43mget_state_6\u001b[49m\u001b[43m,\u001b[49m\u001b[43m \u001b[49m\u001b[43mset_state_6\u001b[49m\u001b[43m,\u001b[49m\u001b[43m \u001b[49m\u001b[43m(\u001b[49m\u001b[38;5;124;43m'\u001b[39;49m\u001b[38;5;124;43mdo_return\u001b[39;49m\u001b[38;5;124;43m'\u001b[39;49m\u001b[43m,\u001b[49m\u001b[43m \u001b[49m\u001b[38;5;124;43m'\u001b[39;49m\u001b[38;5;124;43moutputs\u001b[39;49m\u001b[38;5;124;43m'\u001b[39;49m\u001b[43m,\u001b[49m\u001b[43m \u001b[49m\u001b[38;5;124;43m'\u001b[39;49m\u001b[38;5;124;43mretval_\u001b[39;49m\u001b[38;5;124;43m'\u001b[39;49m\u001b[43m)\u001b[49m\u001b[43m,\u001b[49m\u001b[43m \u001b[49m\u001b[38;5;241;43m3\u001b[39;49m\u001b[43m)\u001b[49m\n",
      "File \u001b[0;32m/tmp/__autograph_generated_file2f7vxb7i.py:140\u001b[0m, in \u001b[0;36mouter_factory.<locals>.inner_factory.<locals>.tf__static_or_dynamic_map_fn.<locals>.else_body_5.<locals>.else_body_4\u001b[0;34m()\u001b[0m\n\u001b[1;32m    138\u001b[0m \u001b[38;5;28;01mdef\u001b[39;00m \u001b[38;5;21melse_body_4\u001b[39m():\n\u001b[1;32m    139\u001b[0m     \u001b[38;5;28;01mnonlocal\u001b[39;00m outputs, retval_, do_return\n\u001b[0;32m--> 140\u001b[0m     outputs \u001b[38;5;241m=\u001b[39m [ag__\u001b[38;5;241m.\u001b[39mconverted_call(ag__\u001b[38;5;241m.\u001b[39mld(fn), (ag__\u001b[38;5;241m.\u001b[39mld(arg),), \u001b[38;5;28;01mNone\u001b[39;00m, fscope) \u001b[38;5;28;01mfor\u001b[39;00m arg \u001b[38;5;129;01min\u001b[39;00m ag__\u001b[38;5;241m.\u001b[39mconverted_call(ag__\u001b[38;5;241m.\u001b[39mld(tf)\u001b[38;5;241m.\u001b[39munstack, (ag__\u001b[38;5;241m.\u001b[39mld(elems),), \u001b[38;5;28;01mNone\u001b[39;00m, fscope)]\n",
      "File \u001b[0;32m/tmp/__autograph_generated_file2f7vxb7i.py:140\u001b[0m, in \u001b[0;36m<listcomp>\u001b[0;34m(.0)\u001b[0m\n\u001b[1;32m    138\u001b[0m \u001b[38;5;28;01mdef\u001b[39;00m \u001b[38;5;21melse_body_4\u001b[39m():\n\u001b[1;32m    139\u001b[0m     \u001b[38;5;28;01mnonlocal\u001b[39;00m outputs, retval_, do_return\n\u001b[0;32m--> 140\u001b[0m     outputs \u001b[38;5;241m=\u001b[39m [\u001b[43mag__\u001b[49m\u001b[38;5;241;43m.\u001b[39;49m\u001b[43mconverted_call\u001b[49m\u001b[43m(\u001b[49m\u001b[43mag__\u001b[49m\u001b[38;5;241;43m.\u001b[39;49m\u001b[43mld\u001b[49m\u001b[43m(\u001b[49m\u001b[43mfn\u001b[49m\u001b[43m)\u001b[49m\u001b[43m,\u001b[49m\u001b[43m \u001b[49m\u001b[43m(\u001b[49m\u001b[43mag__\u001b[49m\u001b[38;5;241;43m.\u001b[39;49m\u001b[43mld\u001b[49m\u001b[43m(\u001b[49m\u001b[43marg\u001b[49m\u001b[43m)\u001b[49m\u001b[43m,\u001b[49m\u001b[43m)\u001b[49m\u001b[43m,\u001b[49m\u001b[43m \u001b[49m\u001b[38;5;28;43;01mNone\u001b[39;49;00m\u001b[43m,\u001b[49m\u001b[43m \u001b[49m\u001b[43mfscope\u001b[49m\u001b[43m)\u001b[49m \u001b[38;5;28;01mfor\u001b[39;00m arg \u001b[38;5;129;01min\u001b[39;00m ag__\u001b[38;5;241m.\u001b[39mconverted_call(ag__\u001b[38;5;241m.\u001b[39mld(tf)\u001b[38;5;241m.\u001b[39munstack, (ag__\u001b[38;5;241m.\u001b[39mld(elems),), \u001b[38;5;28;01mNone\u001b[39;00m, fscope)]\n",
      "File \u001b[0;32m/tmp/__autograph_generated_filez9xkm40g.py:13\u001b[0m, in \u001b[0;36mouter_factory.<locals>.inner_factory.<locals>.tf__resize_image\u001b[0;34m(image, masks, new_height, new_width, method, align_corners)\u001b[0m\n\u001b[1;32m     11\u001b[0m retval_ \u001b[38;5;241m=\u001b[39m ag__\u001b[38;5;241m.\u001b[39mUndefinedReturnValue()\n\u001b[1;32m     12\u001b[0m \u001b[38;5;28;01mwith\u001b[39;00m ag__\u001b[38;5;241m.\u001b[39mld(tf)\u001b[38;5;241m.\u001b[39mname_scope(\u001b[38;5;124m'\u001b[39m\u001b[38;5;124mResizeImage\u001b[39m\u001b[38;5;124m'\u001b[39m, values\u001b[38;5;241m=\u001b[39m[ag__\u001b[38;5;241m.\u001b[39mld(image), ag__\u001b[38;5;241m.\u001b[39mld(new_height), ag__\u001b[38;5;241m.\u001b[39mld(new_width), ag__\u001b[38;5;241m.\u001b[39mld(method), ag__\u001b[38;5;241m.\u001b[39mld(align_corners)]):\n\u001b[0;32m---> 13\u001b[0m     new_image \u001b[38;5;241m=\u001b[39m ag__\u001b[38;5;241m.\u001b[39mconverted_call(ag__\u001b[38;5;241m.\u001b[39mld(tf)\u001b[38;5;241m.\u001b[39mimage\u001b[38;5;241m.\u001b[39mresize_images, (ag__\u001b[38;5;241m.\u001b[39mld(image), ag__\u001b[38;5;241m.\u001b[39mconverted_call(ag__\u001b[38;5;241m.\u001b[39mld(tf)\u001b[38;5;241m.\u001b[39mstack, ([ag__\u001b[38;5;241m.\u001b[39mld(new_height), ag__\u001b[38;5;241m.\u001b[39mld(new_width)],), \u001b[38;5;28;01mNone\u001b[39;00m, fscope)), \u001b[38;5;28mdict\u001b[39m(method\u001b[38;5;241m=\u001b[39mag__\u001b[38;5;241m.\u001b[39mld(method), align_corners\u001b[38;5;241m=\u001b[39mag__\u001b[38;5;241m.\u001b[39mld(align_corners)), fscope)\n\u001b[1;32m     14\u001b[0m     image_shape \u001b[38;5;241m=\u001b[39m ag__\u001b[38;5;241m.\u001b[39mconverted_call(ag__\u001b[38;5;241m.\u001b[39mld(shape_utils)\u001b[38;5;241m.\u001b[39mcombined_static_and_dynamic_shape, (ag__\u001b[38;5;241m.\u001b[39mld(image),), \u001b[38;5;28;01mNone\u001b[39;00m, fscope)\n\u001b[1;32m     15\u001b[0m     result \u001b[38;5;241m=\u001b[39m [ag__\u001b[38;5;241m.\u001b[39mld(new_image)]\n",
      "\u001b[0;31mValueError\u001b[0m: in user code:\n\n    File \"/tmp/ipykernel_33702/2471578624.py\", line 11, in detect_fn  *\n        image, shapes = detection_model.preprocess(image)\n    File \"/home/chanyu/Desktop/gesture_detection_3.8/tfod/lib/python3.8/site-packages/object_detection/meta_architectures/ssd_meta_arch.py\", line 484, in preprocess  *\n        normalized_inputs, self._image_resizer_fn)\n    File \"/home/chanyu/Desktop/gesture_detection_3.8/tfod/lib/python3.8/site-packages/object_detection/utils/shape_utils.py\", line 492, in resize_images_and_return_shapes  *\n        outputs = static_or_dynamic_map_fn(\n    File \"/home/chanyu/Desktop/gesture_detection_3.8/tfod/lib/python3.8/site-packages/object_detection/utils/shape_utils.py\", line 246, in static_or_dynamic_map_fn  *\n        outputs = [fn(arg) for arg in tf.unstack(elems)]\n    File \"/home/chanyu/Desktop/gesture_detection_3.8/tfod/lib/python3.8/site-packages/object_detection/core/preprocessor.py\", line 3330, in resize_image  *\n        new_image = tf.image.resize_images(\n\n    ValueError: 'images' must have either 3 or 4 dimensions.\n"
     ]
    }
   ],
   "source": [
    "img = cv2.imread(IMAGE_PATH)\n",
    "image_np = np.array(img)\n",
    "\n",
    "input_tensor = tf.convert_to_tensor(np.expand_dims(image_np, 0), dtype=tf.float32)\n",
    "detections = detect_fn(input_tensor)\n",
    "\n",
    "num_detections = int(detections.pop('num_detections'))\n",
    "detections = {key: value[0, :num_detections].numpy()\n",
    "              for key, value in detections.items()}\n",
    "detections['num_detections'] = num_detections\n",
    "\n",
    "# detection_classes should be ints.\n",
    "detections['detection_classes'] = detections['detection_classes'].astype(np.int64)\n",
    "\n",
    "label_id_offset = 1\n",
    "image_np_with_detections = image_np.copy()\n",
    "\n",
    "viz_utils.visualize_boxes_and_labels_on_image_array(\n",
    "            image_np_with_detections,\n",
    "            detections['detection_boxes'],\n",
    "            detections['detection_classes']+label_id_offset,\n",
    "            detections['detection_scores'],\n",
    "            category_index,\n",
    "            use_normalized_coordinates=True,\n",
    "            max_boxes_to_draw=5,\n",
    "            min_score_thresh=.8,\n",
    "            agnostic_mode=False)\n",
    "\n",
    "plt.imshow(cv2.cvtColor(image_np_with_detections, cv2.COLOR_BGR2RGB))\n",
    "plt.show()"
   ]
  },
  {
   "cell_type": "markdown",
   "metadata": {
    "id": "IsNAaYAo0WVL"
   },
   "source": [
    "# 10. Real Time Detections from your Webcam"
   ]
  },
  {
   "cell_type": "code",
   "execution_count": null,
   "metadata": {},
   "outputs": [],
   "source": [
    " # !pip install opencv-python-headless"
   ]
  },
  {
   "cell_type": "code",
   "execution_count": 119,
   "metadata": {},
   "outputs": [],
   "source": [
    "tf.config.run_functions_eagerly(True)"
   ]
  },
  {
   "cell_type": "code",
   "execution_count": 121,
   "metadata": {
    "id": "o_grs6OGpfDJ"
   },
   "outputs": [],
   "source": [
    "cap = cv2.VideoCapture(0)\n",
    "width = int(cap.get(cv2.CAP_PROP_FRAME_WIDTH))\n",
    "height = int(cap.get(cv2.CAP_PROP_FRAME_HEIGHT))\n",
    "\n",
    "while cap.isOpened(): \n",
    "    ret, frame = cap.read()\n",
    "    image_np = np.array(frame)\n",
    "    \n",
    "    input_tensor = tf.convert_to_tensor(np.expand_dims(image_np, 0), dtype=tf.float32)\n",
    "    detections = detect_fn(input_tensor)\n",
    "    \n",
    "    num_detections = int(detections.pop('num_detections'))\n",
    "    detections = {key: value[0, :num_detections].numpy()\n",
    "                  for key, value in detections.items()}\n",
    "    detections['num_detections'] = num_detections\n",
    "\n",
    "    # detection_classes should be ints.\n",
    "    detections['detection_classes'] = detections['detection_classes'].astype(np.int64)\n",
    "\n",
    "    label_id_offset = 1\n",
    "    image_np_with_detections = image_np.copy()\n",
    "\n",
    "    viz_utils.visualize_boxes_and_labels_on_image_array(\n",
    "                image_np_with_detections,\n",
    "                detections['detection_boxes'],\n",
    "                detections['detection_classes']+label_id_offset,\n",
    "                detections['detection_scores'],\n",
    "                category_index,\n",
    "                use_normalized_coordinates=True,\n",
    "                max_boxes_to_draw=5,\n",
    "                min_score_thresh=.8,\n",
    "                agnostic_mode=False)\n",
    "\n",
    "    cv2.imshow('object detection',  cv2.resize(image_np_with_detections, (800, 600)))\n",
    "    \n",
    "    if cv2.waitKey(10) & 0xFF == ord('q'):\n",
    "        cap.release()\n",
    "        cv2.destroyAllWindows()\n",
    "        break"
   ]
  },
  {
   "cell_type": "markdown",
   "metadata": {
    "id": "rzlM4jt0pfDJ"
   },
   "source": [
    "# 10. Freezing the Graph"
   ]
  },
  {
   "cell_type": "code",
   "execution_count": null,
   "metadata": {
    "id": "n4olHB2npfDJ"
   },
   "outputs": [],
   "source": [
    "FREEZE_SCRIPT = os.path.join(paths['APIMODEL_PATH'], 'research', 'object_detection', 'exporter_main_v2.py ')"
   ]
  },
  {
   "cell_type": "code",
   "execution_count": null,
   "metadata": {
    "id": "0AjO93QDpfDJ"
   },
   "outputs": [],
   "source": [
    "command = \"python {} --input_type=image_tensor --pipeline_config_path={} --trained_checkpoint_dir={} --output_directory={}\".format(FREEZE_SCRIPT ,files['PIPELINE_CONFIG'], paths['CHECKPOINT_PATH'], paths['OUTPUT_PATH'])"
   ]
  },
  {
   "cell_type": "code",
   "execution_count": null,
   "metadata": {
    "colab": {
     "base_uri": "https://localhost:8080/"
    },
    "id": "F6Lsp3tCpfDJ",
    "outputId": "c3828529-bf06-4df5-d7f3-145890ec3edd"
   },
   "outputs": [],
   "source": [
    "print(command)"
   ]
  },
  {
   "cell_type": "code",
   "execution_count": null,
   "metadata": {
    "colab": {
     "base_uri": "https://localhost:8080/"
    },
    "id": "1Sw1ULgHpfDJ",
    "outputId": "6fd441e1-9fc9-4889-d072-3395c21e40b6"
   },
   "outputs": [],
   "source": [
    "!{command}"
   ]
  },
  {
   "cell_type": "markdown",
   "metadata": {
    "id": "wTPmdqaXpfDK"
   },
   "source": [
    "# 11. Conversion to TFJS"
   ]
  },
  {
   "cell_type": "code",
   "execution_count": null,
   "metadata": {
    "colab": {
     "base_uri": "https://localhost:8080/"
    },
    "id": "gZ6UzY_fpfDK",
    "outputId": "0c84722e-1c2b-4002-d857-80827ade828a",
    "scrolled": true
   },
   "outputs": [],
   "source": [
    "!pip install tensorflowjs"
   ]
  },
  {
   "cell_type": "code",
   "execution_count": null,
   "metadata": {
    "id": "0oxbVynHpfDK"
   },
   "outputs": [],
   "source": [
    "command = \"tensorflowjs_converter --input_format=tf_saved_model --output_node_names='detection_boxes,detection_classes,detection_features,detection_multiclass_scores,detection_scores,num_detections,raw_detection_boxes,raw_detection_scores' --output_format=tfjs_graph_model --signature_name=serving_default {} {}\".format(os.path.join(paths['OUTPUT_PATH'], 'saved_model'), paths['TFJS_PATH'])"
   ]
  },
  {
   "cell_type": "code",
   "execution_count": null,
   "metadata": {
    "colab": {
     "base_uri": "https://localhost:8080/"
    },
    "id": "DB2AGNmJpfDK",
    "outputId": "fbc9f747-f511-47e8-df8f-5ea65cef0374"
   },
   "outputs": [],
   "source": [
    "print(command)"
   ]
  },
  {
   "cell_type": "code",
   "execution_count": null,
   "metadata": {
    "colab": {
     "base_uri": "https://localhost:8080/"
    },
    "id": "K7rfT4-hpfDK",
    "outputId": "532707fd-6feb-4bc6-84a3-325b5d16303c"
   },
   "outputs": [],
   "source": [
    "!{command}"
   ]
  },
  {
   "cell_type": "code",
   "execution_count": null,
   "metadata": {
    "id": "o8_hm-itpfDK"
   },
   "outputs": [],
   "source": [
    "# Test Code: https://github.com/nicknochnack/RealTimeSignLanguageDetectionwithTFJS"
   ]
  },
  {
   "cell_type": "markdown",
   "metadata": {
    "id": "VtUw73FHpfDK"
   },
   "source": [
    "# 12. Conversion to TFLite"
   ]
  },
  {
   "cell_type": "code",
   "execution_count": null,
   "metadata": {
    "id": "XviMtewLpfDK"
   },
   "outputs": [],
   "source": [
    "TFLITE_SCRIPT = os.path.join(paths['APIMODEL_PATH'], 'research', 'object_detection', 'export_tflite_graph_tf2.py ')"
   ]
  },
  {
   "cell_type": "code",
   "execution_count": null,
   "metadata": {
    "id": "us86cjC4pfDL"
   },
   "outputs": [],
   "source": [
    "command = \"python {} --pipeline_config_path={} --trained_checkpoint_dir={} --output_directory={}\".format(TFLITE_SCRIPT ,files['PIPELINE_CONFIG'], paths['CHECKPOINT_PATH'], paths['TFLITE_PATH'])"
   ]
  },
  {
   "cell_type": "code",
   "execution_count": null,
   "metadata": {
    "colab": {
     "base_uri": "https://localhost:8080/"
    },
    "id": "n1r5YO3rpfDL",
    "outputId": "5fcdf7a4-eee2-4365-f1ca-1751968379ea"
   },
   "outputs": [],
   "source": [
    "print(command)"
   ]
  },
  {
   "cell_type": "code",
   "execution_count": null,
   "metadata": {
    "colab": {
     "base_uri": "https://localhost:8080/"
    },
    "id": "I-xWpHN8pfDL",
    "outputId": "7f6bacd8-d077-43b5-c131-5b081fba24a4"
   },
   "outputs": [],
   "source": [
    "!{command}"
   ]
  },
  {
   "cell_type": "code",
   "execution_count": null,
   "metadata": {
    "id": "iJfYMbN6pfDL"
   },
   "outputs": [],
   "source": [
    "FROZEN_TFLITE_PATH = os.path.join(paths['TFLITE_PATH'], 'saved_model')\n",
    "TFLITE_MODEL = os.path.join(paths['TFLITE_PATH'], 'saved_model', 'detect.tflite')"
   ]
  },
  {
   "cell_type": "code",
   "execution_count": null,
   "metadata": {},
   "outputs": [],
   "source": [
    "command = \"tflite_convert \\\n",
    "--saved_model_dir={} \\\n",
    "--output_file={} \\\n",
    "--input_shapes=1,300,300,3 \\\n",
    "--input_arrays=normalized_input_image_tensor \\\n",
    "--output_arrays='TFLite_Detection_PostProcess','TFLite_Detection_PostProcess:1','TFLite_Detection_PostProcess:2','TFLite_Detection_PostProcess:3' \\\n",
    "--inference_type=FLOAT \\\n",
    "--allow_custom_ops\".format(FROZEN_TFLITE_PATH, TFLITE_MODEL, )"
   ]
  },
  {
   "cell_type": "code",
   "execution_count": null,
   "metadata": {
    "colab": {
     "base_uri": "https://localhost:8080/"
    },
    "id": "E8GwUeoFpfDL",
    "outputId": "fac43ea4-cc85-471b-a362-e994b06fd583"
   },
   "outputs": [],
   "source": [
    "print(command)"
   ]
  },
  {
   "cell_type": "code",
   "execution_count": null,
   "metadata": {
    "colab": {
     "base_uri": "https://localhost:8080/"
    },
    "id": "Nbd7gqHMpfDL",
    "outputId": "7c8fe6d5-2415-4641-8548-39d425c202f7"
   },
   "outputs": [],
   "source": [
    "!{command}"
   ]
  },
  {
   "cell_type": "markdown",
   "metadata": {
    "id": "5NQqZRdA21Uc"
   },
   "source": [
    "# 13. Zip and Export Models "
   ]
  },
  {
   "cell_type": "code",
   "execution_count": null,
   "metadata": {
    "id": "tTVTGCQp2ZJJ"
   },
   "outputs": [],
   "source": [
    "!tar -czf models.tar.gz {paths['CHECKPOINT_PATH']}"
   ]
  },
  {
   "cell_type": "code",
   "execution_count": null,
   "metadata": {
    "colab": {
     "base_uri": "https://localhost:8080/"
    },
    "id": "whShhB0x3PYJ",
    "outputId": "b773201d-35c9-46a8-b893-4a76bd4d5d97"
   },
   "outputs": [],
   "source": [
    "from google.colab import drive\n",
    "drive.mount('/content/drive')"
   ]
  }
 ],
 "metadata": {
  "accelerator": "GPU",
  "colab": {
   "name": "3. Training and Detection.ipynb",
   "provenance": []
  },
  "kernelspec": {
   "display_name": "tfod_3.8",
   "language": "python",
   "name": "tfod_3.8"
  },
  "language_info": {
   "codemirror_mode": {
    "name": "ipython",
    "version": 3
   },
   "file_extension": ".py",
   "mimetype": "text/x-python",
   "name": "python",
   "nbconvert_exporter": "python",
   "pygments_lexer": "ipython3",
   "version": "3.8.10"
  }
 },
 "nbformat": 4,
 "nbformat_minor": 1
}

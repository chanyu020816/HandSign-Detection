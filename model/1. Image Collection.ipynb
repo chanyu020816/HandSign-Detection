{
 "cells": [
  {
   "cell_type": "markdown",
   "metadata": {},
   "source": [
    "# 1. Import Dependencies"
   ]
  },
  {
   "cell_type": "code",
   "execution_count": 5,
   "metadata": {},
   "outputs": [
    {
     "name": "stdout",
     "output_type": "stream",
     "text": [
      "Requirement already satisfied: opencv-python in /home/chanyu/.pyenv/versions/3.8.10/lib/python3.8/site-packages (4.6.0.66)\n",
      "Requirement already satisfied: numpy>=1.17.3 in /home/chanyu/.pyenv/versions/3.8.10/lib/python3.8/site-packages (from opencv-python) (1.23.5)\n",
      "\u001b[33mWARNING: You are using pip version 21.1.1; however, version 22.3.1 is available.\n",
      "You should consider upgrading via the '/home/chanyu/.pyenv/versions/3.8.10/bin/python3.8 -m pip install --upgrade pip' command.\u001b[0m\n"
     ]
    }
   ],
   "source": [
    "!pip install opencv-python"
   ]
  },
  {
   "cell_type": "code",
   "execution_count": 1,
   "metadata": {},
   "outputs": [],
   "source": [
    "# Import opencv\n",
    "import cv2 \n",
    "\n",
    "# Import uuid\n",
    "import uuid\n",
    "\n",
    "# Import Operating System\n",
    "import os\n",
    "\n",
    "# Import time\n",
    "import time"
   ]
  },
  {
   "cell_type": "markdown",
   "metadata": {},
   "source": [
    "# 2. Define Images to Collect"
   ]
  },
  {
   "cell_type": "code",
   "execution_count": 7,
   "metadata": {},
   "outputs": [],
   "source": [
    "labels = ['wc', 'show', 'sister']\n",
    "number_imgs = 40"
   ]
  },
  {
   "cell_type": "markdown",
   "metadata": {},
   "source": [
    "# 3. Setup Folders "
   ]
  },
  {
   "cell_type": "code",
   "execution_count": 8,
   "metadata": {},
   "outputs": [],
   "source": [
    "IMAGES_PATH = os.path.join('Tensorflow', 'workspace', 'images', 'collectedimages')"
   ]
  },
  {
   "cell_type": "code",
   "execution_count": 9,
   "metadata": {},
   "outputs": [],
   "source": [
    "if not os.path.exists(IMAGES_PATH):\n",
    "    if os.name == 'posix':\n",
    "        !mkdir -p {IMAGES_PATH}\n",
    "    if os.name == 'nt':\n",
    "         !mkdir {IMAGES_PATH}\n",
    "for label in labels:\n",
    "    path = os.path.join(IMAGES_PATH, label)\n",
    "    if not os.path.exists(path):\n",
    "        !mkdir {path}"
   ]
  },
  {
   "cell_type": "markdown",
   "metadata": {},
   "source": [
    "# 4. Capture Images"
   ]
  },
  {
   "cell_type": "code",
   "execution_count": null,
   "metadata": {},
   "outputs": [],
   "source": [
    "for label in labels:\n",
    "    cap = cv2.VideoCapture(0)\n",
    "    print('Collecting images for {}'.format(label))\n",
    "    time.sleep(5)\n",
    "    for imgnum in range(number_imgs):\n",
    "        print('Collecting image {}'.format(imgnum))\n",
    "        ret, frame = cap.read()\n",
    "        imgname = os.path.join(IMAGES_PATH,label,label+'.'+'{}.jpg'.format(str(uuid.uuid1())))\n",
    "        cv2.imwrite(imgname, frame)\n",
    "        cv2.imshow('frame', frame)\n",
    "        time.sleep(2)\n",
    "\n",
    "        if cv2.waitKey(1) & 0xFF == ord('q'):\n",
    "            break\n",
    "cap.release()\n",
    "cv2.destroyAllWindows()"
   ]
  },
  {
   "cell_type": "markdown",
   "metadata": {},
   "source": [
    "# 5. Image Labelling"
   ]
  },
  {
   "cell_type": "code",
   "execution_count": 2,
   "metadata": {},
   "outputs": [
    {
     "name": "stdout",
     "output_type": "stream",
     "text": [
      "/bin/bash: /home/chanyu/anaconda3/lib/libtinfo.so.6: no version information available (required by /bin/bash)\n",
      "bash: /home/chanyu/anaconda3/lib/libtinfo.so.6: no version information available (required by bash)\n",
      "bash: /home/chanyu/anaconda3/lib/libtinfo.so.6: no version information available (required by bash)\n",
      "bash: /home/chanyu/anaconda3/lib/libtinfo.so.6: no version information available (required by bash)\n",
      "bash: /home/chanyu/anaconda3/lib/libtinfo.so.6: no version information available (required by bash)\n",
      "bash: /home/chanyu/anaconda3/lib/libtinfo.so.6: no version information available (required by bash)\n",
      "bash: /home/chanyu/anaconda3/lib/libtinfo.so.6: no version information available (required by bash)\n",
      "bash: /home/chanyu/anaconda3/lib/libtinfo.so.6: no version information available (required by bash)\n",
      "bash: /home/chanyu/anaconda3/lib/libtinfo.so.6: no version information available (required by bash)\n",
      "bash: /home/chanyu/anaconda3/lib/libtinfo.so.6: no version information available (required by bash)\n",
      "bash: /home/chanyu/anaconda3/lib/libtinfo.so.6: no version information available (required by bash)\n",
      "bash: /home/chanyu/anaconda3/lib/libtinfo.so.6: no version information available (required by bash)\n",
      "bash: /home/chanyu/anaconda3/lib/libtinfo.so.6: no version information available (required by bash)\n",
      "bash: /home/chanyu/anaconda3/lib/libtinfo.so.6: no version information available (required by bash)\n",
      "Requirement already satisfied: pyqt5 in /home/chanyu/.pyenv/versions/3.8.10/lib/python3.8/site-packages (5.15.7)\n",
      "Requirement already satisfied: lxml in /home/chanyu/.pyenv/versions/3.8.10/lib/python3.8/site-packages (4.9.1)\n",
      "Requirement already satisfied: PyQt5-Qt5>=5.15.0 in /home/chanyu/.pyenv/versions/3.8.10/lib/python3.8/site-packages (from pyqt5) (5.15.2)\n",
      "Requirement already satisfied: PyQt5-sip<13,>=12.11 in /home/chanyu/.pyenv/versions/3.8.10/lib/python3.8/site-packages (from pyqt5) (12.11.0)\n",
      "\u001b[33mWARNING: You are using pip version 21.1.1; however, version 22.3.1 is available.\n",
      "You should consider upgrading via the '/home/chanyu/.pyenv/versions/3.8.10/bin/python3.8 -m pip install --upgrade pip' command.\u001b[0m\n",
      "bash: /home/chanyu/anaconda3/lib/libtinfo.so.6: no version information available (required by bash)\n",
      "bash: /home/chanyu/anaconda3/lib/libtinfo.so.6: no version information available (required by bash)\n",
      "bash: /home/chanyu/anaconda3/lib/libtinfo.so.6: no version information available (required by bash)\n"
     ]
    }
   ],
   "source": [
    "!pip install --upgrade pyqt5 lxml"
   ]
  },
  {
   "cell_type": "code",
   "execution_count": 3,
   "metadata": {},
   "outputs": [],
   "source": [
    "LABELIMG_PATH = os.path.join('Tensorflow', 'labelimg')"
   ]
  },
  {
   "cell_type": "code",
   "execution_count": 4,
   "metadata": {},
   "outputs": [
    {
     "name": "stdout",
     "output_type": "stream",
     "text": [
      "/bin/bash: /home/chanyu/anaconda3/lib/libtinfo.so.6: no version information available (required by /bin/bash)\n",
      "/bin/bash: /home/chanyu/anaconda3/lib/libtinfo.so.6: no version information available (required by /bin/bash)\n",
      "Cloning into 'Tensorflow/labelimg'...\n",
      "remote: Enumerating objects: 2097, done.\u001b[K\n",
      "remote: Counting objects: 100% (7/7), done.\u001b[K\n",
      "remote: Compressing objects: 100% (7/7), done.\u001b[K\n",
      "remote: Total 2097 (delta 0), reused 4 (delta 0), pack-reused 2090\u001b[K\n",
      "Receiving objects: 100% (2097/2097), 237.14 MiB | 6.19 MiB/s, done.\n",
      "Resolving deltas: 100% (1242/1242), done.\n"
     ]
    }
   ],
   "source": [
    "if not os.path.exists(LABELIMG_PATH):\n",
    "    !mkdir {LABELIMG_PATH}\n",
    "    !git clone https://github.com/tzutalin/labelImg {LABELIMG_PATH}"
   ]
  },
  {
   "cell_type": "code",
   "execution_count": 9,
   "metadata": {},
   "outputs": [
    {
     "name": "stdout",
     "output_type": "stream",
     "text": [
      "/bin/bash: /home/chanyu/anaconda3/lib/libtinfo.so.6: no version information available (required by /bin/bash)\r\n",
      "make: *** No rule to make target 'qt5py3'.  Stop.\r\n"
     ]
    }
   ],
   "source": [
    "if os.name == 'posix':\n",
    "    !make qt5py3\n",
    "#if os.name =='nt':\n",
    "#    !cd {LABELIMG_PATH} && pyrcc5 -o libs/resources.py resources.qrc"
   ]
  },
  {
   "cell_type": "code",
   "execution_count": 8,
   "metadata": {
    "collapsed": true
   },
   "outputs": [
    {
     "name": "stdout",
     "output_type": "stream",
     "text": [
      "/bin/bash: /home/chanyu/anaconda3/lib/libtinfo.so.6: no version information available (required by /bin/bash)\n",
      "bash: /home/chanyu/anaconda3/lib/libtinfo.so.6: no version information available (required by bash)\n",
      "bash: /home/chanyu/anaconda3/lib/libtinfo.so.6: no version information available (required by bash)\n",
      "bash: /home/chanyu/anaconda3/lib/libtinfo.so.6: no version information available (required by bash)\n",
      "bash: /home/chanyu/anaconda3/lib/libtinfo.so.6: no version information available (required by bash)\n",
      "bash: /home/chanyu/anaconda3/lib/libtinfo.so.6: no version information available (required by bash)\n",
      "bash: /home/chanyu/anaconda3/lib/libtinfo.so.6: no version information available (required by bash)\n",
      "bash: /home/chanyu/anaconda3/lib/libtinfo.so.6: no version information available (required by bash)\n",
      "bash: /home/chanyu/anaconda3/lib/libtinfo.so.6: no version information available (required by bash)\n",
      "bash: /home/chanyu/anaconda3/lib/libtinfo.so.6: no version information available (required by bash)\n",
      "bash: /home/chanyu/anaconda3/lib/libtinfo.so.6: no version information available (required by bash)\n",
      "Traceback (most recent call last):\n",
      "  File \"labelImg.py\", line 13, in <module>\n",
      "    from PyQt5.QtGui import *\n",
      "ImportError: /home/chanyu/anaconda3/lib/libQt5Core.so.5: version `Qt_5.15' not found (required by /home/chanyu/.pyenv/versions/3.8.10/lib/python3.8/site-packages/PyQt5/QtGui.abi3.so)\n",
      "\n",
      "During handling of the above exception, another exception occurred:\n",
      "\n",
      "Traceback (most recent call last):\n",
      "  File \"labelImg.py\", line 22, in <module>\n",
      "    import sip\n",
      "ModuleNotFoundError: No module named 'sip'\n"
     ]
    }
   ],
   "source": [
    "!cd {LABELIMG_PATH} && python labelImg.py"
   ]
  },
  {
   "cell_type": "markdown",
   "metadata": {},
   "source": [
    "# 6. Move them into a Training and Testing Partition"
   ]
  },
  {
   "cell_type": "markdown",
   "metadata": {},
   "source": [
    "# OPTIONAL - 7. Compress them for Colab Training"
   ]
  },
  {
   "cell_type": "code",
   "execution_count": 14,
   "metadata": {},
   "outputs": [],
   "source": [
    "TRAIN_PATH = os.path.join('Tensorflow', 'workspace', 'images', 'train')\n",
    "TEST_PATH = os.path.join('Tensorflow', 'workspace', 'images', 'test')\n",
    "ARCHIVE_PATH = os.path.join('Tensorflow', 'workspace', 'images', 'archive.tar.gz')"
   ]
  },
  {
   "cell_type": "code",
   "execution_count": 15,
   "metadata": {},
   "outputs": [
    {
     "name": "stdout",
     "output_type": "stream",
     "text": [
      "tar: Tensorflow/workspace/images/train: Cannot stat: No such file or directory\r\n",
      "tar: Tensorflow/workspace/images/test: Cannot stat: No such file or directory\r\n",
      "tar: Exiting with failure status due to previous errors\r\n"
     ]
    }
   ],
   "source": [
    "!tar -czf {ARCHIVE_PATH} {TRAIN_PATH} {TEST_PATH}"
   ]
  },
  {
   "cell_type": "code",
   "execution_count": null,
   "metadata": {},
   "outputs": [],
   "source": []
  }
 ],
 "metadata": {
  "kernelspec": {
   "display_name": "tfod_3.8",
   "language": "python",
   "name": "tfod_3.8"
  },
  "language_info": {
   "codemirror_mode": {
    "name": "ipython",
    "version": 3
   },
   "file_extension": ".py",
   "mimetype": "text/x-python",
   "name": "python",
   "nbconvert_exporter": "python",
   "pygments_lexer": "ipython3",
   "version": "3.8.10"
  }
 },
 "nbformat": 4,
 "nbformat_minor": 2
}
